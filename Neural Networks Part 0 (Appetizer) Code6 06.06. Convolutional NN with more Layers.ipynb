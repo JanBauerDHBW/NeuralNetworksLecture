{
 "cells": [
  {
   "cell_type": "code",
   "execution_count": 9,
   "metadata": {
    "slideshow": {
     "slide_type": "slide"
    }
   },
   "outputs": [
    {
     "name": "stdout",
     "output_type": "stream",
     "text": [
      "Extracting MNIST_data/train-images-idx3-ubyte.gz\n",
      "Extracting MNIST_data/train-labels-idx1-ubyte.gz\n",
      "Extracting MNIST_data/t10k-images-idx3-ubyte.gz\n",
      "Extracting MNIST_data/t10k-labels-idx1-ubyte.gz\n",
      "55000\n",
      "5000\n",
      "10000\n"
     ]
    }
   ],
   "source": [
    "################################\n",
    "## Getting started & Data Set ##\n",
    "################################\n",
    "\n",
    "import tensorflow as tf\n",
    "\n",
    "from tensorflow.examples.tutorials.mnist import input_data\n",
    "mnist = input_data.read_data_sets(\"MNIST_data/\", one_hot=True)\n",
    "#one_hot=TRUE: Conduct one-hot-encoding, i.e. the digit \"1\" [integer encoding] \n",
    "#              will be represented as (0,1,0,0,0,0,0,0,0,0).\n",
    "#              28x28 pixels are flattened into a 784 vector\n",
    "#              Grayscale of each pixel between 0 and 255 (black 255)\n",
    "\n",
    "print(mnist.train.num_examples) # #55 000 train data\n",
    "print(mnist.validation.num_examples) # #5000 validation data\n",
    "print(mnist.test.num_examples) # #10 000 test data"
   ]
  },
  {
   "cell_type": "code",
   "execution_count": 10,
   "metadata": {
    "slideshow": {
     "slide_type": "slide"
    }
   },
   "outputs": [
    {
     "data": {
      "image/png": "[encoded data removed]",
      "text/plain": [
       "<Figure size 432x288 with 1 Axes>"
      ]
     },
     "metadata": {
      "needs_background": "light"
     },
     "output_type": "display_data"
    },
    {
     "name": "stdout",
     "output_type": "stream",
     "text": [
      "3\n"
     ]
    }
   ],
   "source": [
    "##################################\n",
    "## How does the data look like? ##\n",
    "##################################\n",
    "\n",
    "import numpy as np\n",
    "import matplotlib.pyplot as plt\n",
    "\n",
    "i=1\n",
    "\n",
    "dig = np.argmax(mnist.train.labels[i,:])\n",
    "#argmax due to one-hot encoding.\n",
    "#compare to using:\n",
    "#dig = mnist.train.labels[i,:]\n",
    "\n",
    "img = np.reshape(mnist.train.images[i,:], [28,28])\n",
    "plt.imshow(img, cmap='Greys')\n",
    "plt.show()\n",
    "print(dig)"
   ]
  },
  {
   "cell_type": "code",
   "execution_count": 11,
   "metadata": {
    "slideshow": {
     "slide_type": "slide"
    }
   },
   "outputs": [],
   "source": [
    "####################\n",
    "## Architecture I ##\n",
    "####################\n",
    "\n",
    "## Five Layer NN\n",
    "n_input = 784  # input layer (28x28 pixels)\n",
    "#n_1 = 512  # 1st hidden layer -> is now a convolutional layers\n",
    "n_1 = 4\n",
    "#n_2 = 256  # 2nd hidden layer -> is now a convolutional layers\n",
    "n_2 = 8\n",
    "#n_3 = 128  # 3rd hidden layer -> is now a convolutional layers\n",
    "n_3 = 12\n",
    "n_4 = 512\n",
    "n_5 = 256   # 4th hidden layer\n",
    "n_6 = 128   # 5th hidden layer\n",
    "n_7 = 64    # 6th hidden layer\n",
    "n_output = 10  # output layer (0-9 digits)\n",
    "\n",
    "#Define 2 tensors as placeholders (tensors that we'll feed with values later)\n",
    "\n",
    "x     = tf.placeholder(\"float\", [None, n_input])   #None x 784\n",
    "ystar = tf.placeholder(\"float\", [None, n_output])  #None x 10\n",
    "p     = tf.placeholder(tf.float32)\n",
    "\n",
    "#PREVIOUS: Ystar = Y"
   ]
  },
  {
   "cell_type": "code",
   "execution_count": 12,
   "metadata": {
    "slideshow": {
     "slide_type": "slide"
    }
   },
   "outputs": [],
   "source": [
    "#####################\n",
    "## Hyperparameters ##\n",
    "#####################\n",
    "\n",
    "learning_rate = 1e-4\n",
    "n_iterations = 10000\n",
    "batch_size = 128\n",
    "#batch_size = 4112"
   ]
  },
  {
   "cell_type": "code",
   "execution_count": 13,
   "metadata": {
    "slideshow": {
     "slide_type": "slide"
    }
   },
   "outputs": [],
   "source": [
    "#######################################\n",
    "## Architecture II & Getting Started ##\n",
    "#######################################\n",
    "\n",
    "# Initial values for Weights\n",
    "\n",
    "weights = {\n",
    "    'w1': tf.Variable(tf.truncated_normal([5, 5, 1, n_1], stddev=0.1)),\n",
    "          #5x5 filter, 1 input depth,   n_1 output depth\n",
    "    'w2': tf.Variable(tf.truncated_normal([5, 5, n_1, n_2], stddev=0.1)),\n",
    "          #5x5 filter, n_1 input depth, n_2 output depth\n",
    "    'w3': tf.Variable(tf.truncated_normal([4, 4, n_2, n_3], stddev=0.1)),\n",
    "          #4x4 filter, n_2 input depth, n_3 output depth\n",
    "    'w4': tf.Variable(tf.truncated_normal([7*7*n_3, n_4], stddev=0.1)),\n",
    "          #the output of the last conv. layer is 7 x 7 x n_3 (length x height x depth)\n",
    "          #this cube will be flattened into an 7*7*n_3 tensor\n",
    "    'w5': tf.Variable(tf.truncated_normal([n_4, n_5], stddev=0.1)),\n",
    "    'w6': tf.Variable(tf.truncated_normal([n_5, n_6], stddev=0.1)),\n",
    "    'w7': tf.Variable(tf.truncated_normal([n_6, n_7], stddev=0.1)),\n",
    "    'w8': tf.Variable(tf.truncated_normal([n_7, n_output], stddev=0.1)),\n",
    "}\n",
    "\n",
    "\n",
    "biases = {\n",
    "    'b1': tf.Variable(tf.constant(0.1, shape = [n_1])),\n",
    "    'b2': tf.Variable(tf.constant(0.1, shape = [n_2])),\n",
    "    'b3': tf.Variable(tf.constant(0.1, shape = [n_3])),\n",
    "    'b4': tf.Variable(tf.constant(0.1, shape = [n_4])),\n",
    "    'b5': tf.Variable(tf.constant(0.1, shape = [n_5])),\n",
    "    'b6': tf.Variable(tf.constant(0.1, shape = [n_6])),\n",
    "    'b7': tf.Variable(tf.constant(0.1, shape = [n_7])),\n",
    "    'b8': tf.Variable(tf.constant(0.00001, shape = [n_output])),\n",
    "}\n",
    "\n",
    "\n",
    "\n",
    "\n",
    "h_1 = tf.maximum(tf.nn.conv2d(tf.reshape(x, [-1,28,28,1]), weights['w1'], strides=[1, 1, 1, 1], padding='SAME') + biases['b1'], 0)\n",
    "# we have to reshape the input x to its original 28x28x1 structure\n",
    "# output is 28x28, since input is 28x28 and stride = 1\n",
    "# use ReLU activation function\n",
    "h_2 = tf.maximum(tf.nn.conv2d(h_1, weights['w2'], strides=[1, 2, 2, 1], padding='SAME') + biases['b2'], 0)\n",
    "# output is 14x14, since input is 28x28 and stride = 2 (which halves the input size)\n",
    "# use ReLU activation function\n",
    "h_3 = tf.maximum(tf.nn.conv2d(h_2, weights['w3'], strides=[1, 2, 2, 1], padding='SAME') + biases['b3'], 0)\n",
    "# output is 7x7, since input is 14x14 and stride = 2 (which halves the input size)\n",
    "# use ReLU activation function\n",
    "\n",
    "# Now flatten the output into a 1 x 7*7*n_3 tensor:\n",
    "h_3 = tf.reshape(h_3, shape=[-1, 7 * 7 * n_3])   \n",
    "h_4 = tf.nn.dropout(tf.maximum(tf.add(tf.matmul(h_3, weights['w4']), biases['b4']), 0), p)   #ReLU\n",
    "h_5 = tf.nn.dropout(tf.math.tanh(tf.add(tf.matmul(h_4, weights['w5']), biases['b5'])), p)    #tanh\n",
    "h_6 = tf.nn.dropout(tf.maximum(tf.add(tf.matmul(h_5, weights['w6']), biases['b6']), 0), p)   #ReLU\n",
    "h_7 = tf.nn.dropout(tf.maximum(tf.add(tf.matmul(h_6, weights['w7']), biases['b7']), 0), p)   #ReLU\n",
    "y   = tf.math.softmax(tf.matmul(h_7, weights['w8']) + biases['b8'])                          #Softmax\n",
    "#PREVIOUS: y = output_layer\n"
   ]
  },
  {
   "cell_type": "code",
   "execution_count": 14,
   "metadata": {
    "slideshow": {
     "slide_type": "slide"
    }
   },
   "outputs": [
    {
     "name": "stdout",
     "output_type": "stream",
     "text": [
      "WARNING:tensorflow:From <ipython-input-14-96f371cdcb9d>:8: softmax_cross_entropy_with_logits (from tensorflow.python.ops.nn_ops) is deprecated and will be removed in a future version.\n",
      "Instructions for updating:\n",
      "\n",
      "Future major versions of TensorFlow will allow gradients to flow\n",
      "into the labels input on backprop by default.\n",
      "\n",
      "See `tf.nn.softmax_cross_entropy_with_logits_v2`.\n",
      "\n"
     ]
    }
   ],
   "source": [
    "####################################\n",
    "## Loss Function and Optimization ##\n",
    "####################################\n",
    "#cross_entropy = -tf.reduce_mean(ystar * tf.log(y)) + 0.00001    #don't use the python-function anymore\n",
    "                                                                #code it mathematically\n",
    "cross_entropy = tf.reduce_mean(   \n",
    "    tf.nn.softmax_cross_entropy_with_logits(  #use cross_entropy norm\n",
    "        labels=ystar, logits = y\n",
    "        ))\n",
    "\n",
    "train_step = tf.train.AdamOptimizer(1e-3).minimize(cross_entropy)\n",
    "#                      #use the Adam Gradient Descent Optimizer"
   ]
  },
  {
   "cell_type": "code",
   "execution_count": 15,
   "metadata": {
    "slideshow": {
     "slide_type": "slide"
    }
   },
   "outputs": [],
   "source": [
    "#####################\n",
    "## Define Accuracy ##\n",
    "#####################\n",
    "\n",
    "correct_pred = tf.equal(tf.argmax(y, 1), tf.argmax(ystar, 1))\n",
    "accuracy = tf.reduce_mean(tf.cast(correct_pred, tf.float32))"
   ]
  },
  {
   "cell_type": "code",
   "execution_count": null,
   "metadata": {},
   "outputs": [
    {
     "name": "stdout",
     "output_type": "stream",
     "text": [
      "Iteration 0 \t Minibatch-Loss = 2.2899227 \t Minibatch-Accuracy = 0.15625\n",
      "Iteration 0 \t Test-loss      = 2.3016875 \t Test-Accuracy      = 0.1137\n",
      "------------------------------------------------------------------------------\n",
      "Iteration 100 \t Minibatch-Loss = 2.0135384 \t Minibatch-Accuracy = 0.4609375\n",
      "Iteration 100 \t Test-loss      = 1.9585863 \t Test-Accuracy      = 0.4909\n",
      "------------------------------------------------------------------------------\n",
      "Iteration 200 \t Minibatch-Loss = 1.7767408 \t Minibatch-Accuracy = 0.7109375\n",
      "Iteration 200 \t Test-loss      = 1.6764102 \t Test-Accuracy      = 0.7947\n",
      "------------------------------------------------------------------------------\n",
      "Iteration 300 \t Minibatch-Loss = 1.691487 \t Minibatch-Accuracy = 0.765625\n",
      "Iteration 300 \t Test-loss      = 1.5792787 \t Test-Accuracy      = 0.8823\n",
      "------------------------------------------------------------------------------\n",
      "Iteration 400 \t Minibatch-Loss = 1.5644668 \t Minibatch-Accuracy = 0.8984375\n",
      "Iteration 400 \t Test-loss      = 1.5234687 \t Test-Accuracy      = 0.9381\n",
      "------------------------------------------------------------------------------\n",
      "Iteration 500 \t Minibatch-Loss = 1.5740097 \t Minibatch-Accuracy = 0.8984375\n",
      "Iteration 500 \t Test-loss      = 1.5117228 \t Test-Accuracy      = 0.9493\n",
      "------------------------------------------------------------------------------\n",
      "Iteration 600 \t Minibatch-Loss = 1.5470287 \t Minibatch-Accuracy = 0.9140625\n",
      "Iteration 600 \t Test-loss      = 1.5052004 \t Test-Accuracy      = 0.9558\n",
      "------------------------------------------------------------------------------\n",
      "Iteration 700 \t Minibatch-Loss = 1.537522 \t Minibatch-Accuracy = 0.9296875\n",
      "Iteration 700 \t Test-loss      = 1.5013272 \t Test-Accuracy      = 0.9596\n",
      "------------------------------------------------------------------------------\n",
      "Iteration 800 \t Minibatch-Loss = 1.5563574 \t Minibatch-Accuracy = 0.90625\n",
      "Iteration 800 \t Test-loss      = 1.5051754 \t Test-Accuracy      = 0.9559\n",
      "------------------------------------------------------------------------------\n",
      "Iteration 900 \t Minibatch-Loss = 1.5721858 \t Minibatch-Accuracy = 0.890625\n",
      "Iteration 900 \t Test-loss      = 1.5035921 \t Test-Accuracy      = 0.9576\n",
      "------------------------------------------------------------------------------\n",
      "Iteration 1000 \t Minibatch-Loss = 1.5295625 \t Minibatch-Accuracy = 0.9375\n",
      "Iteration 1000 \t Test-loss      = 1.4964025 \t Test-Accuracy      = 0.9644\n",
      "------------------------------------------------------------------------------\n",
      "Iteration 1100 \t Minibatch-Loss = 1.5197823 \t Minibatch-Accuracy = 0.9375\n",
      "Iteration 1100 \t Test-loss      = 1.4972732 \t Test-Accuracy      = 0.9639\n",
      "------------------------------------------------------------------------------\n",
      "Iteration 1200 \t Minibatch-Loss = 1.5292853 \t Minibatch-Accuracy = 0.9453125\n",
      "Iteration 1200 \t Test-loss      = 1.4915817 \t Test-Accuracy      = 0.9695\n",
      "------------------------------------------------------------------------------\n",
      "Iteration 1300 \t Minibatch-Loss = 1.5495231 \t Minibatch-Accuracy = 0.9140625\n",
      "Iteration 1300 \t Test-loss      = 1.4959282 \t Test-Accuracy      = 0.9649\n",
      "------------------------------------------------------------------------------\n",
      "Iteration 1400 \t Minibatch-Loss = 1.5059036 \t Minibatch-Accuracy = 0.953125\n",
      "Iteration 1400 \t Test-loss      = 1.4928963 \t Test-Accuracy      = 0.9682\n",
      "------------------------------------------------------------------------------\n",
      "Iteration 1500 \t Minibatch-Loss = 1.5056727 \t Minibatch-Accuracy = 0.953125\n",
      "Iteration 1500 \t Test-loss      = 1.4903941 \t Test-Accuracy      = 0.9711\n",
      "------------------------------------------------------------------------------\n",
      "Iteration 1600 \t Minibatch-Loss = 1.503544 \t Minibatch-Accuracy = 0.953125\n",
      "Iteration 1600 \t Test-loss      = 1.4923166 \t Test-Accuracy      = 0.9688\n",
      "------------------------------------------------------------------------------\n",
      "Iteration 1700 \t Minibatch-Loss = 1.5384921 \t Minibatch-Accuracy = 0.921875\n",
      "Iteration 1700 \t Test-loss      = 1.4878113 \t Test-Accuracy      = 0.9732\n",
      "------------------------------------------------------------------------------\n",
      "Iteration 1800 \t Minibatch-Loss = 1.5506899 \t Minibatch-Accuracy = 0.90625\n",
      "Iteration 1800 \t Test-loss      = 1.4904959 \t Test-Accuracy      = 0.9707\n",
      "------------------------------------------------------------------------------\n",
      "Iteration 1900 \t Minibatch-Loss = 1.5106798 \t Minibatch-Accuracy = 0.953125\n",
      "Iteration 1900 \t Test-loss      = 1.488738 \t Test-Accuracy      = 0.9722\n",
      "------------------------------------------------------------------------------\n",
      "Iteration 2000 \t Minibatch-Loss = 1.5105996 \t Minibatch-Accuracy = 0.953125\n",
      "Iteration 2000 \t Test-loss      = 1.4880452 \t Test-Accuracy      = 0.9728\n",
      "------------------------------------------------------------------------------\n",
      "Iteration 2100 \t Minibatch-Loss = 1.4891756 \t Minibatch-Accuracy = 0.96875\n",
      "Iteration 2100 \t Test-loss      = 1.4921052 \t Test-Accuracy      = 0.9691\n",
      "------------------------------------------------------------------------------\n",
      "Iteration 2200 \t Minibatch-Loss = 1.4689705 \t Minibatch-Accuracy = 0.9921875\n",
      "Iteration 2200 \t Test-loss      = 1.4878231 \t Test-Accuracy      = 0.9733\n",
      "------------------------------------------------------------------------------\n",
      "Iteration 2300 \t Minibatch-Loss = 1.5232092 \t Minibatch-Accuracy = 0.9375\n",
      "Iteration 2300 \t Test-loss      = 1.4869109 \t Test-Accuracy      = 0.974\n",
      "------------------------------------------------------------------------------\n",
      "Iteration 2400 \t Minibatch-Loss = 1.4849079 \t Minibatch-Accuracy = 0.9765625\n",
      "Iteration 2400 \t Test-loss      = 1.4888095 \t Test-Accuracy      = 0.9721\n",
      "------------------------------------------------------------------------------\n",
      "Iteration 2500 \t Minibatch-Loss = 1.4764053 \t Minibatch-Accuracy = 0.984375\n",
      "Iteration 2500 \t Test-loss      = 1.4858199 \t Test-Accuracy      = 0.975\n",
      "------------------------------------------------------------------------------\n",
      "Iteration 2600 \t Minibatch-Loss = 1.4977586 \t Minibatch-Accuracy = 0.9609375\n",
      "Iteration 2600 \t Test-loss      = 1.4858898 \t Test-Accuracy      = 0.975\n",
      "------------------------------------------------------------------------------\n",
      "Iteration 2700 \t Minibatch-Loss = 1.5011901 \t Minibatch-Accuracy = 0.9609375\n",
      "Iteration 2700 \t Test-loss      = 1.4847578 \t Test-Accuracy      = 0.9764\n",
      "------------------------------------------------------------------------------\n",
      "Iteration 2800 \t Minibatch-Loss = 1.4867436 \t Minibatch-Accuracy = 0.9765625\n",
      "Iteration 2800 \t Test-loss      = 1.4841436 \t Test-Accuracy      = 0.9769\n",
      "------------------------------------------------------------------------------\n",
      "Iteration 2900 \t Minibatch-Loss = 1.4964046 \t Minibatch-Accuracy = 0.9609375\n",
      "Iteration 2900 \t Test-loss      = 1.4902081 \t Test-Accuracy      = 0.9709\n",
      "------------------------------------------------------------------------------\n",
      "Iteration 3000 \t Minibatch-Loss = 1.5187243 \t Minibatch-Accuracy = 0.9453125\n",
      "Iteration 3000 \t Test-loss      = 1.4840825 \t Test-Accuracy      = 0.977\n",
      "------------------------------------------------------------------------------\n",
      "Iteration 3100 \t Minibatch-Loss = 1.5188626 \t Minibatch-Accuracy = 0.9453125\n",
      "Iteration 3100 \t Test-loss      = 1.4876752 \t Test-Accuracy      = 0.9735\n",
      "------------------------------------------------------------------------------\n",
      "Iteration 3200 \t Minibatch-Loss = 1.5081718 \t Minibatch-Accuracy = 0.953125\n",
      "Iteration 3200 \t Test-loss      = 1.4864744 \t Test-Accuracy      = 0.9748\n",
      "------------------------------------------------------------------------------\n",
      "Iteration 3300 \t Minibatch-Loss = 1.5050228 \t Minibatch-Accuracy = 0.9609375\n",
      "Iteration 3300 \t Test-loss      = 1.4847273 \t Test-Accuracy      = 0.9762\n",
      "------------------------------------------------------------------------------\n",
      "Iteration 3400 \t Minibatch-Loss = 1.4768438 \t Minibatch-Accuracy = 0.984375\n",
      "Iteration 3400 \t Test-loss      = 1.4843906 \t Test-Accuracy      = 0.9766\n",
      "------------------------------------------------------------------------------\n",
      "Iteration 3500 \t Minibatch-Loss = 1.5079799 \t Minibatch-Accuracy = 0.953125\n",
      "Iteration 3500 \t Test-loss      = 1.4853815 \t Test-Accuracy      = 0.9759\n",
      "------------------------------------------------------------------------------\n"
     ]
    },
    {
     "name": "stdout",
     "output_type": "stream",
     "text": [
      "Iteration 3600 \t Minibatch-Loss = 1.5145142 \t Minibatch-Accuracy = 0.9453125\n",
      "Iteration 3600 \t Test-loss      = 1.4836637 \t Test-Accuracy      = 0.9775\n",
      "------------------------------------------------------------------------------\n",
      "Iteration 3700 \t Minibatch-Loss = 1.5009458 \t Minibatch-Accuracy = 0.9609375\n",
      "Iteration 3700 \t Test-loss      = 1.4852984 \t Test-Accuracy      = 0.9759\n",
      "------------------------------------------------------------------------------\n",
      "Iteration 3800 \t Minibatch-Loss = 1.4936577 \t Minibatch-Accuracy = 0.96875\n",
      "Iteration 3800 \t Test-loss      = 1.4850017 \t Test-Accuracy      = 0.976\n",
      "------------------------------------------------------------------------------\n",
      "Iteration 3900 \t Minibatch-Loss = 1.4771861 \t Minibatch-Accuracy = 0.984375\n",
      "Iteration 3900 \t Test-loss      = 1.4900789 \t Test-Accuracy      = 0.971\n",
      "------------------------------------------------------------------------------\n",
      "Iteration 4000 \t Minibatch-Loss = 1.5002666 \t Minibatch-Accuracy = 0.9609375\n",
      "Iteration 4000 \t Test-loss      = 1.4839483 \t Test-Accuracy      = 0.9769\n",
      "------------------------------------------------------------------------------\n",
      "Iteration 4100 \t Minibatch-Loss = 1.5024583 \t Minibatch-Accuracy = 0.9609375\n",
      "Iteration 4100 \t Test-loss      = 1.4855074 \t Test-Accuracy      = 0.9757\n",
      "------------------------------------------------------------------------------\n",
      "Iteration 4200 \t Minibatch-Loss = 1.500211 \t Minibatch-Accuracy = 0.9609375\n",
      "Iteration 4200 \t Test-loss      = 1.4841088 \t Test-Accuracy      = 0.9769\n",
      "------------------------------------------------------------------------------\n",
      "Iteration 4300 \t Minibatch-Loss = 1.471602 \t Minibatch-Accuracy = 0.9921875\n",
      "Iteration 4300 \t Test-loss      = 1.4839108 \t Test-Accuracy      = 0.977\n",
      "------------------------------------------------------------------------------\n",
      "Iteration 4400 \t Minibatch-Loss = 1.4805299 \t Minibatch-Accuracy = 0.984375\n",
      "Iteration 4400 \t Test-loss      = 1.4828544 \t Test-Accuracy      = 0.9782\n",
      "------------------------------------------------------------------------------\n",
      "Iteration 4500 \t Minibatch-Loss = 1.4957225 \t Minibatch-Accuracy = 0.96875\n",
      "Iteration 4500 \t Test-loss      = 1.4837797 \t Test-Accuracy      = 0.9771\n",
      "------------------------------------------------------------------------------\n",
      "Iteration 4600 \t Minibatch-Loss = 1.4873595 \t Minibatch-Accuracy = 0.9765625\n",
      "Iteration 4600 \t Test-loss      = 1.4827516 \t Test-Accuracy      = 0.9784\n",
      "------------------------------------------------------------------------------\n",
      "Iteration 4700 \t Minibatch-Loss = 1.503275 \t Minibatch-Accuracy = 0.9609375\n",
      "Iteration 4700 \t Test-loss      = 1.4843886 \t Test-Accuracy      = 0.9767\n",
      "------------------------------------------------------------------------------\n",
      "Iteration 4800 \t Minibatch-Loss = 1.4926937 \t Minibatch-Accuracy = 0.96875\n",
      "Iteration 4800 \t Test-loss      = 1.4818853 \t Test-Accuracy      = 0.9792\n",
      "------------------------------------------------------------------------------\n",
      "Iteration 4900 \t Minibatch-Loss = 1.4795702 \t Minibatch-Accuracy = 0.984375\n",
      "Iteration 4900 \t Test-loss      = 1.4825243 \t Test-Accuracy      = 0.9785\n",
      "------------------------------------------------------------------------------\n",
      "Iteration 5000 \t Minibatch-Loss = 1.4849463 \t Minibatch-Accuracy = 0.9765625\n",
      "Iteration 5000 \t Test-loss      = 1.4841526 \t Test-Accuracy      = 0.9769\n",
      "------------------------------------------------------------------------------\n",
      "Iteration 5100 \t Minibatch-Loss = 1.4767195 \t Minibatch-Accuracy = 0.984375\n",
      "Iteration 5100 \t Test-loss      = 1.4826577 \t Test-Accuracy      = 0.9787\n",
      "------------------------------------------------------------------------------\n",
      "Iteration 5200 \t Minibatch-Loss = 1.4768419 \t Minibatch-Accuracy = 0.984375\n",
      "Iteration 5200 \t Test-loss      = 1.4822569 \t Test-Accuracy      = 0.9788\n",
      "------------------------------------------------------------------------------\n",
      "Iteration 5300 \t Minibatch-Loss = 1.482612 \t Minibatch-Accuracy = 0.9765625\n",
      "Iteration 5300 \t Test-loss      = 1.4828506 \t Test-Accuracy      = 0.9781\n",
      "------------------------------------------------------------------------------\n",
      "Iteration 5400 \t Minibatch-Loss = 1.4999087 \t Minibatch-Accuracy = 0.9609375\n",
      "Iteration 5400 \t Test-loss      = 1.4811621 \t Test-Accuracy      = 0.9798\n",
      "------------------------------------------------------------------------------\n",
      "Iteration 5500 \t Minibatch-Loss = 1.4718485 \t Minibatch-Accuracy = 0.9921875\n",
      "Iteration 5500 \t Test-loss      = 1.4814605 \t Test-Accuracy      = 0.9796\n",
      "------------------------------------------------------------------------------\n",
      "Iteration 5600 \t Minibatch-Loss = 1.5082601 \t Minibatch-Accuracy = 0.953125\n",
      "Iteration 5600 \t Test-loss      = 1.4813744 \t Test-Accuracy      = 0.9796\n",
      "------------------------------------------------------------------------------\n",
      "Iteration 5700 \t Minibatch-Loss = 1.4900831 \t Minibatch-Accuracy = 0.96875\n",
      "Iteration 5700 \t Test-loss      = 1.481666 \t Test-Accuracy      = 0.9795\n",
      "------------------------------------------------------------------------------\n",
      "Iteration 5800 \t Minibatch-Loss = 1.4929194 \t Minibatch-Accuracy = 0.96875\n",
      "Iteration 5800 \t Test-loss      = 1.4846337 \t Test-Accuracy      = 0.9765\n",
      "------------------------------------------------------------------------------\n",
      "Iteration 5900 \t Minibatch-Loss = 1.5076218 \t Minibatch-Accuracy = 0.953125\n",
      "Iteration 5900 \t Test-loss      = 1.4822768 \t Test-Accuracy      = 0.9788\n",
      "------------------------------------------------------------------------------\n",
      "Iteration 6000 \t Minibatch-Loss = 1.4994452 \t Minibatch-Accuracy = 0.9609375\n",
      "Iteration 6000 \t Test-loss      = 1.4821413 \t Test-Accuracy      = 0.979\n",
      "------------------------------------------------------------------------------\n",
      "Iteration 6100 \t Minibatch-Loss = 1.4849542 \t Minibatch-Accuracy = 0.9765625\n",
      "Iteration 6100 \t Test-loss      = 1.4807547 \t Test-Accuracy      = 0.9804\n",
      "------------------------------------------------------------------------------\n",
      "Iteration 6200 \t Minibatch-Loss = 1.5040948 \t Minibatch-Accuracy = 0.953125\n",
      "Iteration 6200 \t Test-loss      = 1.4923627 \t Test-Accuracy      = 0.969\n",
      "------------------------------------------------------------------------------\n",
      "Iteration 6300 \t Minibatch-Loss = 1.4710531 \t Minibatch-Accuracy = 0.9921875\n",
      "Iteration 6300 \t Test-loss      = 1.4818742 \t Test-Accuracy      = 0.9792\n",
      "------------------------------------------------------------------------------\n",
      "Iteration 6400 \t Minibatch-Loss = 1.4845493 \t Minibatch-Accuracy = 0.9765625\n",
      "Iteration 6400 \t Test-loss      = 1.4805411 \t Test-Accuracy      = 0.9807\n",
      "------------------------------------------------------------------------------\n",
      "Iteration 6500 \t Minibatch-Loss = 1.4842309 \t Minibatch-Accuracy = 0.9765625\n",
      "Iteration 6500 \t Test-loss      = 1.4818861 \t Test-Accuracy      = 0.9794\n",
      "------------------------------------------------------------------------------\n",
      "Iteration 6600 \t Minibatch-Loss = 1.5137944 \t Minibatch-Accuracy = 0.953125\n",
      "Iteration 6600 \t Test-loss      = 1.4817524 \t Test-Accuracy      = 0.9793\n",
      "------------------------------------------------------------------------------\n",
      "Iteration 6700 \t Minibatch-Loss = 1.4681121 \t Minibatch-Accuracy = 0.9921875\n",
      "Iteration 6700 \t Test-loss      = 1.4835047 \t Test-Accuracy      = 0.9775\n",
      "------------------------------------------------------------------------------\n",
      "Iteration 6800 \t Minibatch-Loss = 1.4978678 \t Minibatch-Accuracy = 0.9609375\n",
      "Iteration 6800 \t Test-loss      = 1.4820999 \t Test-Accuracy      = 0.9789\n",
      "------------------------------------------------------------------------------\n",
      "Iteration 6900 \t Minibatch-Loss = 1.4906201 \t Minibatch-Accuracy = 0.96875\n",
      "Iteration 6900 \t Test-loss      = 1.4810702 \t Test-Accuracy      = 0.98\n",
      "------------------------------------------------------------------------------\n",
      "Iteration 7000 \t Minibatch-Loss = 1.4767865 \t Minibatch-Accuracy = 0.984375\n",
      "Iteration 7000 \t Test-loss      = 1.4812795 \t Test-Accuracy      = 0.98\n",
      "------------------------------------------------------------------------------\n",
      "Iteration 7100 \t Minibatch-Loss = 1.4845892 \t Minibatch-Accuracy = 0.9765625\n",
      "Iteration 7100 \t Test-loss      = 1.481617 \t Test-Accuracy      = 0.9795\n",
      "------------------------------------------------------------------------------\n"
     ]
    }
   ],
   "source": [
    "################\n",
    "## Run the NN ##\n",
    "################\n",
    "dropout = 0.5\n",
    "init = tf.global_variables_initializer()\n",
    "sess = tf.Session()\n",
    "sess.run(init)\n",
    "\n",
    "t_loss = [None] * int(n_iterations/100)\n",
    "b_loss = [None] * int(n_iterations/100)\n",
    "\n",
    "t_acc = [None] * int(n_iterations/100)\n",
    "b_acc = [None] * int(n_iterations/100)\n",
    "\n",
    "for i in range(n_iterations):\n",
    "    batch_x, batch_y = mnist.train.next_batch(batch_size)\n",
    "    \n",
    "    #batch_x = tf.reshape(batch_x, [-1,28,28,1])\n",
    "    sess.run(train_step, feed_dict={\n",
    "        x: batch_x, ystar: batch_y, p: 0.5}\n",
    "            )\n",
    "\n",
    "    # print loss and accuracy (per minibatch)\n",
    "    if i % 100 == 0:\n",
    "        minibatch_loss, minibatch_accuracy = sess.run(\n",
    "            [cross_entropy, accuracy],\n",
    "            feed_dict={x: batch_x, ystar: batch_y, p: 0.5}\n",
    "            )\n",
    "        \n",
    "        test_accuracy = sess.run(accuracy, feed_dict={\n",
    "            x: mnist.test.images, ystar: mnist.test.labels, p: 1\n",
    "        })\n",
    "        test_loss     = sess.run(cross_entropy, feed_dict={\n",
    "            x: mnist.test.images, ystar: mnist.test.labels, p: 1\n",
    "        }) \n",
    "        \n",
    "        \n",
    "        j=int(i/100)\n",
    "        t_loss[j] = test_loss\n",
    "        b_loss[j] = minibatch_loss\n",
    "        \n",
    "        t_acc[j]  = test_accuracy\n",
    "        b_acc[j]  = minibatch_accuracy\n",
    "        \n",
    "        print(\n",
    "            \"Iteration\",\n",
    "            str(i),\n",
    "            \"\\t Minibatch-Loss =\",\n",
    "            str(minibatch_loss),\n",
    "            \"\\t Minibatch-Accuracy =\",\n",
    "            str(minibatch_accuracy))\n",
    "        print(\n",
    "            \"Iteration\",\n",
    "            str(i),\n",
    "            \"\\t Test-loss      =\",\n",
    "            str(test_loss),\n",
    "            \"\\t Test-Accuracy      =\",\n",
    "            str(test_accuracy)\n",
    "            )\n",
    "        print(\"------------------------------------------------------------------------------\")"
   ]
  },
  {
   "cell_type": "code",
   "execution_count": 20,
   "metadata": {},
   "outputs": [
    {
     "data": {
      "image/png": "[encoded data removed]",
      "text/plain": [
       "<Figure size 432x288 with 1 Axes>"
      ]
     },
     "metadata": {
      "needs_background": "light"
     },
     "output_type": "display_data"
    },
    {
     "ename": "InvalidArgumentError",
     "evalue": "You must feed a value for placeholder tensor 'Placeholder_5' with dtype float\n\t [[node Placeholder_5 (defined at <ipython-input-10-c677e8dac514>:24) ]]\n\nCaused by op 'Placeholder_5', defined at:\n  File \"/Library/Frameworks/Python.framework/Versions/3.7/lib/python3.7/runpy.py\", line 193, in _run_module_as_main\n    \"__main__\", mod_spec)\n  File \"/Library/Frameworks/Python.framework/Versions/3.7/lib/python3.7/runpy.py\", line 85, in _run_code\n    exec(code, run_globals)\n  File \"/Library/Frameworks/Python.framework/Versions/3.7/lib/python3.7/site-packages/ipykernel_launcher.py\", line 16, in <module>\n    app.launch_new_instance()\n  File \"/Library/Frameworks/Python.framework/Versions/3.7/lib/python3.7/site-packages/traitlets/config/application.py\", line 658, in launch_instance\n    app.start()\n  File \"/Library/Frameworks/Python.framework/Versions/3.7/lib/python3.7/site-packages/ipykernel/kernelapp.py\", line 505, in start\n    self.io_loop.start()\n  File \"/Library/Frameworks/Python.framework/Versions/3.7/lib/python3.7/site-packages/tornado/platform/asyncio.py\", line 148, in start\n    self.asyncio_loop.run_forever()\n  File \"/Library/Frameworks/Python.framework/Versions/3.7/lib/python3.7/asyncio/base_events.py\", line 539, in run_forever\n    self._run_once()\n  File \"/Library/Frameworks/Python.framework/Versions/3.7/lib/python3.7/asyncio/base_events.py\", line 1775, in _run_once\n    handle._run()\n  File \"/Library/Frameworks/Python.framework/Versions/3.7/lib/python3.7/asyncio/events.py\", line 88, in _run\n    self._context.run(self._callback, *self._args)\n  File \"/Library/Frameworks/Python.framework/Versions/3.7/lib/python3.7/site-packages/tornado/ioloop.py\", line 690, in <lambda>\n    lambda f: self._run_callback(functools.partial(callback, future))\n  File \"/Library/Frameworks/Python.framework/Versions/3.7/lib/python3.7/site-packages/tornado/ioloop.py\", line 743, in _run_callback\n    ret = callback()\n  File \"/Library/Frameworks/Python.framework/Versions/3.7/lib/python3.7/site-packages/tornado/gen.py\", line 781, in inner\n    self.run()\n  File \"/Library/Frameworks/Python.framework/Versions/3.7/lib/python3.7/site-packages/tornado/gen.py\", line 742, in run\n    yielded = self.gen.send(value)\n  File \"/Library/Frameworks/Python.framework/Versions/3.7/lib/python3.7/site-packages/ipykernel/kernelbase.py\", line 357, in process_one\n    yield gen.maybe_future(dispatch(*args))\n  File \"/Library/Frameworks/Python.framework/Versions/3.7/lib/python3.7/site-packages/tornado/gen.py\", line 209, in wrapper\n    yielded = next(result)\n  File \"/Library/Frameworks/Python.framework/Versions/3.7/lib/python3.7/site-packages/ipykernel/kernelbase.py\", line 267, in dispatch_shell\n    yield gen.maybe_future(handler(stream, idents, msg))\n  File \"/Library/Frameworks/Python.framework/Versions/3.7/lib/python3.7/site-packages/tornado/gen.py\", line 209, in wrapper\n    yielded = next(result)\n  File \"/Library/Frameworks/Python.framework/Versions/3.7/lib/python3.7/site-packages/ipykernel/kernelbase.py\", line 534, in execute_request\n    user_expressions, allow_stdin,\n  File \"/Library/Frameworks/Python.framework/Versions/3.7/lib/python3.7/site-packages/tornado/gen.py\", line 209, in wrapper\n    yielded = next(result)\n  File \"/Library/Frameworks/Python.framework/Versions/3.7/lib/python3.7/site-packages/ipykernel/ipkernel.py\", line 294, in do_execute\n    res = shell.run_cell(code, store_history=store_history, silent=silent)\n  File \"/Library/Frameworks/Python.framework/Versions/3.7/lib/python3.7/site-packages/ipykernel/zmqshell.py\", line 536, in run_cell\n    return super(ZMQInteractiveShell, self).run_cell(*args, **kwargs)\n  File \"/Library/Frameworks/Python.framework/Versions/3.7/lib/python3.7/site-packages/IPython/core/interactiveshell.py\", line 2848, in run_cell\n    raw_cell, store_history, silent, shell_futures)\n  File \"/Library/Frameworks/Python.framework/Versions/3.7/lib/python3.7/site-packages/IPython/core/interactiveshell.py\", line 2874, in _run_cell\n    return runner(coro)\n  File \"/Library/Frameworks/Python.framework/Versions/3.7/lib/python3.7/site-packages/IPython/core/async_helpers.py\", line 67, in _pseudo_sync_runner\n    coro.send(None)\n  File \"/Library/Frameworks/Python.framework/Versions/3.7/lib/python3.7/site-packages/IPython/core/interactiveshell.py\", line 3049, in run_cell_async\n    interactivity=interactivity, compiler=compiler, result=result)\n  File \"/Library/Frameworks/Python.framework/Versions/3.7/lib/python3.7/site-packages/IPython/core/interactiveshell.py\", line 3214, in run_ast_nodes\n    if (yield from self.run_code(code, result)):\n  File \"/Library/Frameworks/Python.framework/Versions/3.7/lib/python3.7/site-packages/IPython/core/interactiveshell.py\", line 3296, in run_code\n    exec(code_obj, self.user_global_ns, self.user_ns)\n  File \"<ipython-input-10-c677e8dac514>\", line 24, in <module>\n    p     = tf.placeholder(tf.float32)\n  File \"/Library/Frameworks/Python.framework/Versions/3.7/lib/python3.7/site-packages/tensorflow/python/ops/array_ops.py\", line 2077, in placeholder\n    return gen_array_ops.placeholder(dtype=dtype, shape=shape, name=name)\n  File \"/Library/Frameworks/Python.framework/Versions/3.7/lib/python3.7/site-packages/tensorflow/python/ops/gen_array_ops.py\", line 5791, in placeholder\n    \"Placeholder\", dtype=dtype, shape=shape, name=name)\n  File \"/Library/Frameworks/Python.framework/Versions/3.7/lib/python3.7/site-packages/tensorflow/python/framework/op_def_library.py\", line 788, in _apply_op_helper\n    op_def=op_def)\n  File \"/Library/Frameworks/Python.framework/Versions/3.7/lib/python3.7/site-packages/tensorflow/python/util/deprecation.py\", line 507, in new_func\n    return func(*args, **kwargs)\n  File \"/Library/Frameworks/Python.framework/Versions/3.7/lib/python3.7/site-packages/tensorflow/python/framework/ops.py\", line 3300, in create_op\n    op_def=op_def)\n  File \"/Library/Frameworks/Python.framework/Versions/3.7/lib/python3.7/site-packages/tensorflow/python/framework/ops.py\", line 1801, in __init__\n    self._traceback = tf_stack.extract_stack()\n\nInvalidArgumentError (see above for traceback): You must feed a value for placeholder tensor 'Placeholder_5' with dtype float\n\t [[node Placeholder_5 (defined at <ipython-input-10-c677e8dac514>:24) ]]\n",
     "output_type": "error",
     "traceback": [
      "\u001b[0;31m---------------------------------------------------------------------------\u001b[0m",
      "\u001b[0;31mInvalidArgumentError\u001b[0m                      Traceback (most recent call last)",
      "\u001b[0;32m/Library/Frameworks/Python.framework/Versions/3.7/lib/python3.7/site-packages/tensorflow/python/client/session.py\u001b[0m in \u001b[0;36m_do_call\u001b[0;34m(self, fn, *args)\u001b[0m\n\u001b[1;32m   1333\u001b[0m     \u001b[0;32mtry\u001b[0m\u001b[0;34m:\u001b[0m\u001b[0;34m\u001b[0m\u001b[0;34m\u001b[0m\u001b[0m\n\u001b[0;32m-> 1334\u001b[0;31m       \u001b[0;32mreturn\u001b[0m \u001b[0mfn\u001b[0m\u001b[0;34m(\u001b[0m\u001b[0;34m*\u001b[0m\u001b[0margs\u001b[0m\u001b[0;34m)\u001b[0m\u001b[0;34m\u001b[0m\u001b[0;34m\u001b[0m\u001b[0m\n\u001b[0m\u001b[1;32m   1335\u001b[0m     \u001b[0;32mexcept\u001b[0m \u001b[0merrors\u001b[0m\u001b[0;34m.\u001b[0m\u001b[0mOpError\u001b[0m \u001b[0;32mas\u001b[0m \u001b[0me\u001b[0m\u001b[0;34m:\u001b[0m\u001b[0;34m\u001b[0m\u001b[0;34m\u001b[0m\u001b[0m\n",
      "\u001b[0;32m/Library/Frameworks/Python.framework/Versions/3.7/lib/python3.7/site-packages/tensorflow/python/client/session.py\u001b[0m in \u001b[0;36m_run_fn\u001b[0;34m(feed_dict, fetch_list, target_list, options, run_metadata)\u001b[0m\n\u001b[1;32m   1318\u001b[0m       return self._call_tf_sessionrun(\n\u001b[0;32m-> 1319\u001b[0;31m           options, feed_dict, fetch_list, target_list, run_metadata)\n\u001b[0m\u001b[1;32m   1320\u001b[0m \u001b[0;34m\u001b[0m\u001b[0m\n",
      "\u001b[0;32m/Library/Frameworks/Python.framework/Versions/3.7/lib/python3.7/site-packages/tensorflow/python/client/session.py\u001b[0m in \u001b[0;36m_call_tf_sessionrun\u001b[0;34m(self, options, feed_dict, fetch_list, target_list, run_metadata)\u001b[0m\n\u001b[1;32m   1406\u001b[0m         \u001b[0mself\u001b[0m\u001b[0;34m.\u001b[0m\u001b[0m_session\u001b[0m\u001b[0;34m,\u001b[0m \u001b[0moptions\u001b[0m\u001b[0;34m,\u001b[0m \u001b[0mfeed_dict\u001b[0m\u001b[0;34m,\u001b[0m \u001b[0mfetch_list\u001b[0m\u001b[0;34m,\u001b[0m \u001b[0mtarget_list\u001b[0m\u001b[0;34m,\u001b[0m\u001b[0;34m\u001b[0m\u001b[0;34m\u001b[0m\u001b[0m\n\u001b[0;32m-> 1407\u001b[0;31m         run_metadata)\n\u001b[0m\u001b[1;32m   1408\u001b[0m \u001b[0;34m\u001b[0m\u001b[0m\n",
      "\u001b[0;31mInvalidArgumentError\u001b[0m: You must feed a value for placeholder tensor 'Placeholder_5' with dtype float\n\t [[{{node Placeholder_5}}]]",
      "\nDuring handling of the above exception, another exception occurred:\n",
      "\u001b[0;31mInvalidArgumentError\u001b[0m                      Traceback (most recent call last)",
      "\u001b[0;32m<ipython-input-20-a8c8fd07e64c>\u001b[0m in \u001b[0;36m<module>\u001b[0;34m\u001b[0m\n\u001b[1;32m     12\u001b[0m \u001b[0;31m#print(dig)\u001b[0m\u001b[0;34m\u001b[0m\u001b[0;34m\u001b[0m\u001b[0;34m\u001b[0m\u001b[0m\n\u001b[1;32m     13\u001b[0m \u001b[0;34m\u001b[0m\u001b[0m\n\u001b[0;32m---> 14\u001b[0;31m \u001b[0mprediction\u001b[0m \u001b[0;34m=\u001b[0m \u001b[0msess\u001b[0m\u001b[0;34m.\u001b[0m\u001b[0mrun\u001b[0m\u001b[0;34m(\u001b[0m\u001b[0mtf\u001b[0m\u001b[0;34m.\u001b[0m\u001b[0margmax\u001b[0m\u001b[0;34m(\u001b[0m\u001b[0my\u001b[0m\u001b[0;34m,\u001b[0m \u001b[0;36m1\u001b[0m\u001b[0;34m)\u001b[0m\u001b[0;34m,\u001b[0m \u001b[0mfeed_dict\u001b[0m\u001b[0;34m=\u001b[0m\u001b[0;34m{\u001b[0m\u001b[0mx\u001b[0m\u001b[0;34m:\u001b[0m \u001b[0mmnist\u001b[0m\u001b[0;34m.\u001b[0m\u001b[0mtest\u001b[0m\u001b[0;34m.\u001b[0m\u001b[0mimages\u001b[0m\u001b[0;34m}\u001b[0m\u001b[0;34m)\u001b[0m\u001b[0;34m\u001b[0m\u001b[0;34m\u001b[0m\u001b[0m\n\u001b[0m\u001b[1;32m     15\u001b[0m \u001b[0mprint\u001b[0m \u001b[0;34m(\u001b[0m\u001b[0;34m\"Prediction:\"\u001b[0m\u001b[0;34m,\u001b[0m \u001b[0mnp\u001b[0m\u001b[0;34m.\u001b[0m\u001b[0msqueeze\u001b[0m\u001b[0;34m(\u001b[0m\u001b[0mprediction\u001b[0m\u001b[0;34m)\u001b[0m\u001b[0;34m[\u001b[0m\u001b[0mtest_digit\u001b[0m\u001b[0;34m]\u001b[0m\u001b[0;34m)\u001b[0m\u001b[0;34m\u001b[0m\u001b[0;34m\u001b[0m\u001b[0m\n",
      "\u001b[0;32m/Library/Frameworks/Python.framework/Versions/3.7/lib/python3.7/site-packages/tensorflow/python/client/session.py\u001b[0m in \u001b[0;36mrun\u001b[0;34m(self, fetches, feed_dict, options, run_metadata)\u001b[0m\n\u001b[1;32m    927\u001b[0m     \u001b[0;32mtry\u001b[0m\u001b[0;34m:\u001b[0m\u001b[0;34m\u001b[0m\u001b[0;34m\u001b[0m\u001b[0m\n\u001b[1;32m    928\u001b[0m       result = self._run(None, fetches, feed_dict, options_ptr,\n\u001b[0;32m--> 929\u001b[0;31m                          run_metadata_ptr)\n\u001b[0m\u001b[1;32m    930\u001b[0m       \u001b[0;32mif\u001b[0m \u001b[0mrun_metadata\u001b[0m\u001b[0;34m:\u001b[0m\u001b[0;34m\u001b[0m\u001b[0;34m\u001b[0m\u001b[0m\n\u001b[1;32m    931\u001b[0m         \u001b[0mproto_data\u001b[0m \u001b[0;34m=\u001b[0m \u001b[0mtf_session\u001b[0m\u001b[0;34m.\u001b[0m\u001b[0mTF_GetBuffer\u001b[0m\u001b[0;34m(\u001b[0m\u001b[0mrun_metadata_ptr\u001b[0m\u001b[0;34m)\u001b[0m\u001b[0;34m\u001b[0m\u001b[0;34m\u001b[0m\u001b[0m\n",
      "\u001b[0;32m/Library/Frameworks/Python.framework/Versions/3.7/lib/python3.7/site-packages/tensorflow/python/client/session.py\u001b[0m in \u001b[0;36m_run\u001b[0;34m(self, handle, fetches, feed_dict, options, run_metadata)\u001b[0m\n\u001b[1;32m   1150\u001b[0m     \u001b[0;32mif\u001b[0m \u001b[0mfinal_fetches\u001b[0m \u001b[0;32mor\u001b[0m \u001b[0mfinal_targets\u001b[0m \u001b[0;32mor\u001b[0m \u001b[0;34m(\u001b[0m\u001b[0mhandle\u001b[0m \u001b[0;32mand\u001b[0m \u001b[0mfeed_dict_tensor\u001b[0m\u001b[0;34m)\u001b[0m\u001b[0;34m:\u001b[0m\u001b[0;34m\u001b[0m\u001b[0;34m\u001b[0m\u001b[0m\n\u001b[1;32m   1151\u001b[0m       results = self._do_run(handle, final_targets, final_fetches,\n\u001b[0;32m-> 1152\u001b[0;31m                              feed_dict_tensor, options, run_metadata)\n\u001b[0m\u001b[1;32m   1153\u001b[0m     \u001b[0;32melse\u001b[0m\u001b[0;34m:\u001b[0m\u001b[0;34m\u001b[0m\u001b[0;34m\u001b[0m\u001b[0m\n\u001b[1;32m   1154\u001b[0m       \u001b[0mresults\u001b[0m \u001b[0;34m=\u001b[0m \u001b[0;34m[\u001b[0m\u001b[0;34m]\u001b[0m\u001b[0;34m\u001b[0m\u001b[0;34m\u001b[0m\u001b[0m\n",
      "\u001b[0;32m/Library/Frameworks/Python.framework/Versions/3.7/lib/python3.7/site-packages/tensorflow/python/client/session.py\u001b[0m in \u001b[0;36m_do_run\u001b[0;34m(self, handle, target_list, fetch_list, feed_dict, options, run_metadata)\u001b[0m\n\u001b[1;32m   1326\u001b[0m     \u001b[0;32mif\u001b[0m \u001b[0mhandle\u001b[0m \u001b[0;32mis\u001b[0m \u001b[0;32mNone\u001b[0m\u001b[0;34m:\u001b[0m\u001b[0;34m\u001b[0m\u001b[0;34m\u001b[0m\u001b[0m\n\u001b[1;32m   1327\u001b[0m       return self._do_call(_run_fn, feeds, fetches, targets, options,\n\u001b[0;32m-> 1328\u001b[0;31m                            run_metadata)\n\u001b[0m\u001b[1;32m   1329\u001b[0m     \u001b[0;32melse\u001b[0m\u001b[0;34m:\u001b[0m\u001b[0;34m\u001b[0m\u001b[0;34m\u001b[0m\u001b[0m\n\u001b[1;32m   1330\u001b[0m       \u001b[0;32mreturn\u001b[0m \u001b[0mself\u001b[0m\u001b[0;34m.\u001b[0m\u001b[0m_do_call\u001b[0m\u001b[0;34m(\u001b[0m\u001b[0m_prun_fn\u001b[0m\u001b[0;34m,\u001b[0m \u001b[0mhandle\u001b[0m\u001b[0;34m,\u001b[0m \u001b[0mfeeds\u001b[0m\u001b[0;34m,\u001b[0m \u001b[0mfetches\u001b[0m\u001b[0;34m)\u001b[0m\u001b[0;34m\u001b[0m\u001b[0;34m\u001b[0m\u001b[0m\n",
      "\u001b[0;32m/Library/Frameworks/Python.framework/Versions/3.7/lib/python3.7/site-packages/tensorflow/python/client/session.py\u001b[0m in \u001b[0;36m_do_call\u001b[0;34m(self, fn, *args)\u001b[0m\n\u001b[1;32m   1346\u001b[0m           \u001b[0;32mpass\u001b[0m\u001b[0;34m\u001b[0m\u001b[0;34m\u001b[0m\u001b[0m\n\u001b[1;32m   1347\u001b[0m       \u001b[0mmessage\u001b[0m \u001b[0;34m=\u001b[0m \u001b[0merror_interpolation\u001b[0m\u001b[0;34m.\u001b[0m\u001b[0minterpolate\u001b[0m\u001b[0;34m(\u001b[0m\u001b[0mmessage\u001b[0m\u001b[0;34m,\u001b[0m \u001b[0mself\u001b[0m\u001b[0;34m.\u001b[0m\u001b[0m_graph\u001b[0m\u001b[0;34m)\u001b[0m\u001b[0;34m\u001b[0m\u001b[0;34m\u001b[0m\u001b[0m\n\u001b[0;32m-> 1348\u001b[0;31m       \u001b[0;32mraise\u001b[0m \u001b[0mtype\u001b[0m\u001b[0;34m(\u001b[0m\u001b[0me\u001b[0m\u001b[0;34m)\u001b[0m\u001b[0;34m(\u001b[0m\u001b[0mnode_def\u001b[0m\u001b[0;34m,\u001b[0m \u001b[0mop\u001b[0m\u001b[0;34m,\u001b[0m \u001b[0mmessage\u001b[0m\u001b[0;34m)\u001b[0m\u001b[0;34m\u001b[0m\u001b[0;34m\u001b[0m\u001b[0m\n\u001b[0m\u001b[1;32m   1349\u001b[0m \u001b[0;34m\u001b[0m\u001b[0m\n\u001b[1;32m   1350\u001b[0m   \u001b[0;32mdef\u001b[0m \u001b[0m_extend_graph\u001b[0m\u001b[0;34m(\u001b[0m\u001b[0mself\u001b[0m\u001b[0;34m)\u001b[0m\u001b[0;34m:\u001b[0m\u001b[0;34m\u001b[0m\u001b[0;34m\u001b[0m\u001b[0m\n",
      "\u001b[0;31mInvalidArgumentError\u001b[0m: You must feed a value for placeholder tensor 'Placeholder_5' with dtype float\n\t [[node Placeholder_5 (defined at <ipython-input-10-c677e8dac514>:24) ]]\n\nCaused by op 'Placeholder_5', defined at:\n  File \"/Library/Frameworks/Python.framework/Versions/3.7/lib/python3.7/runpy.py\", line 193, in _run_module_as_main\n    \"__main__\", mod_spec)\n  File \"/Library/Frameworks/Python.framework/Versions/3.7/lib/python3.7/runpy.py\", line 85, in _run_code\n    exec(code, run_globals)\n  File \"/Library/Frameworks/Python.framework/Versions/3.7/lib/python3.7/site-packages/ipykernel_launcher.py\", line 16, in <module>\n    app.launch_new_instance()\n  File \"/Library/Frameworks/Python.framework/Versions/3.7/lib/python3.7/site-packages/traitlets/config/application.py\", line 658, in launch_instance\n    app.start()\n  File \"/Library/Frameworks/Python.framework/Versions/3.7/lib/python3.7/site-packages/ipykernel/kernelapp.py\", line 505, in start\n    self.io_loop.start()\n  File \"/Library/Frameworks/Python.framework/Versions/3.7/lib/python3.7/site-packages/tornado/platform/asyncio.py\", line 148, in start\n    self.asyncio_loop.run_forever()\n  File \"/Library/Frameworks/Python.framework/Versions/3.7/lib/python3.7/asyncio/base_events.py\", line 539, in run_forever\n    self._run_once()\n  File \"/Library/Frameworks/Python.framework/Versions/3.7/lib/python3.7/asyncio/base_events.py\", line 1775, in _run_once\n    handle._run()\n  File \"/Library/Frameworks/Python.framework/Versions/3.7/lib/python3.7/asyncio/events.py\", line 88, in _run\n    self._context.run(self._callback, *self._args)\n  File \"/Library/Frameworks/Python.framework/Versions/3.7/lib/python3.7/site-packages/tornado/ioloop.py\", line 690, in <lambda>\n    lambda f: self._run_callback(functools.partial(callback, future))\n  File \"/Library/Frameworks/Python.framework/Versions/3.7/lib/python3.7/site-packages/tornado/ioloop.py\", line 743, in _run_callback\n    ret = callback()\n  File \"/Library/Frameworks/Python.framework/Versions/3.7/lib/python3.7/site-packages/tornado/gen.py\", line 781, in inner\n    self.run()\n  File \"/Library/Frameworks/Python.framework/Versions/3.7/lib/python3.7/site-packages/tornado/gen.py\", line 742, in run\n    yielded = self.gen.send(value)\n  File \"/Library/Frameworks/Python.framework/Versions/3.7/lib/python3.7/site-packages/ipykernel/kernelbase.py\", line 357, in process_one\n    yield gen.maybe_future(dispatch(*args))\n  File \"/Library/Frameworks/Python.framework/Versions/3.7/lib/python3.7/site-packages/tornado/gen.py\", line 209, in wrapper\n    yielded = next(result)\n  File \"/Library/Frameworks/Python.framework/Versions/3.7/lib/python3.7/site-packages/ipykernel/kernelbase.py\", line 267, in dispatch_shell\n    yield gen.maybe_future(handler(stream, idents, msg))\n  File \"/Library/Frameworks/Python.framework/Versions/3.7/lib/python3.7/site-packages/tornado/gen.py\", line 209, in wrapper\n    yielded = next(result)\n  File \"/Library/Frameworks/Python.framework/Versions/3.7/lib/python3.7/site-packages/ipykernel/kernelbase.py\", line 534, in execute_request\n    user_expressions, allow_stdin,\n  File \"/Library/Frameworks/Python.framework/Versions/3.7/lib/python3.7/site-packages/tornado/gen.py\", line 209, in wrapper\n    yielded = next(result)\n  File \"/Library/Frameworks/Python.framework/Versions/3.7/lib/python3.7/site-packages/ipykernel/ipkernel.py\", line 294, in do_execute\n    res = shell.run_cell(code, store_history=store_history, silent=silent)\n  File \"/Library/Frameworks/Python.framework/Versions/3.7/lib/python3.7/site-packages/ipykernel/zmqshell.py\", line 536, in run_cell\n    return super(ZMQInteractiveShell, self).run_cell(*args, **kwargs)\n  File \"/Library/Frameworks/Python.framework/Versions/3.7/lib/python3.7/site-packages/IPython/core/interactiveshell.py\", line 2848, in run_cell\n    raw_cell, store_history, silent, shell_futures)\n  File \"/Library/Frameworks/Python.framework/Versions/3.7/lib/python3.7/site-packages/IPython/core/interactiveshell.py\", line 2874, in _run_cell\n    return runner(coro)\n  File \"/Library/Frameworks/Python.framework/Versions/3.7/lib/python3.7/site-packages/IPython/core/async_helpers.py\", line 67, in _pseudo_sync_runner\n    coro.send(None)\n  File \"/Library/Frameworks/Python.framework/Versions/3.7/lib/python3.7/site-packages/IPython/core/interactiveshell.py\", line 3049, in run_cell_async\n    interactivity=interactivity, compiler=compiler, result=result)\n  File \"/Library/Frameworks/Python.framework/Versions/3.7/lib/python3.7/site-packages/IPython/core/interactiveshell.py\", line 3214, in run_ast_nodes\n    if (yield from self.run_code(code, result)):\n  File \"/Library/Frameworks/Python.framework/Versions/3.7/lib/python3.7/site-packages/IPython/core/interactiveshell.py\", line 3296, in run_code\n    exec(code_obj, self.user_global_ns, self.user_ns)\n  File \"<ipython-input-10-c677e8dac514>\", line 24, in <module>\n    p     = tf.placeholder(tf.float32)\n  File \"/Library/Frameworks/Python.framework/Versions/3.7/lib/python3.7/site-packages/tensorflow/python/ops/array_ops.py\", line 2077, in placeholder\n    return gen_array_ops.placeholder(dtype=dtype, shape=shape, name=name)\n  File \"/Library/Frameworks/Python.framework/Versions/3.7/lib/python3.7/site-packages/tensorflow/python/ops/gen_array_ops.py\", line 5791, in placeholder\n    \"Placeholder\", dtype=dtype, shape=shape, name=name)\n  File \"/Library/Frameworks/Python.framework/Versions/3.7/lib/python3.7/site-packages/tensorflow/python/framework/op_def_library.py\", line 788, in _apply_op_helper\n    op_def=op_def)\n  File \"/Library/Frameworks/Python.framework/Versions/3.7/lib/python3.7/site-packages/tensorflow/python/util/deprecation.py\", line 507, in new_func\n    return func(*args, **kwargs)\n  File \"/Library/Frameworks/Python.framework/Versions/3.7/lib/python3.7/site-packages/tensorflow/python/framework/ops.py\", line 3300, in create_op\n    op_def=op_def)\n  File \"/Library/Frameworks/Python.framework/Versions/3.7/lib/python3.7/site-packages/tensorflow/python/framework/ops.py\", line 1801, in __init__\n    self._traceback = tf_stack.extract_stack()\n\nInvalidArgumentError (see above for traceback): You must feed a value for placeholder tensor 'Placeholder_5' with dtype float\n\t [[node Placeholder_5 (defined at <ipython-input-10-c677e8dac514>:24) ]]\n"
     ]
    }
   ],
   "source": [
    "#######################################\n",
    "## Checking the performance manually ##\n",
    "#######################################\n",
    "\n",
    "test_digit = 24\n",
    "\n",
    "img = np.reshape(mnist.test.images[test_digit,:], [28,28])\n",
    "plt.imshow(img, cmap='Greys')\n",
    "plt.show()\n",
    "\n",
    "#dig = np.argmax(mnist.test.labels[test_digit,:])\n",
    "#print(dig)\n",
    "\n",
    "prediction = sess.run(tf.argmax(y, 1), feed_dict={x: mnist.test.images})\n",
    "print (\"Prediction:\", np.squeeze(prediction)[test_digit])"
   ]
  },
  {
   "cell_type": "code",
   "execution_count": 17,
   "metadata": {},
   "outputs": [
    {
     "data": {
      "text/plain": [
       "Text(0.5, 1.0, 'Loss for Minibatch (red) and Test-Data (blue)')"
      ]
     },
     "execution_count": 17,
     "metadata": {},
     "output_type": "execute_result"
    },
    {
     "data": {
      "image/png": "[encoded data removed]",
      "text/plain": [
       "<Figure size 432x288 with 1 Axes>"
      ]
     },
     "metadata": {
      "needs_background": "light"
     },
     "output_type": "display_data"
    }
   ],
   "source": [
    "pr = np.arange(int(n_iterations/100))\n",
    "plt.ylim(0,0.04)\n",
    "plt.plot(pr,t_loss, pr, b_loss, 'r')\n",
    "plt.title('Loss for Minibatch (red) and Test-Data (blue)')"
   ]
  },
  {
   "cell_type": "code",
   "execution_count": 18,
   "metadata": {},
   "outputs": [
    {
     "data": {
      "text/plain": [
       "Text(0.5, 1.0, 'Accuracy for Minibatch (red) and Test-Data (blue)')"
      ]
     },
     "execution_count": 18,
     "metadata": {},
     "output_type": "execute_result"
    },
    {
     "data": {
      "image/png": "[encoded data removed]",
      "text/plain": [
       "<Figure size 432x288 with 1 Axes>"
      ]
     },
     "metadata": {
      "needs_background": "light"
     },
     "output_type": "display_data"
    }
   ],
   "source": [
    "pr = np.arange(int(n_iterations/100))\n",
    "plt.ylim(0.9,1.001)\n",
    "plt.plot(pr,t_acc, pr, b_acc, 'r')\n",
    "plt.title('Accuracy for Minibatch (red) and Test-Data (blue)' )"
   ]
  },
  {
   "cell_type": "code",
   "execution_count": null,
   "metadata": {},
   "outputs": [],
   "source": []
  }
 ],
 "metadata": {
  "celltoolbar": "Slideshow",
  "kernelspec": {
   "display_name": "Python 3",
   "language": "python",
   "name": "python3"
  },
  "language_info": {
   "codemirror_mode": {
    "name": "ipython",
    "version": 3
   },
   "file_extension": ".py",
   "mimetype": "text/x-python",
   "name": "python",
   "nbconvert_exporter": "python",
   "pygments_lexer": "ipython3",
   "version": "3.7.3"
  }
 },
 "nbformat": 4,
 "nbformat_minor": 2
}
