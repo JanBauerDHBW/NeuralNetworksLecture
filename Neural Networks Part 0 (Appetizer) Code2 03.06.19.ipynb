{
 "cells": [
  {
   "cell_type": "code",
   "execution_count": 1,
   "metadata": {
    "slideshow": {
     "slide_type": "slide"
    }
   },
   "outputs": [
    {
     "name": "stdout",
     "output_type": "stream",
     "text": [
      "WARNING:tensorflow:From <ipython-input-1-c388e7809045>:8: read_data_sets (from tensorflow.contrib.learn.python.learn.datasets.mnist) is deprecated and will be removed in a future version.\n",
      "Instructions for updating:\n",
      "Please use alternatives such as official/mnist/dataset.py from tensorflow/models.\n",
      "WARNING:tensorflow:From /Library/Frameworks/Python.framework/Versions/3.7/lib/python3.7/site-packages/tensorflow/contrib/learn/python/learn/datasets/mnist.py:260: maybe_download (from tensorflow.contrib.learn.python.learn.datasets.base) is deprecated and will be removed in a future version.\n",
      "Instructions for updating:\n",
      "Please write your own downloading logic.\n",
      "WARNING:tensorflow:From /Library/Frameworks/Python.framework/Versions/3.7/lib/python3.7/site-packages/tensorflow/contrib/learn/python/learn/datasets/mnist.py:262: extract_images (from tensorflow.contrib.learn.python.learn.datasets.mnist) is deprecated and will be removed in a future version.\n",
      "Instructions for updating:\n",
      "Please use tf.data to implement this functionality.\n",
      "Extracting MNIST_data/train-images-idx3-ubyte.gz\n",
      "WARNING:tensorflow:From /Library/Frameworks/Python.framework/Versions/3.7/lib/python3.7/site-packages/tensorflow/contrib/learn/python/learn/datasets/mnist.py:267: extract_labels (from tensorflow.contrib.learn.python.learn.datasets.mnist) is deprecated and will be removed in a future version.\n",
      "Instructions for updating:\n",
      "Please use tf.data to implement this functionality.\n",
      "Extracting MNIST_data/train-labels-idx1-ubyte.gz\n",
      "WARNING:tensorflow:From /Library/Frameworks/Python.framework/Versions/3.7/lib/python3.7/site-packages/tensorflow/contrib/learn/python/learn/datasets/mnist.py:110: dense_to_one_hot (from tensorflow.contrib.learn.python.learn.datasets.mnist) is deprecated and will be removed in a future version.\n",
      "Instructions for updating:\n",
      "Please use tf.one_hot on tensors.\n",
      "Extracting MNIST_data/t10k-images-idx3-ubyte.gz\n",
      "Extracting MNIST_data/t10k-labels-idx1-ubyte.gz\n",
      "WARNING:tensorflow:From /Library/Frameworks/Python.framework/Versions/3.7/lib/python3.7/site-packages/tensorflow/contrib/learn/python/learn/datasets/mnist.py:290: DataSet.__init__ (from tensorflow.contrib.learn.python.learn.datasets.mnist) is deprecated and will be removed in a future version.\n",
      "Instructions for updating:\n",
      "Please use alternatives such as official/mnist/dataset.py from tensorflow/models.\n",
      "55000\n",
      "5000\n",
      "10000\n"
     ]
    }
   ],
   "source": [
    "################################\n",
    "## Getting started & Data Set ##\n",
    "################################\n",
    "\n",
    "import tensorflow as tf\n",
    "\n",
    "from tensorflow.examples.tutorials.mnist import input_data\n",
    "mnist = input_data.read_data_sets(\"MNIST_data/\", one_hot=True)\n",
    "#one_hot=TRUE: Conduct one-hot-encoding, i.e. the digit \"1\" [integer encoding] \n",
    "#              will be represented as (0,1,0,0,0,0,0,0,0,0).\n",
    "#              28x28 pixels are flattened into a 784 vector\n",
    "#              Grayscale of each pixel between 0 and 255 (black 255)\n",
    "\n",
    "print(mnist.train.num_examples) # #55 000 train data\n",
    "print(mnist.validation.num_examples) # #5000 validation data\n",
    "print(mnist.test.num_examples) # #10 000 test data"
   ]
  },
  {
   "cell_type": "code",
   "execution_count": 2,
   "metadata": {
    "slideshow": {
     "slide_type": "slide"
    }
   },
   "outputs": [
    {
     "data": {
      "text/plain": [
       "<Figure size 640x480 with 1 Axes>"
      ]
     },
     "metadata": {},
     "output_type": "display_data"
    },
    {
     "name": "stdout",
     "output_type": "stream",
     "text": [
      "3\n"
     ]
    }
   ],
   "source": [
    "##################################\n",
    "## How does the data look like? ##\n",
    "##################################\n",
    "\n",
    "import numpy as np\n",
    "import matplotlib.pyplot as plt\n",
    "\n",
    "i=1\n",
    "\n",
    "dig = np.argmax(mnist.train.labels[i,:])\n",
    "#argmax due to one-hot encoding.\n",
    "#compare to using:\n",
    "#dig = mnist.train.labels[i,:]\n",
    "\n",
    "img = np.reshape(mnist.train.images[i,:], [28,28])\n",
    "plt.imshow(img, cmap='Greys')\n",
    "plt.show()\n",
    "print(dig)"
   ]
  },
  {
   "cell_type": "code",
   "execution_count": 3,
   "metadata": {
    "slideshow": {
     "slide_type": "slide"
    }
   },
   "outputs": [],
   "source": [
    "####################\n",
    "## Architecture I ##\n",
    "####################\n",
    "\n",
    "## Five Layer NN\n",
    "n_input = 784  # input layer (28x28 pixels)\n",
    "n_1 = 512  # 1st hidden layer\n",
    "n_2 = 256  # 2nd hidden layer\n",
    "n_3 = 128  # 3rd hidden layer\n",
    "n_4 = 64   # 4th hidden layer\n",
    "n_output = 10  # output layer (0-9 digits)\n",
    "\n",
    "#Define 2 tensors as placeholders (tensors that we'll feed with values later)\n",
    "\n",
    "x     = tf.placeholder(\"float\", [None, n_input])   #None x 784\n",
    "ystar = tf.placeholder(\"float\", [None, n_output])  #None x 10\n",
    "\n",
    "#PREVIOUS: Ystar = Y"
   ]
  },
  {
   "cell_type": "code",
   "execution_count": 4,
   "metadata": {
    "slideshow": {
     "slide_type": "slide"
    }
   },
   "outputs": [],
   "source": [
    "#####################\n",
    "## Hyperparameters ##\n",
    "#####################\n",
    "\n",
    "learning_rate = 1e-4\n",
    "n_iterations = 1000\n",
    "batch_size = 128\n",
    "#n_iterations = 3500\n",
    "#batch_size = 4112"
   ]
  },
  {
   "cell_type": "code",
   "execution_count": 5,
   "metadata": {
    "slideshow": {
     "slide_type": "slide"
    }
   },
   "outputs": [
    {
     "name": "stdout",
     "output_type": "stream",
     "text": [
      "WARNING:tensorflow:From /Library/Frameworks/Python.framework/Versions/3.7/lib/python3.7/site-packages/tensorflow/python/framework/op_def_library.py:263: colocate_with (from tensorflow.python.framework.ops) is deprecated and will be removed in a future version.\n",
      "Instructions for updating:\n",
      "Colocations handled automatically by placer.\n"
     ]
    }
   ],
   "source": [
    "#######################################\n",
    "## Architecture II & Getting Started ##\n",
    "#######################################\n",
    "\n",
    "# Initial values for Weights\n",
    "\n",
    "weights = {\n",
    "    'w1': tf.Variable(tf.truncated_normal([n_input, n_1], stddev=0.1)),\n",
    "    'w2': tf.Variable(tf.truncated_normal([n_1, n_2], stddev=0.1)),\n",
    "    'w3': tf.Variable(tf.truncated_normal([n_2, n_3], stddev=0.1)),\n",
    "    'w4': tf.Variable(tf.truncated_normal([n_3, n_4], stddev=0.1)),\n",
    "    'w5': tf.Variable(tf.truncated_normal([n_4, n_output], stddev=0.1)),\n",
    "}\n",
    "\n",
    "\n",
    "biases = {\n",
    "    'b1': tf.Variable(tf.constant(0.1, shape = [n_1])),\n",
    "    'b2': tf.Variable(tf.constant(0.1, shape = [n_2])),\n",
    "    'b3': tf.Variable(tf.constant(0.1, shape = [n_3])),\n",
    "    'b4': tf.Variable(tf.constant(0.1, shape = [n_4])),\n",
    "    'b5': tf.Variable(tf.constant(0.1, shape = [n_output])),\n",
    "}\n",
    "\n",
    "\n",
    "h_1 = tf.maximum(tf.add(tf.matmul(x, weights['w1']), biases['b1']), 0)     #ReLU\n",
    "h_2 = tf.maximum(tf.add(tf.matmul(h_1, weights['w2']), biases['b2']), 0)   #ReLU\n",
    "h_3 = tf.maximum(tf.add(tf.matmul(h_2, weights['w3']), biases['b3']), 0)   #ReLU\n",
    "h_4 = tf.maximum(tf.add(tf.matmul(h_3, weights['w4']), biases['b4']), 0)   #ReLU\n",
    "y   = tf.math.softmax(tf.matmul(h_4, weights['w5']) + biases['b5'])        #Softmax\n",
    "#PREVIOUS: y = output_layer\n"
   ]
  },
  {
   "cell_type": "code",
   "execution_count": 6,
   "metadata": {
    "slideshow": {
     "slide_type": "slide"
    }
   },
   "outputs": [],
   "source": [
    "####################################\n",
    "## Loss Function and Optimization ##\n",
    "####################################\n",
    "cross_entropy = -tf.reduce_mean(ystar * tf.log(y)) +0.00001   #don't use the python-function anymore\n",
    "                                                              #code it mathematically  \n",
    "    \n",
    "#cross_entropy = tf.reduce_mean(   \n",
    "#    tf.nn.softmax_cross_entropy_with_logits(  #use cross_entropy norm\n",
    "#        labels=ystar, logits = y\n",
    "#        ))\n",
    "\n",
    "train_step = tf.train.AdamOptimizer(1e-4).minimize(cross_entropy)\n",
    "#                      #use the Adam Gradient Descent Optimizer"
   ]
  },
  {
   "cell_type": "code",
   "execution_count": 7,
   "metadata": {
    "slideshow": {
     "slide_type": "slide"
    }
   },
   "outputs": [],
   "source": [
    "#####################\n",
    "## Define Accuracy ##\n",
    "#####################\n",
    "\n",
    "correct_pred = tf.equal(tf.argmax(y, 1), tf.argmax(ystar, 1))\n",
    "accuracy = tf.reduce_mean(tf.cast(correct_pred, tf.float32))"
   ]
  },
  {
   "cell_type": "code",
   "execution_count": 17,
   "metadata": {},
   "outputs": [
    {
     "name": "stdout",
     "output_type": "stream",
     "text": [
      "t_loss =  [0.2451495, None, None, None, None, None, None, None, None, None]\n",
      "Iteration 0 \t Minibatch-Loss = 0.24306792 \t Minibatch-Accuracy = 0.1484375\n",
      "Iteration 0 \t Test-loss      = 0.2451495 \t Test-Accuracy      = 0.118\n",
      "------------------------------------------------------------------------------\n",
      "t_loss =  [0.2451495, 0.07493487, None, None, None, None, None, None, None, None]\n",
      "Iteration 100 \t Minibatch-Loss = 0.067842305 \t Minibatch-Accuracy = 0.8359375\n",
      "Iteration 100 \t Test-loss      = 0.07493487 \t Test-Accuracy      = 0.8236\n",
      "------------------------------------------------------------------------------\n",
      "t_loss =  [0.2451495, 0.07493487, 0.039112408, None, None, None, None, None, None, None]\n",
      "Iteration 200 \t Minibatch-Loss = 0.05362671 \t Minibatch-Accuracy = 0.8671875\n",
      "Iteration 200 \t Test-loss      = 0.039112408 \t Test-Accuracy      = 0.896\n",
      "------------------------------------------------------------------------------\n",
      "t_loss =  [0.2451495, 0.07493487, 0.039112408, 0.03102341, None, None, None, None, None, None]\n",
      "Iteration 300 \t Minibatch-Loss = 0.04733749 \t Minibatch-Accuracy = 0.8359375\n",
      "Iteration 300 \t Test-loss      = 0.03102341 \t Test-Accuracy      = 0.9159\n",
      "------------------------------------------------------------------------------\n",
      "t_loss =  [0.2451495, 0.07493487, 0.039112408, 0.03102341, 0.025777819, None, None, None, None, None]\n",
      "Iteration 400 \t Minibatch-Loss = 0.021025507 \t Minibatch-Accuracy = 0.9375\n",
      "Iteration 400 \t Test-loss      = 0.025777819 \t Test-Accuracy      = 0.9269\n",
      "------------------------------------------------------------------------------\n",
      "t_loss =  [0.2451495, 0.07493487, 0.039112408, 0.03102341, 0.025777819, 0.023072788, None, None, None, None]\n",
      "Iteration 500 \t Minibatch-Loss = 0.026274256 \t Minibatch-Accuracy = 0.90625\n",
      "Iteration 500 \t Test-loss      = 0.023072788 \t Test-Accuracy      = 0.9337\n",
      "------------------------------------------------------------------------------\n",
      "t_loss =  [0.2451495, 0.07493487, 0.039112408, 0.03102341, 0.025777819, 0.023072788, 0.021937154, None, None, None]\n",
      "Iteration 600 \t Minibatch-Loss = 0.02187069 \t Minibatch-Accuracy = 0.9609375\n",
      "Iteration 600 \t Test-loss      = 0.021937154 \t Test-Accuracy      = 0.9342\n",
      "------------------------------------------------------------------------------\n",
      "t_loss =  [0.2451495, 0.07493487, 0.039112408, 0.03102341, 0.025777819, 0.023072788, 0.021937154, 0.019488232, None, None]\n",
      "Iteration 700 \t Minibatch-Loss = 0.02252784 \t Minibatch-Accuracy = 0.9296875\n",
      "Iteration 700 \t Test-loss      = 0.019488232 \t Test-Accuracy      = 0.9436\n",
      "------------------------------------------------------------------------------\n",
      "t_loss =  [0.2451495, 0.07493487, 0.039112408, 0.03102341, 0.025777819, 0.023072788, 0.021937154, 0.019488232, 0.018675536, None]\n",
      "Iteration 800 \t Minibatch-Loss = 0.025841115 \t Minibatch-Accuracy = 0.9296875\n",
      "Iteration 800 \t Test-loss      = 0.018675536 \t Test-Accuracy      = 0.9455\n",
      "------------------------------------------------------------------------------\n",
      "t_loss =  [0.2451495, 0.07493487, 0.039112408, 0.03102341, 0.025777819, 0.023072788, 0.021937154, 0.019488232, 0.018675536, 0.018029014]\n",
      "Iteration 900 \t Minibatch-Loss = 0.019399352 \t Minibatch-Accuracy = 0.953125\n",
      "Iteration 900 \t Test-loss      = 0.018029014 \t Test-Accuracy      = 0.9464\n",
      "------------------------------------------------------------------------------\n"
     ]
    }
   ],
   "source": [
    "################\n",
    "## Run the NN ##\n",
    "################\n",
    "\n",
    "init = tf.global_variables_initializer()\n",
    "sess = tf.Session()\n",
    "sess.run(init)\n",
    "\n",
    "t_loss = [None] * 10\n",
    "b_loss = [None] * 10\n",
    "\n",
    "for i in range(n_iterations):\n",
    "    batch_x, batch_y = mnist.train.next_batch(batch_size)\n",
    "    sess.run(train_step, feed_dict={\n",
    "        x: batch_x, ystar: batch_y\n",
    "        })\n",
    "\n",
    "    # print loss and accuracy (per minibatch)\n",
    "    if i % 100 == 0:\n",
    "        minibatch_loss, minibatch_accuracy = sess.run(\n",
    "            [cross_entropy, accuracy],\n",
    "            feed_dict={x: batch_x, ystar: batch_y}\n",
    "            )\n",
    "        \n",
    "        test_accuracy = sess.run(accuracy,      feed_dict={x: mnist.test.images, ystar: mnist.test.labels})\n",
    "        test_loss     = sess.run(cross_entropy, feed_dict={x: mnist.test.images, ystar: mnist.test.labels}) \n",
    "        \n",
    "        j=int(i/100)\n",
    "        t_loss[j] = test_loss\n",
    "        b_loss[j] = minibatch_loss\n",
    "        \n",
    "        print(\n",
    "            \"Iteration\",\n",
    "            str(i),\n",
    "            \"\\t Minibatch-Loss =\",\n",
    "            str(minibatch_loss),\n",
    "            \"\\t Minibatch-Accuracy =\",\n",
    "            str(minibatch_accuracy))\n",
    "        print(\n",
    "            \"Iteration\",\n",
    "            str(i),\n",
    "            \"\\t Test-loss      =\",\n",
    "            str(test_loss),\n",
    "            \"\\t Test-Accuracy      =\",\n",
    "            str(test_accuracy)\n",
    "            )\n",
    "        print(\"------------------------------------------------------------------------------\")"
   ]
  },
  {
   "cell_type": "code",
   "execution_count": null,
   "metadata": {},
   "outputs": [],
   "source": [
    "###########################\n",
    "## Accuracy on test data ##\n",
    "###########################\n",
    "\n",
    "test_accuracy = sess.run(accuracy, feed_dict={x: mnist.test.images, ystar: mnist.test.labels})\n",
    "print(\"\\nAccuracy on test data:\", test_accuracy)"
   ]
  },
  {
   "cell_type": "code",
   "execution_count": 15,
   "metadata": {},
   "outputs": [
    {
     "data": {
      "image/png": "[encoded data removed]",
      "text/plain": [
       "<Figure size 432x288 with 1 Axes>"
      ]
     },
     "metadata": {
      "needs_background": "light"
     },
     "output_type": "display_data"
    },
    {
     "name": "stdout",
     "output_type": "stream",
     "text": [
      "Prediction: 4\n"
     ]
    }
   ],
   "source": [
    "#######################################\n",
    "## Checking the performance manually ##\n",
    "#######################################\n",
    "\n",
    "test_digit = 24\n",
    "\n",
    "img = np.reshape(mnist.test.images[test_digit,:], [28,28])\n",
    "plt.imshow(img, cmap='Greys')\n",
    "plt.show()\n",
    "\n",
    "#dig = np.argmax(mnist.test.labels[test_digit,:])\n",
    "#print(dig)\n",
    "\n",
    "prediction = sess.run(tf.argmax(y, 1), feed_dict={x: mnist.test.images})\n",
    "print (\"Prediction:\", np.squeeze(prediction)[test_digit])"
   ]
  },
  {
   "cell_type": "code",
   "execution_count": 20,
   "metadata": {},
   "outputs": [
    {
     "name": "stdout",
     "output_type": "stream",
     "text": [
      "range(1, 10)\n"
     ]
    }
   ],
   "source": [
    "p = range(1,10,1)\n",
    "print(p)"
   ]
  },
  {
   "cell_type": "code",
   "execution_count": null,
   "metadata": {},
   "outputs": [],
   "source": []
  }
 ],
 "metadata": {
  "celltoolbar": "Slideshow",
  "kernelspec": {
   "display_name": "Python 3",
   "language": "python",
   "name": "python3"
  },
  "language_info": {
   "codemirror_mode": {
    "name": "ipython",
    "version": 3
   },
   "file_extension": ".py",
   "mimetype": "text/x-python",
   "name": "python",
   "nbconvert_exporter": "python",
   "pygments_lexer": "ipython3",
   "version": "3.7.3"
  }
 },
 "nbformat": 4,
 "nbformat_minor": 2
}
