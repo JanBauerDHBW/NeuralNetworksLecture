{
 "cells": [
  {
   "cell_type": "code",
   "execution_count": 1,
   "metadata": {
    "slideshow": {
     "slide_type": "slide"
    }
   },
   "outputs": [
    {
     "name": "stdout",
     "output_type": "stream",
     "text": [
      "WARNING:tensorflow:From <ipython-input-1-c388e7809045>:8: read_data_sets (from tensorflow.contrib.learn.python.learn.datasets.mnist) is deprecated and will be removed in a future version.\n",
      "Instructions for updating:\n",
      "Please use alternatives such as official/mnist/dataset.py from tensorflow/models.\n",
      "WARNING:tensorflow:From /Library/Frameworks/Python.framework/Versions/3.7/lib/python3.7/site-packages/tensorflow/contrib/learn/python/learn/datasets/mnist.py:260: maybe_download (from tensorflow.contrib.learn.python.learn.datasets.base) is deprecated and will be removed in a future version.\n",
      "Instructions for updating:\n",
      "Please write your own downloading logic.\n",
      "WARNING:tensorflow:From /Library/Frameworks/Python.framework/Versions/3.7/lib/python3.7/site-packages/tensorflow/contrib/learn/python/learn/datasets/mnist.py:262: extract_images (from tensorflow.contrib.learn.python.learn.datasets.mnist) is deprecated and will be removed in a future version.\n",
      "Instructions for updating:\n",
      "Please use tf.data to implement this functionality.\n",
      "Extracting MNIST_data/train-images-idx3-ubyte.gz\n",
      "WARNING:tensorflow:From /Library/Frameworks/Python.framework/Versions/3.7/lib/python3.7/site-packages/tensorflow/contrib/learn/python/learn/datasets/mnist.py:267: extract_labels (from tensorflow.contrib.learn.python.learn.datasets.mnist) is deprecated and will be removed in a future version.\n",
      "Instructions for updating:\n",
      "Please use tf.data to implement this functionality.\n",
      "Extracting MNIST_data/train-labels-idx1-ubyte.gz\n",
      "WARNING:tensorflow:From /Library/Frameworks/Python.framework/Versions/3.7/lib/python3.7/site-packages/tensorflow/contrib/learn/python/learn/datasets/mnist.py:110: dense_to_one_hot (from tensorflow.contrib.learn.python.learn.datasets.mnist) is deprecated and will be removed in a future version.\n",
      "Instructions for updating:\n",
      "Please use tf.one_hot on tensors.\n",
      "Extracting MNIST_data/t10k-images-idx3-ubyte.gz\n",
      "Extracting MNIST_data/t10k-labels-idx1-ubyte.gz\n",
      "WARNING:tensorflow:From /Library/Frameworks/Python.framework/Versions/3.7/lib/python3.7/site-packages/tensorflow/contrib/learn/python/learn/datasets/mnist.py:290: DataSet.__init__ (from tensorflow.contrib.learn.python.learn.datasets.mnist) is deprecated and will be removed in a future version.\n",
      "Instructions for updating:\n",
      "Please use alternatives such as official/mnist/dataset.py from tensorflow/models.\n",
      "55000\n",
      "5000\n",
      "10000\n"
     ]
    }
   ],
   "source": [
    "################################\n",
    "## Getting started & Data Set ##\n",
    "################################\n",
    "\n",
    "import tensorflow as tf\n",
    "\n",
    "from tensorflow.examples.tutorials.mnist import input_data\n",
    "mnist = input_data.read_data_sets(\"MNIST_data/\", one_hot=True)\n",
    "#one_hot=TRUE: Conduct one-hot-encoding, i.e. the digit \"1\" [integer encoding] \n",
    "#              will be represented as (0,1,0,0,0,0,0,0,0,0).\n",
    "#              28x28 pixels are flattened into a 784 vector\n",
    "#              Grayscale of each pixel between 0 and 255 (black 255)\n",
    "\n",
    "print(mnist.train.num_examples) # #55 000 train data\n",
    "print(mnist.validation.num_examples) # #5000 validation data\n",
    "print(mnist.test.num_examples) # #10 000 test data"
   ]
  },
  {
   "cell_type": "code",
   "execution_count": 2,
   "metadata": {
    "slideshow": {
     "slide_type": "slide"
    }
   },
   "outputs": [
    {
     "data": {
      "text/plain": [
       "<Figure size 640x480 with 1 Axes>"
      ]
     },
     "metadata": {},
     "output_type": "display_data"
    },
    {
     "name": "stdout",
     "output_type": "stream",
     "text": [
      "3\n"
     ]
    }
   ],
   "source": [
    "##################################\n",
    "## How does the data look like? ##\n",
    "##################################\n",
    "\n",
    "import numpy as np\n",
    "import matplotlib.pyplot as plt\n",
    "\n",
    "i=1\n",
    "\n",
    "dig = np.argmax(mnist.train.labels[i,:])\n",
    "#argmax due to one-hot encoding.\n",
    "#compare to using:\n",
    "#dig = mnist.train.labels[i,:]\n",
    "\n",
    "img = np.reshape(mnist.train.images[i,:], [28,28])\n",
    "plt.imshow(img, cmap='Greys')\n",
    "plt.show()\n",
    "print(dig)"
   ]
  },
  {
   "cell_type": "code",
   "execution_count": 3,
   "metadata": {
    "slideshow": {
     "slide_type": "slide"
    }
   },
   "outputs": [],
   "source": [
    "####################\n",
    "## Architecture I ##\n",
    "####################\n",
    "\n",
    "## Five Layer NN\n",
    "n_input = 784  # input layer (28x28 pixels)\n",
    "#n_1 = 512  # 1st hidden layer -> are now convolutional layers\n",
    "n_1 = 4\n",
    "#n_2 = 256  # 2nd hidden layer -> are now convolutional layers\n",
    "n_2 = 8\n",
    "#n_3 = 128  # 3rd hidden layer -> are now convolutional layers\n",
    "n_3 = 12\n",
    "n_4 = 200   # 4th hidden layer\n",
    "n_output = 10  # output layer (0-9 digits)\n",
    "\n",
    "#Define 2 tensors as placeholders (tensors that we'll feed with values later)\n",
    "\n",
    "x     = tf.placeholder(\"float\", [None, n_input])   #None x 784\n",
    "ystar = tf.placeholder(\"float\", [None, n_output])  #None x 10\n",
    "p     = tf.placeholder(tf.float32)\n",
    "\n",
    "#PREVIOUS: Ystar = Y"
   ]
  },
  {
   "cell_type": "code",
   "execution_count": 4,
   "metadata": {
    "slideshow": {
     "slide_type": "slide"
    }
   },
   "outputs": [],
   "source": [
    "#####################\n",
    "## Hyperparameters ##\n",
    "#####################\n",
    "\n",
    "learning_rate = 1e-4\n",
    "n_iterations = 10000\n",
    "batch_size = 128\n",
    "#batch_size = 4112"
   ]
  },
  {
   "cell_type": "code",
   "execution_count": 5,
   "metadata": {
    "slideshow": {
     "slide_type": "slide"
    }
   },
   "outputs": [
    {
     "name": "stdout",
     "output_type": "stream",
     "text": [
      "WARNING:tensorflow:From /Library/Frameworks/Python.framework/Versions/3.7/lib/python3.7/site-packages/tensorflow/python/framework/op_def_library.py:263: colocate_with (from tensorflow.python.framework.ops) is deprecated and will be removed in a future version.\n",
      "Instructions for updating:\n",
      "Colocations handled automatically by placer.\n",
      "WARNING:tensorflow:From <ipython-input-5-00c56ab702b4>:44: calling dropout (from tensorflow.python.ops.nn_ops) with keep_prob is deprecated and will be removed in a future version.\n",
      "Instructions for updating:\n",
      "Please use `rate` instead of `keep_prob`. Rate should be set to `rate = 1 - keep_prob`.\n"
     ]
    }
   ],
   "source": [
    "#######################################\n",
    "## Architecture II & Getting Started ##\n",
    "#######################################\n",
    "\n",
    "# Initial values for Weights\n",
    "\n",
    "weights = {\n",
    "    'w1': tf.Variable(tf.truncated_normal([5, 5, 1, n_1], stddev=0.1)),\n",
    "          #5x5 filter, 1 input depth,   n_1 output depth\n",
    "    'w2': tf.Variable(tf.truncated_normal([5, 5, n_1, n_2], stddev=0.1)),\n",
    "          #5x5 filter, n_1 input depth, n_2 output depth\n",
    "    'w3': tf.Variable(tf.truncated_normal([4, 4, n_2, n_3], stddev=0.1)),\n",
    "          #4x4 filter, n_2 input depth, n_3 output depth\n",
    "    'w4': tf.Variable(tf.truncated_normal([7*7*n_3, n_4], stddev=0.1)),\n",
    "          #the output of the last conv. layer is 7 x 7 x n_3 (length x height x depth)\n",
    "          #this cube will be flattened into an 7*7*n_3 tensor\n",
    "    'w5': tf.Variable(tf.truncated_normal([n_4, n_output], stddev=0.1)),\n",
    "}\n",
    "\n",
    "\n",
    "biases = {\n",
    "    'b1': tf.Variable(tf.constant(0.1, shape = [n_1])),\n",
    "    'b2': tf.Variable(tf.constant(0.1, shape = [n_2])),\n",
    "    'b3': tf.Variable(tf.constant(0.1, shape = [n_3])),\n",
    "    'b4': tf.Variable(tf.constant(0.1, shape = [n_4])),\n",
    "    'b5': tf.Variable(tf.constant(0.00001, shape = [n_output])),\n",
    "}\n",
    "\n",
    "\n",
    "\n",
    "\n",
    "h_1 = tf.maximum(tf.nn.conv2d(tf.reshape(x, [-1,28,28,1]), weights['w1'], strides=[1, 1, 1, 1], padding='SAME') + biases['b1'], 0)\n",
    "# we have to reshape the input x to its original 28x28x1 structure\n",
    "# output is 28x28, since input is 28x28 and stride = 1\n",
    "# use ReLU activation function\n",
    "h_2 = tf.maximum(tf.nn.conv2d(h_1, weights['w2'], strides=[1, 2, 2, 1], padding='SAME') + biases['b2'], 0)\n",
    "# output is 14x14, since input is 28x28 and stride = 2 (which halves the input size)\n",
    "# use ReLU activation function\n",
    "h_3 = tf.maximum(tf.nn.conv2d(h_2, weights['w3'], strides=[1, 2, 2, 1], padding='SAME') + biases['b3'], 0)\n",
    "# output is 7x7, since input is 14x14 and stride = 2 (which halves the input size)\n",
    "# use ReLU activation function\n",
    "\n",
    "# Now flatten the output into a 1 x 7*7*n_3 tensor:\n",
    "h_3 = tf.reshape(h_3, shape=[-1, 7 * 7 * n_3])   \n",
    "h_4 = tf.nn.dropout(tf.maximum(tf.add(tf.matmul(h_3, weights['w4']), biases['b4']), 0), p)   #ReLU\n",
    "y   = tf.math.softmax(tf.matmul(h_4, weights['w5']) + biases['b5'])                          #Softmax\n",
    "#PREVIOUS: y = output_layer\n"
   ]
  },
  {
   "cell_type": "code",
   "execution_count": 6,
   "metadata": {
    "slideshow": {
     "slide_type": "slide"
    }
   },
   "outputs": [],
   "source": [
    "####################################\n",
    "## Loss Function and Optimization ##\n",
    "####################################\n",
    "cross_entropy = -tf.reduce_mean(ystar * tf.log(y)) + 0.00001    #don't use the python-function anymore\n",
    "                                                                #code it mathematically\n",
    "#cross_entropy = tf.reduce_mean(   \n",
    "#    tf.nn.softmax_cross_entropy_with_logits(  #use cross_entropy norm\n",
    "#        labels=ystar, logits = y\n",
    "#        ))\n",
    "\n",
    "train_step = tf.train.AdamOptimizer(1e-4).minimize(cross_entropy)\n",
    "#                      #use the Adam Gradient Descent Optimizer"
   ]
  },
  {
   "cell_type": "code",
   "execution_count": 7,
   "metadata": {
    "slideshow": {
     "slide_type": "slide"
    }
   },
   "outputs": [],
   "source": [
    "#####################\n",
    "## Define Accuracy ##\n",
    "#####################\n",
    "\n",
    "correct_pred = tf.equal(tf.argmax(y, 1), tf.argmax(ystar, 1))\n",
    "accuracy = tf.reduce_mean(tf.cast(correct_pred, tf.float32))"
   ]
  },
  {
   "cell_type": "code",
   "execution_count": 8,
   "metadata": {},
   "outputs": [
    {
     "name": "stdout",
     "output_type": "stream",
     "text": [
      "Iteration 0 \t Minibatch-Loss = 0.23188666 \t Minibatch-Accuracy = 0.1328125\n",
      "Iteration 0 \t Test-loss      = 0.23030078 \t Test-Accuracy      = 0.1393\n",
      "------------------------------------------------------------------------------\n",
      "Iteration 100 \t Minibatch-Loss = 0.20847856 \t Minibatch-Accuracy = 0.3671875\n",
      "Iteration 100 \t Test-loss      = 0.20825718 \t Test-Accuracy      = 0.5149\n",
      "------------------------------------------------------------------------------\n",
      "Iteration 200 \t Minibatch-Loss = 0.1212745 \t Minibatch-Accuracy = 0.6484375\n",
      "Iteration 200 \t Test-loss      = 0.11523244 \t Test-Accuracy      = 0.7922\n",
      "------------------------------------------------------------------------------\n",
      "Iteration 300 \t Minibatch-Loss = 0.05919627 \t Minibatch-Accuracy = 0.828125\n",
      "Iteration 300 \t Test-loss      = 0.052880038 \t Test-Accuracy      = 0.8661\n",
      "------------------------------------------------------------------------------\n",
      "Iteration 400 \t Minibatch-Loss = 0.04886139 \t Minibatch-Accuracy = 0.859375\n",
      "Iteration 400 \t Test-loss      = 0.038805567 \t Test-Accuracy      = 0.8978\n",
      "------------------------------------------------------------------------------\n",
      "Iteration 500 \t Minibatch-Loss = 0.042572524 \t Minibatch-Accuracy = 0.8671875\n",
      "Iteration 500 \t Test-loss      = 0.03293251 \t Test-Accuracy      = 0.9096\n",
      "------------------------------------------------------------------------------\n",
      "Iteration 600 \t Minibatch-Loss = 0.03875957 \t Minibatch-Accuracy = 0.8984375\n",
      "Iteration 600 \t Test-loss      = 0.02933274 \t Test-Accuracy      = 0.9157\n",
      "------------------------------------------------------------------------------\n",
      "Iteration 700 \t Minibatch-Loss = 0.03190515 \t Minibatch-Accuracy = 0.8828125\n",
      "Iteration 700 \t Test-loss      = 0.02683298 \t Test-Accuracy      = 0.9239\n",
      "------------------------------------------------------------------------------\n",
      "Iteration 800 \t Minibatch-Loss = 0.024916632 \t Minibatch-Accuracy = 0.9375\n",
      "Iteration 800 \t Test-loss      = 0.024700325 \t Test-Accuracy      = 0.931\n",
      "------------------------------------------------------------------------------\n",
      "Iteration 900 \t Minibatch-Loss = 0.026362848 \t Minibatch-Accuracy = 0.9375\n",
      "Iteration 900 \t Test-loss      = 0.02326603 \t Test-Accuracy      = 0.9326\n",
      "------------------------------------------------------------------------------\n",
      "Iteration 1000 \t Minibatch-Loss = 0.023682974 \t Minibatch-Accuracy = 0.9296875\n",
      "Iteration 1000 \t Test-loss      = 0.021882506 \t Test-Accuracy      = 0.9348\n",
      "------------------------------------------------------------------------------\n",
      "Iteration 1100 \t Minibatch-Loss = 0.025793396 \t Minibatch-Accuracy = 0.9296875\n",
      "Iteration 1100 \t Test-loss      = 0.020531734 \t Test-Accuracy      = 0.9376\n",
      "------------------------------------------------------------------------------\n",
      "Iteration 1200 \t Minibatch-Loss = 0.020650672 \t Minibatch-Accuracy = 0.921875\n",
      "Iteration 1200 \t Test-loss      = 0.019917984 \t Test-Accuracy      = 0.9386\n",
      "------------------------------------------------------------------------------\n",
      "Iteration 1300 \t Minibatch-Loss = 0.015520628 \t Minibatch-Accuracy = 0.9375\n",
      "Iteration 1300 \t Test-loss      = 0.018517282 \t Test-Accuracy      = 0.9443\n",
      "------------------------------------------------------------------------------\n",
      "Iteration 1400 \t Minibatch-Loss = 0.019027533 \t Minibatch-Accuracy = 0.9375\n",
      "Iteration 1400 \t Test-loss      = 0.01770977 \t Test-Accuracy      = 0.946\n",
      "------------------------------------------------------------------------------\n",
      "Iteration 1500 \t Minibatch-Loss = 0.035631698 \t Minibatch-Accuracy = 0.8828125\n",
      "Iteration 1500 \t Test-loss      = 0.017045138 \t Test-Accuracy      = 0.9486\n",
      "------------------------------------------------------------------------------\n",
      "Iteration 1600 \t Minibatch-Loss = 0.010062837 \t Minibatch-Accuracy = 0.96875\n",
      "Iteration 1600 \t Test-loss      = 0.016308209 \t Test-Accuracy      = 0.9493\n",
      "------------------------------------------------------------------------------\n",
      "Iteration 1700 \t Minibatch-Loss = 0.020298988 \t Minibatch-Accuracy = 0.953125\n",
      "Iteration 1700 \t Test-loss      = 0.015473106 \t Test-Accuracy      = 0.9523\n",
      "------------------------------------------------------------------------------\n",
      "Iteration 1800 \t Minibatch-Loss = 0.01838946 \t Minibatch-Accuracy = 0.9375\n",
      "Iteration 1800 \t Test-loss      = 0.014923418 \t Test-Accuracy      = 0.9546\n",
      "------------------------------------------------------------------------------\n",
      "Iteration 1900 \t Minibatch-Loss = 0.010700083 \t Minibatch-Accuracy = 0.984375\n",
      "Iteration 1900 \t Test-loss      = 0.0143635 \t Test-Accuracy      = 0.9554\n",
      "------------------------------------------------------------------------------\n",
      "Iteration 2000 \t Minibatch-Loss = 0.016463976 \t Minibatch-Accuracy = 0.9296875\n",
      "Iteration 2000 \t Test-loss      = 0.013841989 \t Test-Accuracy      = 0.9574\n",
      "------------------------------------------------------------------------------\n",
      "Iteration 2100 \t Minibatch-Loss = 0.020682411 \t Minibatch-Accuracy = 0.921875\n",
      "Iteration 2100 \t Test-loss      = 0.013474045 \t Test-Accuracy      = 0.9592\n",
      "------------------------------------------------------------------------------\n",
      "Iteration 2200 \t Minibatch-Loss = 0.015804926 \t Minibatch-Accuracy = 0.9453125\n",
      "Iteration 2200 \t Test-loss      = 0.013139528 \t Test-Accuracy      = 0.9604\n",
      "------------------------------------------------------------------------------\n",
      "Iteration 2300 \t Minibatch-Loss = 0.0112042045 \t Minibatch-Accuracy = 0.96875\n",
      "Iteration 2300 \t Test-loss      = 0.012793894 \t Test-Accuracy      = 0.9614\n",
      "------------------------------------------------------------------------------\n",
      "Iteration 2400 \t Minibatch-Loss = 0.013326649 \t Minibatch-Accuracy = 0.9609375\n",
      "Iteration 2400 \t Test-loss      = 0.01228428 \t Test-Accuracy      = 0.9629\n",
      "------------------------------------------------------------------------------\n",
      "Iteration 2500 \t Minibatch-Loss = 0.0065388246 \t Minibatch-Accuracy = 0.9765625\n",
      "Iteration 2500 \t Test-loss      = 0.011866579 \t Test-Accuracy      = 0.9631\n",
      "------------------------------------------------------------------------------\n",
      "Iteration 2600 \t Minibatch-Loss = 0.017050477 \t Minibatch-Accuracy = 0.953125\n",
      "Iteration 2600 \t Test-loss      = 0.011810639 \t Test-Accuracy      = 0.9634\n",
      "------------------------------------------------------------------------------\n",
      "Iteration 2700 \t Minibatch-Loss = 0.0115829995 \t Minibatch-Accuracy = 0.953125\n",
      "Iteration 2700 \t Test-loss      = 0.01174085 \t Test-Accuracy      = 0.9634\n",
      "------------------------------------------------------------------------------\n",
      "Iteration 2800 \t Minibatch-Loss = 0.011347502 \t Minibatch-Accuracy = 0.9609375\n",
      "Iteration 2800 \t Test-loss      = 0.0111654345 \t Test-Accuracy      = 0.9655\n",
      "------------------------------------------------------------------------------\n",
      "Iteration 2900 \t Minibatch-Loss = 0.009043657 \t Minibatch-Accuracy = 0.9765625\n",
      "Iteration 2900 \t Test-loss      = 0.01109216 \t Test-Accuracy      = 0.9639\n",
      "------------------------------------------------------------------------------\n",
      "Iteration 3000 \t Minibatch-Loss = 0.02045933 \t Minibatch-Accuracy = 0.9453125\n",
      "Iteration 3000 \t Test-loss      = 0.010420769 \t Test-Accuracy      = 0.9685\n",
      "------------------------------------------------------------------------------\n",
      "Iteration 3100 \t Minibatch-Loss = 0.015755907 \t Minibatch-Accuracy = 0.9453125\n",
      "Iteration 3100 \t Test-loss      = 0.010557563 \t Test-Accuracy      = 0.9663\n",
      "------------------------------------------------------------------------------\n",
      "Iteration 3200 \t Minibatch-Loss = 0.014463472 \t Minibatch-Accuracy = 0.953125\n",
      "Iteration 3200 \t Test-loss      = 0.010547999 \t Test-Accuracy      = 0.9676\n",
      "------------------------------------------------------------------------------\n",
      "Iteration 3300 \t Minibatch-Loss = 0.006208966 \t Minibatch-Accuracy = 0.984375\n",
      "Iteration 3300 \t Test-loss      = 0.009948256 \t Test-Accuracy      = 0.9669\n",
      "------------------------------------------------------------------------------\n",
      "Iteration 3400 \t Minibatch-Loss = 0.007904879 \t Minibatch-Accuracy = 0.9609375\n",
      "Iteration 3400 \t Test-loss      = 0.00988884 \t Test-Accuracy      = 0.97\n",
      "------------------------------------------------------------------------------\n",
      "Iteration 3500 \t Minibatch-Loss = 0.015312235 \t Minibatch-Accuracy = 0.9609375\n",
      "Iteration 3500 \t Test-loss      = 0.00999801 \t Test-Accuracy      = 0.969\n",
      "------------------------------------------------------------------------------\n"
     ]
    },
    {
     "name": "stdout",
     "output_type": "stream",
     "text": [
      "Iteration 3600 \t Minibatch-Loss = 0.013492464 \t Minibatch-Accuracy = 0.953125\n",
      "Iteration 3600 \t Test-loss      = 0.009418728 \t Test-Accuracy      = 0.9705\n",
      "------------------------------------------------------------------------------\n",
      "Iteration 3700 \t Minibatch-Loss = 0.007199378 \t Minibatch-Accuracy = 0.984375\n",
      "Iteration 3700 \t Test-loss      = 0.009105887 \t Test-Accuracy      = 0.9709\n",
      "------------------------------------------------------------------------------\n",
      "Iteration 3800 \t Minibatch-Loss = 0.016088923 \t Minibatch-Accuracy = 0.9609375\n",
      "Iteration 3800 \t Test-loss      = 0.009009834 \t Test-Accuracy      = 0.9707\n",
      "------------------------------------------------------------------------------\n",
      "Iteration 3900 \t Minibatch-Loss = 0.009432679 \t Minibatch-Accuracy = 0.953125\n",
      "Iteration 3900 \t Test-loss      = 0.008850079 \t Test-Accuracy      = 0.971\n",
      "------------------------------------------------------------------------------\n",
      "Iteration 4000 \t Minibatch-Loss = 0.015638452 \t Minibatch-Accuracy = 0.9765625\n",
      "Iteration 4000 \t Test-loss      = 0.008703561 \t Test-Accuracy      = 0.972\n",
      "------------------------------------------------------------------------------\n",
      "Iteration 4100 \t Minibatch-Loss = 0.012212255 \t Minibatch-Accuracy = 0.953125\n",
      "Iteration 4100 \t Test-loss      = 0.008792742 \t Test-Accuracy      = 0.9735\n",
      "------------------------------------------------------------------------------\n",
      "Iteration 4200 \t Minibatch-Loss = 0.019210117 \t Minibatch-Accuracy = 0.9453125\n",
      "Iteration 4200 \t Test-loss      = 0.008520037 \t Test-Accuracy      = 0.9741\n",
      "------------------------------------------------------------------------------\n",
      "Iteration 4300 \t Minibatch-Loss = 0.0089338925 \t Minibatch-Accuracy = 0.9765625\n",
      "Iteration 4300 \t Test-loss      = 0.00837561 \t Test-Accuracy      = 0.9738\n",
      "------------------------------------------------------------------------------\n",
      "Iteration 4400 \t Minibatch-Loss = 0.006600836 \t Minibatch-Accuracy = 0.9765625\n",
      "Iteration 4400 \t Test-loss      = 0.008526086 \t Test-Accuracy      = 0.9727\n",
      "------------------------------------------------------------------------------\n",
      "Iteration 4500 \t Minibatch-Loss = 0.015155078 \t Minibatch-Accuracy = 0.953125\n",
      "Iteration 4500 \t Test-loss      = 0.008110157 \t Test-Accuracy      = 0.9744\n",
      "------------------------------------------------------------------------------\n",
      "Iteration 4600 \t Minibatch-Loss = 0.00990232 \t Minibatch-Accuracy = 0.96875\n",
      "Iteration 4600 \t Test-loss      = 0.007879955 \t Test-Accuracy      = 0.9762\n",
      "------------------------------------------------------------------------------\n",
      "Iteration 4700 \t Minibatch-Loss = 0.0072942167 \t Minibatch-Accuracy = 0.9765625\n",
      "Iteration 4700 \t Test-loss      = 0.0082118 \t Test-Accuracy      = 0.9744\n",
      "------------------------------------------------------------------------------\n",
      "Iteration 4800 \t Minibatch-Loss = 0.010259327 \t Minibatch-Accuracy = 0.9765625\n",
      "Iteration 4800 \t Test-loss      = 0.0078083533 \t Test-Accuracy      = 0.9751\n",
      "------------------------------------------------------------------------------\n",
      "Iteration 4900 \t Minibatch-Loss = 0.015035901 \t Minibatch-Accuracy = 0.953125\n",
      "Iteration 4900 \t Test-loss      = 0.007935352 \t Test-Accuracy      = 0.9755\n",
      "------------------------------------------------------------------------------\n",
      "Iteration 5000 \t Minibatch-Loss = 0.012692694 \t Minibatch-Accuracy = 0.953125\n",
      "Iteration 5000 \t Test-loss      = 0.007712549 \t Test-Accuracy      = 0.9758\n",
      "------------------------------------------------------------------------------\n",
      "Iteration 5100 \t Minibatch-Loss = 0.0077763186 \t Minibatch-Accuracy = 0.984375\n",
      "Iteration 5100 \t Test-loss      = 0.0077193673 \t Test-Accuracy      = 0.9755\n",
      "------------------------------------------------------------------------------\n",
      "Iteration 5200 \t Minibatch-Loss = 0.0070610195 \t Minibatch-Accuracy = 0.984375\n",
      "Iteration 5200 \t Test-loss      = 0.0077061034 \t Test-Accuracy      = 0.9759\n",
      "------------------------------------------------------------------------------\n",
      "Iteration 5300 \t Minibatch-Loss = 0.0055468692 \t Minibatch-Accuracy = 0.9765625\n",
      "Iteration 5300 \t Test-loss      = 0.0073191263 \t Test-Accuracy      = 0.9763\n",
      "------------------------------------------------------------------------------\n",
      "Iteration 5400 \t Minibatch-Loss = 0.008866723 \t Minibatch-Accuracy = 0.96875\n",
      "Iteration 5400 \t Test-loss      = 0.0076642884 \t Test-Accuracy      = 0.9762\n",
      "------------------------------------------------------------------------------\n",
      "Iteration 5500 \t Minibatch-Loss = 0.0060716225 \t Minibatch-Accuracy = 0.984375\n",
      "Iteration 5500 \t Test-loss      = 0.0072424305 \t Test-Accuracy      = 0.9759\n",
      "------------------------------------------------------------------------------\n",
      "Iteration 5600 \t Minibatch-Loss = 0.021735437 \t Minibatch-Accuracy = 0.9453125\n",
      "Iteration 5600 \t Test-loss      = 0.0071486584 \t Test-Accuracy      = 0.9777\n",
      "------------------------------------------------------------------------------\n",
      "Iteration 5700 \t Minibatch-Loss = 0.009014371 \t Minibatch-Accuracy = 0.96875\n",
      "Iteration 5700 \t Test-loss      = 0.0070214453 \t Test-Accuracy      = 0.9778\n",
      "------------------------------------------------------------------------------\n",
      "Iteration 5800 \t Minibatch-Loss = 0.013482994 \t Minibatch-Accuracy = 0.96875\n",
      "Iteration 5800 \t Test-loss      = 0.006987301 \t Test-Accuracy      = 0.9785\n",
      "------------------------------------------------------------------------------\n",
      "Iteration 5900 \t Minibatch-Loss = 0.012870772 \t Minibatch-Accuracy = 0.9453125\n",
      "Iteration 5900 \t Test-loss      = 0.006853193 \t Test-Accuracy      = 0.9778\n",
      "------------------------------------------------------------------------------\n",
      "Iteration 6000 \t Minibatch-Loss = 0.0027783378 \t Minibatch-Accuracy = 0.9921875\n",
      "Iteration 6000 \t Test-loss      = 0.006830981 \t Test-Accuracy      = 0.9783\n",
      "------------------------------------------------------------------------------\n",
      "Iteration 6100 \t Minibatch-Loss = 0.014465063 \t Minibatch-Accuracy = 0.9609375\n",
      "Iteration 6100 \t Test-loss      = 0.0067240777 \t Test-Accuracy      = 0.9788\n",
      "------------------------------------------------------------------------------\n",
      "Iteration 6200 \t Minibatch-Loss = 0.010669126 \t Minibatch-Accuracy = 0.953125\n",
      "Iteration 6200 \t Test-loss      = 0.00658944 \t Test-Accuracy      = 0.9787\n",
      "------------------------------------------------------------------------------\n",
      "Iteration 6300 \t Minibatch-Loss = 0.0073857745 \t Minibatch-Accuracy = 0.9765625\n",
      "Iteration 6300 \t Test-loss      = 0.00689935 \t Test-Accuracy      = 0.9783\n",
      "------------------------------------------------------------------------------\n",
      "Iteration 6400 \t Minibatch-Loss = 0.0049947007 \t Minibatch-Accuracy = 0.9921875\n",
      "Iteration 6400 \t Test-loss      = 0.0067144586 \t Test-Accuracy      = 0.9787\n",
      "------------------------------------------------------------------------------\n",
      "Iteration 6500 \t Minibatch-Loss = 0.01227285 \t Minibatch-Accuracy = 0.96875\n",
      "Iteration 6500 \t Test-loss      = 0.00657601 \t Test-Accuracy      = 0.98\n",
      "------------------------------------------------------------------------------\n",
      "Iteration 6600 \t Minibatch-Loss = 0.0034393205 \t Minibatch-Accuracy = 0.9921875\n",
      "Iteration 6600 \t Test-loss      = 0.0064596026 \t Test-Accuracy      = 0.98\n",
      "------------------------------------------------------------------------------\n",
      "Iteration 6700 \t Minibatch-Loss = 0.006159807 \t Minibatch-Accuracy = 0.96875\n",
      "Iteration 6700 \t Test-loss      = 0.00641606 \t Test-Accuracy      = 0.9805\n",
      "------------------------------------------------------------------------------\n",
      "Iteration 6800 \t Minibatch-Loss = 0.014825202 \t Minibatch-Accuracy = 0.9453125\n",
      "Iteration 6800 \t Test-loss      = 0.0063573644 \t Test-Accuracy      = 0.9792\n",
      "------------------------------------------------------------------------------\n",
      "Iteration 6900 \t Minibatch-Loss = 0.008851581 \t Minibatch-Accuracy = 0.9765625\n",
      "Iteration 6900 \t Test-loss      = 0.006230159 \t Test-Accuracy      = 0.9793\n",
      "------------------------------------------------------------------------------\n",
      "Iteration 7000 \t Minibatch-Loss = 0.0054158815 \t Minibatch-Accuracy = 0.96875\n",
      "Iteration 7000 \t Test-loss      = 0.0060775075 \t Test-Accuracy      = 0.9811\n",
      "------------------------------------------------------------------------------\n",
      "Iteration 7100 \t Minibatch-Loss = 0.0019092753 \t Minibatch-Accuracy = 1.0\n",
      "Iteration 7100 \t Test-loss      = 0.006272725 \t Test-Accuracy      = 0.9791\n",
      "------------------------------------------------------------------------------\n"
     ]
    },
    {
     "name": "stdout",
     "output_type": "stream",
     "text": [
      "Iteration 7200 \t Minibatch-Loss = 0.0051924125 \t Minibatch-Accuracy = 0.984375\n",
      "Iteration 7200 \t Test-loss      = 0.006252232 \t Test-Accuracy      = 0.9798\n",
      "------------------------------------------------------------------------------\n",
      "Iteration 7300 \t Minibatch-Loss = 0.006969784 \t Minibatch-Accuracy = 0.9765625\n",
      "Iteration 7300 \t Test-loss      = 0.0060996907 \t Test-Accuracy      = 0.9806\n",
      "------------------------------------------------------------------------------\n",
      "Iteration 7400 \t Minibatch-Loss = 0.009188894 \t Minibatch-Accuracy = 0.9609375\n",
      "Iteration 7400 \t Test-loss      = 0.005988693 \t Test-Accuracy      = 0.9815\n",
      "------------------------------------------------------------------------------\n",
      "Iteration 7500 \t Minibatch-Loss = 0.0098183965 \t Minibatch-Accuracy = 0.96875\n",
      "Iteration 7500 \t Test-loss      = 0.0061796214 \t Test-Accuracy      = 0.9799\n",
      "------------------------------------------------------------------------------\n",
      "Iteration 7600 \t Minibatch-Loss = 0.0095237 \t Minibatch-Accuracy = 0.9765625\n",
      "Iteration 7600 \t Test-loss      = 0.006075994 \t Test-Accuracy      = 0.9815\n",
      "------------------------------------------------------------------------------\n",
      "Iteration 7700 \t Minibatch-Loss = 0.007768692 \t Minibatch-Accuracy = 0.984375\n",
      "Iteration 7700 \t Test-loss      = 0.005853445 \t Test-Accuracy      = 0.9825\n",
      "------------------------------------------------------------------------------\n",
      "Iteration 7800 \t Minibatch-Loss = 0.0035926662 \t Minibatch-Accuracy = 1.0\n",
      "Iteration 7800 \t Test-loss      = 0.005768834 \t Test-Accuracy      = 0.9811\n",
      "------------------------------------------------------------------------------\n",
      "Iteration 7900 \t Minibatch-Loss = 0.005369365 \t Minibatch-Accuracy = 0.9609375\n",
      "Iteration 7900 \t Test-loss      = 0.0058056763 \t Test-Accuracy      = 0.9835\n",
      "------------------------------------------------------------------------------\n",
      "Iteration 8000 \t Minibatch-Loss = 0.011053932 \t Minibatch-Accuracy = 0.9609375\n",
      "Iteration 8000 \t Test-loss      = 0.005821698 \t Test-Accuracy      = 0.9818\n",
      "------------------------------------------------------------------------------\n",
      "Iteration 8100 \t Minibatch-Loss = 0.0070993644 \t Minibatch-Accuracy = 0.9609375\n",
      "Iteration 8100 \t Test-loss      = 0.005686926 \t Test-Accuracy      = 0.9817\n",
      "------------------------------------------------------------------------------\n",
      "Iteration 8200 \t Minibatch-Loss = 0.007228507 \t Minibatch-Accuracy = 0.9609375\n",
      "Iteration 8200 \t Test-loss      = 0.005596273 \t Test-Accuracy      = 0.9823\n",
      "------------------------------------------------------------------------------\n",
      "Iteration 8300 \t Minibatch-Loss = 0.007074792 \t Minibatch-Accuracy = 0.96875\n",
      "Iteration 8300 \t Test-loss      = 0.005695845 \t Test-Accuracy      = 0.9819\n",
      "------------------------------------------------------------------------------\n",
      "Iteration 8400 \t Minibatch-Loss = 0.0011757116 \t Minibatch-Accuracy = 1.0\n",
      "Iteration 8400 \t Test-loss      = 0.0057310415 \t Test-Accuracy      = 0.9821\n",
      "------------------------------------------------------------------------------\n",
      "Iteration 8500 \t Minibatch-Loss = 0.0028817332 \t Minibatch-Accuracy = 0.9921875\n",
      "Iteration 8500 \t Test-loss      = 0.0056891474 \t Test-Accuracy      = 0.9819\n",
      "------------------------------------------------------------------------------\n",
      "Iteration 8600 \t Minibatch-Loss = 0.009974619 \t Minibatch-Accuracy = 0.984375\n",
      "Iteration 8600 \t Test-loss      = 0.0054528303 \t Test-Accuracy      = 0.9831\n",
      "------------------------------------------------------------------------------\n",
      "Iteration 8700 \t Minibatch-Loss = 0.011559236 \t Minibatch-Accuracy = 0.96875\n",
      "Iteration 8700 \t Test-loss      = 0.0055830977 \t Test-Accuracy      = 0.984\n",
      "------------------------------------------------------------------------------\n",
      "Iteration 8800 \t Minibatch-Loss = 0.005751685 \t Minibatch-Accuracy = 0.984375\n",
      "Iteration 8800 \t Test-loss      = 0.005491809 \t Test-Accuracy      = 0.9834\n",
      "------------------------------------------------------------------------------\n",
      "Iteration 8900 \t Minibatch-Loss = 0.006825781 \t Minibatch-Accuracy = 0.984375\n",
      "Iteration 8900 \t Test-loss      = 0.0054683588 \t Test-Accuracy      = 0.983\n",
      "------------------------------------------------------------------------------\n",
      "Iteration 9000 \t Minibatch-Loss = 0.004198879 \t Minibatch-Accuracy = 0.9765625\n",
      "Iteration 9000 \t Test-loss      = 0.0054653906 \t Test-Accuracy      = 0.983\n",
      "------------------------------------------------------------------------------\n",
      "Iteration 9100 \t Minibatch-Loss = 0.0030765925 \t Minibatch-Accuracy = 0.9921875\n",
      "Iteration 9100 \t Test-loss      = 0.0054440056 \t Test-Accuracy      = 0.9822\n",
      "------------------------------------------------------------------------------\n",
      "Iteration 9200 \t Minibatch-Loss = 0.003796127 \t Minibatch-Accuracy = 0.984375\n",
      "Iteration 9200 \t Test-loss      = 0.005443673 \t Test-Accuracy      = 0.9826\n",
      "------------------------------------------------------------------------------\n",
      "Iteration 9300 \t Minibatch-Loss = 0.0038660008 \t Minibatch-Accuracy = 0.9765625\n",
      "Iteration 9300 \t Test-loss      = 0.0053303284 \t Test-Accuracy      = 0.9835\n",
      "------------------------------------------------------------------------------\n",
      "Iteration 9400 \t Minibatch-Loss = 0.0075769 \t Minibatch-Accuracy = 0.96875\n",
      "Iteration 9400 \t Test-loss      = 0.0054327087 \t Test-Accuracy      = 0.9838\n",
      "------------------------------------------------------------------------------\n",
      "Iteration 9500 \t Minibatch-Loss = 0.007958935 \t Minibatch-Accuracy = 0.96875\n",
      "Iteration 9500 \t Test-loss      = 0.0053840103 \t Test-Accuracy      = 0.9831\n",
      "------------------------------------------------------------------------------\n",
      "Iteration 9600 \t Minibatch-Loss = 0.011877664 \t Minibatch-Accuracy = 0.96875\n",
      "Iteration 9600 \t Test-loss      = 0.00534902 \t Test-Accuracy      = 0.9834\n",
      "------------------------------------------------------------------------------\n",
      "Iteration 9700 \t Minibatch-Loss = 0.0023505564 \t Minibatch-Accuracy = 0.9921875\n",
      "Iteration 9700 \t Test-loss      = 0.0051934784 \t Test-Accuracy      = 0.9835\n",
      "------------------------------------------------------------------------------\n",
      "Iteration 9800 \t Minibatch-Loss = 0.002758418 \t Minibatch-Accuracy = 0.984375\n",
      "Iteration 9800 \t Test-loss      = 0.005294939 \t Test-Accuracy      = 0.9836\n",
      "------------------------------------------------------------------------------\n",
      "Iteration 9900 \t Minibatch-Loss = 0.0008498028 \t Minibatch-Accuracy = 1.0\n",
      "Iteration 9900 \t Test-loss      = 0.005344876 \t Test-Accuracy      = 0.9828\n",
      "------------------------------------------------------------------------------\n"
     ]
    }
   ],
   "source": [
    "################\n",
    "## Run the NN ##\n",
    "################\n",
    "dropout = 0.5\n",
    "init = tf.global_variables_initializer()\n",
    "sess = tf.Session()\n",
    "sess.run(init)\n",
    "\n",
    "t_loss = [None] * int(n_iterations/100)\n",
    "b_loss = [None] * int(n_iterations/100)\n",
    "\n",
    "t_acc = [None] * int(n_iterations/100)\n",
    "b_acc = [None] * int(n_iterations/100)\n",
    "\n",
    "for i in range(n_iterations):\n",
    "    batch_x, batch_y = mnist.train.next_batch(batch_size)\n",
    "    \n",
    "    #batch_x = tf.reshape(batch_x, [-1,28,28,1])\n",
    "    sess.run(train_step, feed_dict={\n",
    "        x: batch_x, ystar: batch_y, p: 0.75}\n",
    "            )\n",
    "\n",
    "    # print loss and accuracy (per minibatch)\n",
    "    if i % 100 == 0:\n",
    "        minibatch_loss, minibatch_accuracy = sess.run(\n",
    "            [cross_entropy, accuracy],\n",
    "            feed_dict={x: batch_x, ystar: batch_y, p: 0.75}\n",
    "            )\n",
    "        \n",
    "        test_accuracy = sess.run(accuracy, feed_dict={\n",
    "            x: mnist.test.images, ystar: mnist.test.labels, p: 1\n",
    "        })\n",
    "        test_loss     = sess.run(cross_entropy, feed_dict={\n",
    "            x: mnist.test.images, ystar: mnist.test.labels, p: 1\n",
    "        }) \n",
    "        \n",
    "        \n",
    "        j=int(i/100)\n",
    "        t_loss[j] = test_loss\n",
    "        b_loss[j] = minibatch_loss\n",
    "        \n",
    "        t_acc[j]  = test_accuracy\n",
    "        b_acc[j]  = minibatch_accuracy\n",
    "        \n",
    "        print(\n",
    "            \"Iteration\",\n",
    "            str(i),\n",
    "            \"\\t Minibatch-Loss =\",\n",
    "            str(minibatch_loss),\n",
    "            \"\\t Minibatch-Accuracy =\",\n",
    "            str(minibatch_accuracy))\n",
    "        print(\n",
    "            \"Iteration\",\n",
    "            str(i),\n",
    "            \"\\t Test-loss      =\",\n",
    "            str(test_loss),\n",
    "            \"\\t Test-Accuracy      =\",\n",
    "            str(test_accuracy)\n",
    "            )\n",
    "        print(\"------------------------------------------------------------------------------\")"
   ]
  },
  {
   "cell_type": "code",
   "execution_count": 15,
   "metadata": {},
   "outputs": [
    {
     "data": {
      "image/png": "[encoded data removed]",
      "text/plain": [
       "<Figure size 432x288 with 1 Axes>"
      ]
     },
     "metadata": {
      "needs_background": "light"
     },
     "output_type": "display_data"
    },
    {
     "name": "stdout",
     "output_type": "stream",
     "text": [
      "Prediction: 4\n"
     ]
    }
   ],
   "source": [
    "#######################################\n",
    "## Checking the performance manually ##\n",
    "#######################################\n",
    "\n",
    "test_digit = 24\n",
    "\n",
    "img = np.reshape(mnist.test.images[test_digit,:], [28,28])\n",
    "plt.imshow(img, cmap='Greys')\n",
    "plt.show()\n",
    "\n",
    "#dig = np.argmax(mnist.test.labels[test_digit,:])\n",
    "#print(dig)\n",
    "\n",
    "prediction = sess.run(tf.argmax(y, 1), feed_dict={x: mnist.test.images})\n",
    "print (\"Prediction:\", np.squeeze(prediction)[test_digit])"
   ]
  },
  {
   "cell_type": "code",
   "execution_count": 48,
   "metadata": {},
   "outputs": [
    {
     "data": {
      "text/plain": [
       "Text(0.5, 1.0, 'Loss for Minibatch (red) and Test-Data (blue)')"
      ]
     },
     "execution_count": 48,
     "metadata": {},
     "output_type": "execute_result"
    },
    {
     "data": {
      "image/png": "[encoded data removed]",
      "text/plain": [
       "<Figure size 432x288 with 1 Axes>"
      ]
     },
     "metadata": {
      "needs_background": "light"
     },
     "output_type": "display_data"
    }
   ],
   "source": [
    "pr = np.arange(int(n_iterations/100))\n",
    "plt.ylim(0,0.04)\n",
    "plt.plot(pr,t_loss, pr, b_loss, 'r')\n",
    "plt.title('Loss for Minibatch (red) and Test-Data (blue)')"
   ]
  },
  {
   "cell_type": "code",
   "execution_count": 49,
   "metadata": {},
   "outputs": [
    {
     "data": {
      "text/plain": [
       "Text(0.5, 1.0, 'Accuracy for Minibatch (red) and Test-Data (blue)')"
      ]
     },
     "execution_count": 49,
     "metadata": {},
     "output_type": "execute_result"
    },
    {
     "data": {
      "image/png": "[encoded data removed]",
      "text/plain": [
       "<Figure size 432x288 with 1 Axes>"
      ]
     },
     "metadata": {
      "needs_background": "light"
     },
     "output_type": "display_data"
    }
   ],
   "source": [
    "pr = np.arange(int(n_iterations/100))\n",
    "plt.ylim(0.9,1.001)\n",
    "plt.plot(pr,t_acc, pr, b_acc, 'r')\n",
    "plt.title('Accuracy for Minibatch (red) and Test-Data (blue)' )"
   ]
  },
  {
   "cell_type": "code",
   "execution_count": null,
   "metadata": {},
   "outputs": [],
   "source": []
  }
 ],
 "metadata": {
  "celltoolbar": "Slideshow",
  "kernelspec": {
   "display_name": "Python 3",
   "language": "python",
   "name": "python3"
  },
  "language_info": {
   "codemirror_mode": {
    "name": "ipython",
    "version": 3
   },
   "file_extension": ".py",
   "mimetype": "text/x-python",
   "name": "python",
   "nbconvert_exporter": "python",
   "pygments_lexer": "ipython3",
   "version": "3.7.3"
  }
 },
 "nbformat": 4,
 "nbformat_minor": 2
}
