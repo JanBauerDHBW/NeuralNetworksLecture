{
 "cells": [
  {
   "cell_type": "markdown",
   "metadata": {
    "slideshow": {
     "slide_type": "slide"
    }
   },
   "source": [
    "# Recap\n",
    "\n",
    "### Lecture 1 (14.05.19)\n",
    "\n",
    "Lecturer: Jan Bauer (jan.bauer@dhbw-mannheim.de)"
   ]
  },
  {
   "cell_type": "markdown",
   "metadata": {
    "slideshow": {
     "slide_type": "slide"
    }
   },
   "source": [
    "### Perceptrone (1957, Rosenblatt)\n",
    "\n",
    "-  Several binary inputs produces a binary output.\n",
    "\n",
    "-  in $\\mathbb{R}^2$, it looks like:\n",
    "\n",
    "$y = \\phi( xW + b) =  \\begin{cases}\n",
    "0 & xW + b \\leq \\text{threshold} \\\\\n",
    "1 & xW + b  >     \\text{threshold}\n",
    "\\end{cases} = \\begin{cases}\n",
    "0 & x_{1}w_{1} + x_{2}w_{2} + b \\leq \\text{threshold} \\\\\n",
    "1 & x_{1}w_{1} + x_{2}w_{2} + b  >     \\text{threshold}\n",
    "\\end{cases} $\n",
    "\n"
   ]
  },
  {
   "cell_type": "markdown",
   "metadata": {
    "slideshow": {
     "slide_type": "slide"
    }
   },
   "source": [
    "### Limitatons\n",
    "\n",
    "Logical operations: (Remember: TRUE = 1, FALSE = 0)\n",
    "-  AND?\n",
    "    - (TRUE, TRUE) $\\to$ TRUE. (TRUE, FALSE) $\\to$ FALSE...\n",
    "-  OR?\n",
    "    - (TRUE, TRUE) $\\to$ TRUE. (TRUE, FALSE) $\\to$ TRUE...\n",
    "-  XOR? (Exclusive Or)\n",
    "    - (TRUE, TRUE) $\\to$ FALSE. (TRUE, FALSE) $\\to$ TRUE..."
   ]
  },
  {
   "cell_type": "markdown",
   "metadata": {
    "slideshow": {
     "slide_type": "slide"
    }
   },
   "source": [
    "### Solution:\n",
    "\n",
    "-  Nonlinear functions\n",
    "-  More layer (Multilayer Perception) **EXAMPLE**"
   ]
  },
  {
   "cell_type": "markdown",
   "metadata": {
    "slideshow": {
     "slide_type": "slide"
    }
   },
   "source": [
    "### Neural Network Architecture [Sketch]\n",
    "\n",
    "A NN associates to an input $X$ an output $y \\equiv f(X,W)$,\n",
    "-  $f: \\mathbb{R}^{D \\times N} \\rightarrow \\mathbb{R}^{D}$\n",
    "-  $X = \\begin{pmatrix}  x^{(11)} & x^{(12)} & \\cdots & x^{(1N)} \\\\\n",
    "                       x^{(21)} & x^{(22)} & \\cdots & x^{(2N)} \\\\\n",
    "                       \\vdots & \\vdots & \\ddots & \\vdots \\\\\n",
    "                       x^{(D1)} & x^{(D2)} & \\cdots & x^{(2N)} \\end{pmatrix}  = \\begin{pmatrix} x^{(1)} \\\\\n",
    "                       x^{(2)} \\\\\n",
    "                        \\vdots  \\\\\n",
    "                        x^{(D)} \\end{pmatrix} $ is $D \\times N$\n",
    "\n",
    "-  $W = \\begin{pmatrix}  w^{(1)} &\n",
    "                         w^{(2)} &\n",
    "                         \\cdots  &\n",
    "                         w^{(N)} \\end{pmatrix}'$ is $N \\times 1$\n",
    "                         \n",
    "-  $D = \\#$data (i.e. training data)\n",
    "\n"
   ]
  },
  {
   "cell_type": "markdown",
   "metadata": {
    "slideshow": {
     "slide_type": "subslide"
    }
   },
   "source": [
    "### Example:\n",
    "\n",
    "-  feed $5$ images ($D = 5$), with $784$ pixels per image $N=784$\n",
    "\n",
    "-  Output: 5-dimensional ($D \\times 1$) vector, containing the 'guess\" of the NN\n",
    "\n",
    "-  Possible Input: $\\begin{pmatrix}  \\text{Image 3} \\\\\n",
    "                                     \\text{Image 0} \\\\\n",
    "                                     \\text{Image 2} \\\\\n",
    "                                     \\text{Image 1} \\\\\n",
    "                                     \\text{Image 9} \\\\ \\end{pmatrix}$\n",
    "Possible output: $\\begin{pmatrix} \\text{\"it's a 3!\"} \\\\\n",
    "                                     \\text{\"it's a 0!\"} \\\\\n",
    "                                     \\text{\"it's a 3!\"} \\\\\n",
    "                                     \\text{\"it's a 1!\"} \\\\\n",
    "                                     \\text{\"it's a 9!\"} \\\\ \\end{pmatrix}$\n",
    "\n"
   ]
  },
  {
   "cell_type": "markdown",
   "metadata": {
    "slideshow": {
     "slide_type": "slide"
    }
   },
   "source": [
    "### Neural Network Architecture [Sketch]\n",
    "\n",
    "-  We will denote the output for the data point $d$ as $y_{[d]}$\n",
    "\n",
    "\n",
    "-  $y_{[d]}$ gives us a score to which class the data fits best\n",
    "    - TRICKY: Score (vector) or scalar?\n",
    "    - Score for training (\"80% sure, that this image represents an 8\") $\\to$ can be improved\n",
    "    - Scalar for application (\"it's an 8!\")"
   ]
  },
  {
   "cell_type": "markdown",
   "metadata": {
    "slideshow": {
     "slide_type": "slide"
    }
   },
   "source": [
    "### Neuron [Sketch]\n",
    "\n",
    "The $j$-th Neuron in layer $i$ associates to an input $Z_{i,j}$ from Neuron $k$ in layer $i-1$ an output $y_{i,j} \\equiv f_{i,j}(f_{i-1,k},W_{i,j})$, also called scores, s.t.\n",
    "-  $f_{i,j}: \\mathbb{R}^{D \\times N_{i-1}} \\rightarrow \\mathbb{R}^{D \\times N_i}$\n",
    "-  $Z_{i,j} = f_{i-1,k} W_{i,j} + b_{i,j} $\n",
    "-  $f_{i-1,k}$ is $D \\times N_{i-1}$\n",
    "-  $W_{i,j}$ is $N_{i-1} \\times N_i$"
   ]
  },
  {
   "cell_type": "markdown",
   "metadata": {
    "slideshow": {
     "slide_type": "slide"
    }
   },
   "source": [
    "### Softmax\n",
    "\n",
    "-  Yields the predicted probability for the $\\hat{k}$-th class, given a sample $x$ and a weighting $W$\n",
    "\n",
    "$$ P(y_{[d]} = \\hat{k} | x ) = \\dfrac{\\exp(y_{[d]}^{(\\hat{k})})}{\\sum\\limits_{k=1}^K \\exp(y_{[d]}^{(k)}) } $$\n",
    "\n",
    "-  Example: $ y_{[d]} = (5,0,3,2)' \\leadsto (0.8390, 0.0056, 0.1135, 0.0417)'$"
   ]
  },
  {
   "cell_type": "markdown",
   "metadata": {
    "slideshow": {
     "slide_type": "slide"
    }
   },
   "source": [
    "### Loss\n",
    "\n",
    "Sample average over the data loss using a loss function:\n",
    "$$ L(W) \\equiv L \\equiv \\hat{\\text{E}} L_d \\equiv  \\frac{1}{D} \\sum\\limits_{d=1}^D L_d (y_{[d]},X,W) $$"
   ]
  },
  {
   "cell_type": "markdown",
   "metadata": {
    "slideshow": {
     "slide_type": "slide"
    }
   },
   "source": [
    "### Loss\n",
    "\n",
    "#### Intuition:\n",
    "-  Loss is high when doing a poor job\n",
    "-  Loss is low when doing a good job\n",
    "\n",
    "$\\leadsto$ interested in distance between prediction and what is in fact correct"
   ]
  },
  {
   "cell_type": "markdown",
   "metadata": {
    "slideshow": {
     "slide_type": "slide"
    }
   },
   "source": [
    "\n",
    "### Loss Functions\n",
    "\n",
    "Distance? Just use a norm!\n",
    "\n",
    "- $\\mathcal{L}_1$ norm\n",
    "$$L_d = \\left|\\left|  y_{[d]} - y_{[d]}^\\ast \\right|\\right|_1 \\equiv \\sum\\limits_{k}\\left|  y_{[d]}^{(k)} - y_{[d]}^{\\ast(k)} \\right| $$\n",
    "\n",
    "\n",
    "- $\\mathcal{L}_2$ norm\n",
    "$$L_d = \\left|\\left|  y_{[d]} - y_{[d]}^\\ast \\right|\\right|_2^2 \\equiv \\sum\\limits_{k}\\left(  y_{[d]}^{(k)} - y_{[d]}^{\\ast(k)} \\right)^2$$"
   ]
  },
  {
   "cell_type": "markdown",
   "metadata": {
    "slideshow": {
     "slide_type": "subslide"
    }
   },
   "source": [
    "### Recap: Norm\n",
    "\n",
    "Let $x = (x_1, \\ldots , x_n)$. Then\n",
    "\n",
    "-  $\\left|\\left|x\\right|\\right|_1 \\equiv \\sum\\limits_{i=1}^n \\left| x_i \\right|$\n",
    "    - Example: $\\left|\\left| (1,-3)'  \\right|\\right|_1 = \\left|1\\right| + \\left|-3\\right| = 1+3 = 4$\n",
    "\n",
    "-  $\\left|\\left|x\\right|\\right|_2 \\equiv \\sqrt{\\sum\\limits_{i=1}^n x_i^2}$\n",
    "    - Example: $\\left|\\left| (1,-3)'  \\right|\\right|_2 = \\sqrt{1+9}  = \\sqrt{ (1)^2 + (-3)^2  } = \\sqrt{10}$"
   ]
  },
  {
   "cell_type": "markdown",
   "metadata": {
    "slideshow": {
     "slide_type": "subslide"
    }
   },
   "source": [
    "#### Example:\n",
    "\n",
    "Let $y_{[d]} = (1,2,3,4)'$, $ y_{[d]}^\\ast = (0,1,4,3)'$\n",
    "\n",
    "- $\\mathcal{L}_1$ norm\n",
    "$$L_d = \\left|\\left|  y_{[d]} - y_{[d]}^\\ast \\right|\\right|_1 \\leadsto 4$$\n",
    "\n",
    "\n",
    "- $\\mathcal{L}_2$ norm (squared)\n",
    "$$L_d = \\left|\\left|  y_{[d]} - y_{[d]}^\\ast \\right|\\right|_2^2 \\leadsto 4 $$"
   ]
  },
  {
   "cell_type": "markdown",
   "metadata": {
    "slideshow": {
     "slide_type": "slide"
    }
   },
   "source": [
    "### Exercise time\n",
    "\n",
    "Consider you feed your NN with three training data points, each of dimension three. As an outcome, you receive \n",
    "-  $y_{[1]} = (0,1,3)$, $y_{[2]} = (1,-1,5)$, $y_{[3]} = (2,1,0)$.\n",
    "\n",
    "The true values are\n",
    "-  $y_{[1]}^\\ast = (-2,1,4)$, $y_{[2]}^\\ast = (2,0,6)$, $y_{[3]}^\\ast = (0,0,0)$.\n",
    "\n",
    "What is the loss, using the $\\mathcal{L}_1$ (the squared $\\mathcal{L}_2$) norm?"
   ]
  },
  {
   "cell_type": "markdown",
   "metadata": {
    "slideshow": {
     "slide_type": "slide"
    }
   },
   "source": [
    "#### Foreshadowing:\n",
    "\n",
    "   - Why is squaring the norm possible? $\\rightarrow$ Squaring is a monotone operation\n",
    "   \n",
    "   \n",
    "   - Why do we even square? $\\rightarrow$ Gradient becomes much simpler"
   ]
  },
  {
   "cell_type": "code",
   "execution_count": 11,
   "metadata": {
    "slideshow": {
     "slide_type": "slide"
    }
   },
   "outputs": [
    {
     "data": {
      "image/png": "[encoded data removed]",
      "text/plain": [
       "<Figure size 432x288 with 1 Axes>"
      ]
     },
     "metadata": {
      "needs_background": "light"
     },
     "output_type": "display_data"
    }
   ],
   "source": [
    "from numpy import *\n",
    "import math\n",
    "import matplotlib.pyplot as plt\n",
    "\n",
    "x = linspace(-2, 2, 50)\n",
    "y1 = x**2\n",
    "y2 = y1**2 # = (x**2)**2 = (x^2)^2 = x^4\n",
    "\n",
    "plt.plot(x, y1, 'r') # plotting t, a separately \n",
    "plt.plot(x, y2, 'b') # plotting t, b separately \n",
    "plt.show()"
   ]
  }
 ],
 "metadata": {
  "celltoolbar": "Slideshow",
  "kernelspec": {
   "display_name": "Python 3",
   "language": "python",
   "name": "python3"
  },
  "language_info": {
   "codemirror_mode": {
    "name": "ipython",
    "version": 3
   },
   "file_extension": ".py",
   "mimetype": "text/x-python",
   "name": "python",
   "nbconvert_exporter": "python",
   "pygments_lexer": "ipython3",
   "version": "3.7.3"
  }
 },
 "nbformat": 4,
 "nbformat_minor": 2
}
