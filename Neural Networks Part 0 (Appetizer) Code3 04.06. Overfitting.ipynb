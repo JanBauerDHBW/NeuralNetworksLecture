{
 "cells": [
  {
   "cell_type": "code",
   "execution_count": 1,
   "metadata": {
    "slideshow": {
     "slide_type": "slide"
    }
   },
   "outputs": [
    {
     "name": "stdout",
     "output_type": "stream",
     "text": [
      "WARNING:tensorflow:From <ipython-input-1-c388e7809045>:8: read_data_sets (from tensorflow.contrib.learn.python.learn.datasets.mnist) is deprecated and will be removed in a future version.\n",
      "Instructions for updating:\n",
      "Please use alternatives such as official/mnist/dataset.py from tensorflow/models.\n",
      "WARNING:tensorflow:From /Library/Frameworks/Python.framework/Versions/3.7/lib/python3.7/site-packages/tensorflow/contrib/learn/python/learn/datasets/mnist.py:260: maybe_download (from tensorflow.contrib.learn.python.learn.datasets.base) is deprecated and will be removed in a future version.\n",
      "Instructions for updating:\n",
      "Please write your own downloading logic.\n",
      "WARNING:tensorflow:From /Library/Frameworks/Python.framework/Versions/3.7/lib/python3.7/site-packages/tensorflow/contrib/learn/python/learn/datasets/mnist.py:262: extract_images (from tensorflow.contrib.learn.python.learn.datasets.mnist) is deprecated and will be removed in a future version.\n",
      "Instructions for updating:\n",
      "Please use tf.data to implement this functionality.\n",
      "Extracting MNIST_data/train-images-idx3-ubyte.gz\n",
      "WARNING:tensorflow:From /Library/Frameworks/Python.framework/Versions/3.7/lib/python3.7/site-packages/tensorflow/contrib/learn/python/learn/datasets/mnist.py:267: extract_labels (from tensorflow.contrib.learn.python.learn.datasets.mnist) is deprecated and will be removed in a future version.\n",
      "Instructions for updating:\n",
      "Please use tf.data to implement this functionality.\n",
      "Extracting MNIST_data/train-labels-idx1-ubyte.gz\n",
      "WARNING:tensorflow:From /Library/Frameworks/Python.framework/Versions/3.7/lib/python3.7/site-packages/tensorflow/contrib/learn/python/learn/datasets/mnist.py:110: dense_to_one_hot (from tensorflow.contrib.learn.python.learn.datasets.mnist) is deprecated and will be removed in a future version.\n",
      "Instructions for updating:\n",
      "Please use tf.one_hot on tensors.\n",
      "Extracting MNIST_data/t10k-images-idx3-ubyte.gz\n",
      "Extracting MNIST_data/t10k-labels-idx1-ubyte.gz\n",
      "WARNING:tensorflow:From /Library/Frameworks/Python.framework/Versions/3.7/lib/python3.7/site-packages/tensorflow/contrib/learn/python/learn/datasets/mnist.py:290: DataSet.__init__ (from tensorflow.contrib.learn.python.learn.datasets.mnist) is deprecated and will be removed in a future version.\n",
      "Instructions for updating:\n",
      "Please use alternatives such as official/mnist/dataset.py from tensorflow/models.\n",
      "55000\n",
      "5000\n",
      "10000\n"
     ]
    }
   ],
   "source": [
    "################################\n",
    "## Getting started & Data Set ##\n",
    "################################\n",
    "\n",
    "import tensorflow as tf\n",
    "\n",
    "from tensorflow.examples.tutorials.mnist import input_data\n",
    "mnist = input_data.read_data_sets(\"MNIST_data/\", one_hot=True)\n",
    "#one_hot=TRUE: Conduct one-hot-encoding, i.e. the digit \"1\" [integer encoding] \n",
    "#              will be represented as (0,1,0,0,0,0,0,0,0,0).\n",
    "#              28x28 pixels are flattened into a 784 vector\n",
    "#              Grayscale of each pixel between 0 and 255 (black 255)\n",
    "\n",
    "print(mnist.train.num_examples) # #55 000 train data\n",
    "print(mnist.validation.num_examples) # #5000 validation data\n",
    "print(mnist.test.num_examples) # #10 000 test data"
   ]
  },
  {
   "cell_type": "code",
   "execution_count": 2,
   "metadata": {
    "slideshow": {
     "slide_type": "slide"
    }
   },
   "outputs": [
    {
     "data": {
      "text/plain": [
       "<Figure size 640x480 with 1 Axes>"
      ]
     },
     "metadata": {},
     "output_type": "display_data"
    },
    {
     "name": "stdout",
     "output_type": "stream",
     "text": [
      "3\n"
     ]
    }
   ],
   "source": [
    "##################################\n",
    "## How does the data look like? ##\n",
    "##################################\n",
    "\n",
    "import numpy as np\n",
    "import matplotlib.pyplot as plt\n",
    "\n",
    "i=1\n",
    "\n",
    "dig = np.argmax(mnist.train.labels[i,:])\n",
    "#argmax due to one-hot encoding.\n",
    "#compare to using:\n",
    "#dig = mnist.train.labels[i,:]\n",
    "\n",
    "img = np.reshape(mnist.train.images[i,:], [28,28])\n",
    "plt.imshow(img, cmap='Greys')\n",
    "plt.show()\n",
    "print(dig)"
   ]
  },
  {
   "cell_type": "code",
   "execution_count": 3,
   "metadata": {
    "slideshow": {
     "slide_type": "slide"
    }
   },
   "outputs": [],
   "source": [
    "####################\n",
    "## Architecture I ##\n",
    "####################\n",
    "\n",
    "## Five Layer NN\n",
    "n_input = 784  # input layer (28x28 pixels)\n",
    "n_1 = 512  # 1st hidden layer\n",
    "n_2 = 256  # 2nd hidden layer\n",
    "n_3 = 128  # 3rd hidden layer\n",
    "n_4 = 64   # 4th hidden layer\n",
    "n_output = 10  # output layer (0-9 digits)\n",
    "\n",
    "#Define 2 tensors as placeholders (tensors that we'll feed with values later)\n",
    "\n",
    "x     = tf.placeholder(\"float\", [None, n_input])   #None x 784\n",
    "ystar = tf.placeholder(\"float\", [None, n_output])  #None x 10\n",
    "\n",
    "#PREVIOUS: Ystar = Y"
   ]
  },
  {
   "cell_type": "code",
   "execution_count": 4,
   "metadata": {
    "slideshow": {
     "slide_type": "slide"
    }
   },
   "outputs": [],
   "source": [
    "#####################\n",
    "## Hyperparameters ##\n",
    "#####################\n",
    "\n",
    "learning_rate = 1e-4\n",
    "#n_iterations = 1000\n",
    "batch_size = 128\n",
    "n_iterations = 10000\n",
    "#batch_size = 4112"
   ]
  },
  {
   "cell_type": "code",
   "execution_count": 5,
   "metadata": {
    "slideshow": {
     "slide_type": "slide"
    }
   },
   "outputs": [
    {
     "name": "stdout",
     "output_type": "stream",
     "text": [
      "WARNING:tensorflow:From /Library/Frameworks/Python.framework/Versions/3.7/lib/python3.7/site-packages/tensorflow/python/framework/op_def_library.py:263: colocate_with (from tensorflow.python.framework.ops) is deprecated and will be removed in a future version.\n",
      "Instructions for updating:\n",
      "Colocations handled automatically by placer.\n"
     ]
    }
   ],
   "source": [
    "#######################################\n",
    "## Architecture II & Getting Started ##\n",
    "#######################################\n",
    "\n",
    "# Initial values for Weights\n",
    "\n",
    "weights = {\n",
    "    'w1': tf.Variable(tf.truncated_normal([n_input, n_1], stddev=0.1)),\n",
    "    'w2': tf.Variable(tf.truncated_normal([n_1, n_2], stddev=0.1)),\n",
    "    'w3': tf.Variable(tf.truncated_normal([n_2, n_3], stddev=0.1)),\n",
    "    'w4': tf.Variable(tf.truncated_normal([n_3, n_4], stddev=0.1)),\n",
    "    'w5': tf.Variable(tf.truncated_normal([n_4, n_output], stddev=0.1)),\n",
    "}\n",
    "\n",
    "\n",
    "biases = {\n",
    "    'b1': tf.Variable(tf.constant(0.1, shape = [n_1])),\n",
    "    'b2': tf.Variable(tf.constant(0.1, shape = [n_2])),\n",
    "    'b3': tf.Variable(tf.constant(0.1, shape = [n_3])),\n",
    "    'b4': tf.Variable(tf.constant(0.1, shape = [n_4])),\n",
    "    'b5': tf.Variable(tf.constant(0.00001, shape = [n_output])),\n",
    "}\n",
    "\n",
    "\n",
    "h_1 = tf.maximum(tf.add(tf.matmul(x, weights['w1']), biases['b1']), 0)     #ReLU\n",
    "h_2 = tf.math.tanh(tf.add(tf.matmul(h_1, weights['w2']), biases['b2']))    #tanh\n",
    "h_3 = tf.maximum(tf.add(tf.matmul(h_2, weights['w3']), biases['b3']), 0)   #ReLU\n",
    "h_4 = tf.maximum(tf.add(tf.matmul(h_3, weights['w4']), biases['b4']), 0)   #ReLU\n",
    "y   = tf.math.softmax(tf.matmul(h_4, weights['w5']) + biases['b5'])        #Softmax\n",
    "#PREVIOUS: y = output_layer\n"
   ]
  },
  {
   "cell_type": "code",
   "execution_count": 6,
   "metadata": {
    "slideshow": {
     "slide_type": "slide"
    }
   },
   "outputs": [],
   "source": [
    "####################################\n",
    "## Loss Function and Optimization ##\n",
    "####################################\n",
    "cross_entropy = -tf.reduce_mean(ystar * tf.log(y)) +0.00001   #don't use the python-function anymore\n",
    "                                                              #code it mathematically  \n",
    "    \n",
    "#cross_entropy = tf.reduce_mean(   \n",
    "#    tf.nn.softmax_cross_entropy_with_logits(  #use cross_entropy norm\n",
    "#        labels=ystar, logits = y\n",
    "#        ))\n",
    "\n",
    "train_step = tf.train.AdamOptimizer(1e-4).minimize(cross_entropy)\n",
    "#                      #use the Adam Gradient Descent Optimizer"
   ]
  },
  {
   "cell_type": "code",
   "execution_count": 7,
   "metadata": {
    "slideshow": {
     "slide_type": "slide"
    }
   },
   "outputs": [],
   "source": [
    "#####################\n",
    "## Define Accuracy ##\n",
    "#####################\n",
    "\n",
    "correct_pred = tf.equal(tf.argmax(y, 1), tf.argmax(ystar, 1))\n",
    "accuracy = tf.reduce_mean(tf.cast(correct_pred, tf.float32))"
   ]
  },
  {
   "cell_type": "code",
   "execution_count": 8,
   "metadata": {},
   "outputs": [
    {
     "name": "stdout",
     "output_type": "stream",
     "text": [
      "Iteration 0 \t Minibatch-Loss = 0.23590511 \t Minibatch-Accuracy = 0.0859375\n",
      "Iteration 0 \t Test-loss      = 0.23275816 \t Test-Accuracy      = 0.1204\n",
      "------------------------------------------------------------------------------\n",
      "Iteration 100 \t Minibatch-Loss = 0.08024649 \t Minibatch-Accuracy = 0.8828125\n",
      "Iteration 100 \t Test-loss      = 0.08517195 \t Test-Accuracy      = 0.8231\n",
      "------------------------------------------------------------------------------\n",
      "Iteration 200 \t Minibatch-Loss = 0.04146056 \t Minibatch-Accuracy = 0.9140625\n",
      "Iteration 200 \t Test-loss      = 0.0421504 \t Test-Accuracy      = 0.8956\n",
      "------------------------------------------------------------------------------\n",
      "Iteration 300 \t Minibatch-Loss = 0.033378486 \t Minibatch-Accuracy = 0.875\n",
      "Iteration 300 \t Test-loss      = 0.030746005 \t Test-Accuracy      = 0.9162\n",
      "------------------------------------------------------------------------------\n",
      "Iteration 400 \t Minibatch-Loss = 0.021384189 \t Minibatch-Accuracy = 0.953125\n",
      "Iteration 400 \t Test-loss      = 0.025589915 \t Test-Accuracy      = 0.9287\n",
      "------------------------------------------------------------------------------\n",
      "Iteration 500 \t Minibatch-Loss = 0.025886428 \t Minibatch-Accuracy = 0.9140625\n",
      "Iteration 500 \t Test-loss      = 0.0229119 \t Test-Accuracy      = 0.9343\n",
      "------------------------------------------------------------------------------\n",
      "Iteration 600 \t Minibatch-Loss = 0.026318656 \t Minibatch-Accuracy = 0.9296875\n",
      "Iteration 600 \t Test-loss      = 0.02046686 \t Test-Accuracy      = 0.9392\n",
      "------------------------------------------------------------------------------\n",
      "Iteration 700 \t Minibatch-Loss = 0.015226748 \t Minibatch-Accuracy = 0.9453125\n",
      "Iteration 700 \t Test-loss      = 0.019253867 \t Test-Accuracy      = 0.9423\n",
      "------------------------------------------------------------------------------\n",
      "Iteration 800 \t Minibatch-Loss = 0.01715071 \t Minibatch-Accuracy = 0.9453125\n",
      "Iteration 800 \t Test-loss      = 0.017568696 \t Test-Accuracy      = 0.9485\n",
      "------------------------------------------------------------------------------\n",
      "Iteration 900 \t Minibatch-Loss = 0.014859814 \t Minibatch-Accuracy = 0.984375\n",
      "Iteration 900 \t Test-loss      = 0.016396454 \t Test-Accuracy      = 0.9512\n",
      "------------------------------------------------------------------------------\n",
      "Iteration 1000 \t Minibatch-Loss = 0.019132724 \t Minibatch-Accuracy = 0.9453125\n",
      "Iteration 1000 \t Test-loss      = 0.015577676 \t Test-Accuracy      = 0.9535\n",
      "------------------------------------------------------------------------------\n",
      "Iteration 1100 \t Minibatch-Loss = 0.010180772 \t Minibatch-Accuracy = 0.96875\n",
      "Iteration 1100 \t Test-loss      = 0.014604504 \t Test-Accuracy      = 0.9559\n",
      "------------------------------------------------------------------------------\n",
      "Iteration 1200 \t Minibatch-Loss = 0.011554627 \t Minibatch-Accuracy = 0.96875\n",
      "Iteration 1200 \t Test-loss      = 0.014166424 \t Test-Accuracy      = 0.958\n",
      "------------------------------------------------------------------------------\n",
      "Iteration 1300 \t Minibatch-Loss = 0.006488148 \t Minibatch-Accuracy = 0.9765625\n",
      "Iteration 1300 \t Test-loss      = 0.013588031 \t Test-Accuracy      = 0.9587\n",
      "------------------------------------------------------------------------------\n",
      "Iteration 1400 \t Minibatch-Loss = 0.006195311 \t Minibatch-Accuracy = 0.984375\n",
      "Iteration 1400 \t Test-loss      = 0.012750059 \t Test-Accuracy      = 0.9617\n",
      "------------------------------------------------------------------------------\n",
      "Iteration 1500 \t Minibatch-Loss = 0.007714033 \t Minibatch-Accuracy = 0.984375\n",
      "Iteration 1500 \t Test-loss      = 0.012445193 \t Test-Accuracy      = 0.9623\n",
      "------------------------------------------------------------------------------\n",
      "Iteration 1600 \t Minibatch-Loss = 0.01616334 \t Minibatch-Accuracy = 0.9375\n",
      "Iteration 1600 \t Test-loss      = 0.012133955 \t Test-Accuracy      = 0.9642\n",
      "------------------------------------------------------------------------------\n",
      "Iteration 1700 \t Minibatch-Loss = 0.009728386 \t Minibatch-Accuracy = 0.9609375\n",
      "Iteration 1700 \t Test-loss      = 0.011525393 \t Test-Accuracy      = 0.9649\n",
      "------------------------------------------------------------------------------\n",
      "Iteration 1800 \t Minibatch-Loss = 0.00613123 \t Minibatch-Accuracy = 0.9765625\n",
      "Iteration 1800 \t Test-loss      = 0.011065251 \t Test-Accuracy      = 0.9673\n",
      "------------------------------------------------------------------------------\n",
      "Iteration 1900 \t Minibatch-Loss = 0.0056935204 \t Minibatch-Accuracy = 0.984375\n",
      "Iteration 1900 \t Test-loss      = 0.010590527 \t Test-Accuracy      = 0.9685\n",
      "------------------------------------------------------------------------------\n",
      "Iteration 2000 \t Minibatch-Loss = 0.0070320396 \t Minibatch-Accuracy = 0.9921875\n",
      "Iteration 2000 \t Test-loss      = 0.0102893505 \t Test-Accuracy      = 0.9683\n",
      "------------------------------------------------------------------------------\n",
      "Iteration 2100 \t Minibatch-Loss = 0.011041506 \t Minibatch-Accuracy = 0.9765625\n",
      "Iteration 2100 \t Test-loss      = 0.01040791 \t Test-Accuracy      = 0.9688\n",
      "------------------------------------------------------------------------------\n",
      "Iteration 2200 \t Minibatch-Loss = 0.0074548633 \t Minibatch-Accuracy = 0.984375\n",
      "Iteration 2200 \t Test-loss      = 0.010111512 \t Test-Accuracy      = 0.9687\n",
      "------------------------------------------------------------------------------\n",
      "Iteration 2300 \t Minibatch-Loss = 0.00572056 \t Minibatch-Accuracy = 0.9921875\n",
      "Iteration 2300 \t Test-loss      = 0.009852018 \t Test-Accuracy      = 0.9695\n",
      "------------------------------------------------------------------------------\n",
      "Iteration 2400 \t Minibatch-Loss = 0.0038119014 \t Minibatch-Accuracy = 0.9921875\n",
      "Iteration 2400 \t Test-loss      = 0.009459493 \t Test-Accuracy      = 0.9703\n",
      "------------------------------------------------------------------------------\n",
      "Iteration 2500 \t Minibatch-Loss = 0.0098964255 \t Minibatch-Accuracy = 0.9765625\n",
      "Iteration 2500 \t Test-loss      = 0.009256529 \t Test-Accuracy      = 0.9698\n",
      "------------------------------------------------------------------------------\n",
      "Iteration 2600 \t Minibatch-Loss = 0.004020275 \t Minibatch-Accuracy = 0.9765625\n",
      "Iteration 2600 \t Test-loss      = 0.009233866 \t Test-Accuracy      = 0.9714\n",
      "------------------------------------------------------------------------------\n",
      "Iteration 2700 \t Minibatch-Loss = 0.007273776 \t Minibatch-Accuracy = 0.984375\n",
      "Iteration 2700 \t Test-loss      = 0.0089002885 \t Test-Accuracy      = 0.9722\n",
      "------------------------------------------------------------------------------\n",
      "Iteration 2800 \t Minibatch-Loss = 0.0033807768 \t Minibatch-Accuracy = 0.9921875\n",
      "Iteration 2800 \t Test-loss      = 0.008919877 \t Test-Accuracy      = 0.9716\n",
      "------------------------------------------------------------------------------\n",
      "Iteration 2900 \t Minibatch-Loss = 0.006114677 \t Minibatch-Accuracy = 0.984375\n",
      "Iteration 2900 \t Test-loss      = 0.008639978 \t Test-Accuracy      = 0.9728\n",
      "------------------------------------------------------------------------------\n",
      "Iteration 3000 \t Minibatch-Loss = 0.0046738205 \t Minibatch-Accuracy = 0.9921875\n",
      "Iteration 3000 \t Test-loss      = 0.009023789 \t Test-Accuracy      = 0.972\n",
      "------------------------------------------------------------------------------\n",
      "Iteration 3100 \t Minibatch-Loss = 0.00452524 \t Minibatch-Accuracy = 0.984375\n",
      "Iteration 3100 \t Test-loss      = 0.009096425 \t Test-Accuracy      = 0.9704\n",
      "------------------------------------------------------------------------------\n",
      "Iteration 3200 \t Minibatch-Loss = 0.0011919556 \t Minibatch-Accuracy = 1.0\n",
      "Iteration 3200 \t Test-loss      = 0.008295636 \t Test-Accuracy      = 0.9732\n",
      "------------------------------------------------------------------------------\n",
      "Iteration 3300 \t Minibatch-Loss = 0.00701784 \t Minibatch-Accuracy = 0.984375\n",
      "Iteration 3300 \t Test-loss      = 0.008341285 \t Test-Accuracy      = 0.974\n",
      "------------------------------------------------------------------------------\n",
      "Iteration 3400 \t Minibatch-Loss = 0.0032254113 \t Minibatch-Accuracy = 0.9921875\n",
      "Iteration 3400 \t Test-loss      = 0.008269145 \t Test-Accuracy      = 0.9743\n",
      "------------------------------------------------------------------------------\n",
      "Iteration 3500 \t Minibatch-Loss = 0.0038175387 \t Minibatch-Accuracy = 0.9921875\n",
      "Iteration 3500 \t Test-loss      = 0.007929194 \t Test-Accuracy      = 0.9742\n",
      "------------------------------------------------------------------------------\n"
     ]
    },
    {
     "name": "stdout",
     "output_type": "stream",
     "text": [
      "Iteration 3600 \t Minibatch-Loss = 0.0021574723 \t Minibatch-Accuracy = 1.0\n",
      "Iteration 3600 \t Test-loss      = 0.008132497 \t Test-Accuracy      = 0.9741\n",
      "------------------------------------------------------------------------------\n",
      "Iteration 3700 \t Minibatch-Loss = 0.0037841154 \t Minibatch-Accuracy = 0.9921875\n",
      "Iteration 3700 \t Test-loss      = 0.007802737 \t Test-Accuracy      = 0.9746\n",
      "------------------------------------------------------------------------------\n",
      "Iteration 3800 \t Minibatch-Loss = 0.0039634504 \t Minibatch-Accuracy = 0.9921875\n",
      "Iteration 3800 \t Test-loss      = 0.007770414 \t Test-Accuracy      = 0.9754\n",
      "------------------------------------------------------------------------------\n",
      "Iteration 3900 \t Minibatch-Loss = 0.00222875 \t Minibatch-Accuracy = 1.0\n",
      "Iteration 3900 \t Test-loss      = 0.0076338435 \t Test-Accuracy      = 0.9753\n",
      "------------------------------------------------------------------------------\n",
      "Iteration 4000 \t Minibatch-Loss = 0.005198983 \t Minibatch-Accuracy = 0.9765625\n",
      "Iteration 4000 \t Test-loss      = 0.007612077 \t Test-Accuracy      = 0.9753\n",
      "------------------------------------------------------------------------------\n",
      "Iteration 4100 \t Minibatch-Loss = 0.0016168344 \t Minibatch-Accuracy = 1.0\n",
      "Iteration 4100 \t Test-loss      = 0.0076977224 \t Test-Accuracy      = 0.975\n",
      "------------------------------------------------------------------------------\n",
      "Iteration 4200 \t Minibatch-Loss = 0.003239843 \t Minibatch-Accuracy = 0.9921875\n",
      "Iteration 4200 \t Test-loss      = 0.008019635 \t Test-Accuracy      = 0.9755\n",
      "------------------------------------------------------------------------------\n",
      "Iteration 4300 \t Minibatch-Loss = 0.0027150484 \t Minibatch-Accuracy = 0.9921875\n",
      "Iteration 4300 \t Test-loss      = 0.007437218 \t Test-Accuracy      = 0.9774\n",
      "------------------------------------------------------------------------------\n",
      "Iteration 4400 \t Minibatch-Loss = 0.001058987 \t Minibatch-Accuracy = 1.0\n",
      "Iteration 4400 \t Test-loss      = 0.007817211 \t Test-Accuracy      = 0.9752\n",
      "------------------------------------------------------------------------------\n",
      "Iteration 4500 \t Minibatch-Loss = 0.0056940173 \t Minibatch-Accuracy = 0.9921875\n",
      "Iteration 4500 \t Test-loss      = 0.0076508885 \t Test-Accuracy      = 0.9751\n",
      "------------------------------------------------------------------------------\n",
      "Iteration 4600 \t Minibatch-Loss = 0.00091629237 \t Minibatch-Accuracy = 1.0\n",
      "Iteration 4600 \t Test-loss      = 0.0073433314 \t Test-Accuracy      = 0.976\n",
      "------------------------------------------------------------------------------\n",
      "Iteration 4700 \t Minibatch-Loss = 0.0017266665 \t Minibatch-Accuracy = 1.0\n",
      "Iteration 4700 \t Test-loss      = 0.0074004577 \t Test-Accuracy      = 0.9762\n",
      "------------------------------------------------------------------------------\n",
      "Iteration 4800 \t Minibatch-Loss = 0.0020643983 \t Minibatch-Accuracy = 1.0\n",
      "Iteration 4800 \t Test-loss      = 0.0074179713 \t Test-Accuracy      = 0.9763\n",
      "------------------------------------------------------------------------------\n",
      "Iteration 4900 \t Minibatch-Loss = 0.0013362492 \t Minibatch-Accuracy = 1.0\n",
      "Iteration 4900 \t Test-loss      = 0.0075729676 \t Test-Accuracy      = 0.9764\n",
      "------------------------------------------------------------------------------\n",
      "Iteration 5000 \t Minibatch-Loss = 0.00031211725 \t Minibatch-Accuracy = 1.0\n",
      "Iteration 5000 \t Test-loss      = 0.0071833734 \t Test-Accuracy      = 0.9782\n",
      "------------------------------------------------------------------------------\n",
      "Iteration 5100 \t Minibatch-Loss = 0.0022541909 \t Minibatch-Accuracy = 1.0\n",
      "Iteration 5100 \t Test-loss      = 0.007229895 \t Test-Accuracy      = 0.9779\n",
      "------------------------------------------------------------------------------\n",
      "Iteration 5200 \t Minibatch-Loss = 0.0006219707 \t Minibatch-Accuracy = 1.0\n",
      "Iteration 5200 \t Test-loss      = 0.007639141 \t Test-Accuracy      = 0.9771\n",
      "------------------------------------------------------------------------------\n",
      "Iteration 5300 \t Minibatch-Loss = 0.0024820827 \t Minibatch-Accuracy = 0.9921875\n",
      "Iteration 5300 \t Test-loss      = 0.007509025 \t Test-Accuracy      = 0.9769\n",
      "------------------------------------------------------------------------------\n",
      "Iteration 5400 \t Minibatch-Loss = 0.003040534 \t Minibatch-Accuracy = 0.9921875\n",
      "Iteration 5400 \t Test-loss      = 0.0073719495 \t Test-Accuracy      = 0.9771\n",
      "------------------------------------------------------------------------------\n",
      "Iteration 5500 \t Minibatch-Loss = 0.0030997067 \t Minibatch-Accuracy = 0.9921875\n",
      "Iteration 5500 \t Test-loss      = 0.0071893404 \t Test-Accuracy      = 0.9779\n",
      "------------------------------------------------------------------------------\n",
      "Iteration 5600 \t Minibatch-Loss = 0.00021411853 \t Minibatch-Accuracy = 1.0\n",
      "Iteration 5600 \t Test-loss      = 0.007241006 \t Test-Accuracy      = 0.9788\n",
      "------------------------------------------------------------------------------\n",
      "Iteration 5700 \t Minibatch-Loss = 0.00038435575 \t Minibatch-Accuracy = 1.0\n",
      "Iteration 5700 \t Test-loss      = 0.007591978 \t Test-Accuracy      = 0.9772\n",
      "------------------------------------------------------------------------------\n",
      "Iteration 5800 \t Minibatch-Loss = 0.0005754176 \t Minibatch-Accuracy = 1.0\n",
      "Iteration 5800 \t Test-loss      = 0.0074113705 \t Test-Accuracy      = 0.9776\n",
      "------------------------------------------------------------------------------\n",
      "Iteration 5900 \t Minibatch-Loss = 0.00095984474 \t Minibatch-Accuracy = 1.0\n",
      "Iteration 5900 \t Test-loss      = 0.0074800495 \t Test-Accuracy      = 0.9775\n",
      "------------------------------------------------------------------------------\n",
      "Iteration 6000 \t Minibatch-Loss = 0.00033745207 \t Minibatch-Accuracy = 1.0\n",
      "Iteration 6000 \t Test-loss      = 0.007655408 \t Test-Accuracy      = 0.9767\n",
      "------------------------------------------------------------------------------\n",
      "Iteration 6100 \t Minibatch-Loss = 0.0006744912 \t Minibatch-Accuracy = 1.0\n",
      "Iteration 6100 \t Test-loss      = 0.0072020506 \t Test-Accuracy      = 0.9788\n",
      "------------------------------------------------------------------------------\n",
      "Iteration 6200 \t Minibatch-Loss = 0.0007784954 \t Minibatch-Accuracy = 1.0\n",
      "Iteration 6200 \t Test-loss      = 0.0073847855 \t Test-Accuracy      = 0.9775\n",
      "------------------------------------------------------------------------------\n",
      "Iteration 6300 \t Minibatch-Loss = 0.00025042798 \t Minibatch-Accuracy = 1.0\n",
      "Iteration 6300 \t Test-loss      = 0.00745407 \t Test-Accuracy      = 0.9778\n",
      "------------------------------------------------------------------------------\n",
      "Iteration 6400 \t Minibatch-Loss = 0.00055851904 \t Minibatch-Accuracy = 1.0\n",
      "Iteration 6400 \t Test-loss      = 0.007623921 \t Test-Accuracy      = 0.9787\n",
      "------------------------------------------------------------------------------\n",
      "Iteration 6500 \t Minibatch-Loss = 0.0006774364 \t Minibatch-Accuracy = 1.0\n",
      "Iteration 6500 \t Test-loss      = 0.007159044 \t Test-Accuracy      = 0.9799\n",
      "------------------------------------------------------------------------------\n",
      "Iteration 6600 \t Minibatch-Loss = 0.0008336035 \t Minibatch-Accuracy = 1.0\n",
      "Iteration 6600 \t Test-loss      = 0.0074762935 \t Test-Accuracy      = 0.9781\n",
      "------------------------------------------------------------------------------\n",
      "Iteration 6700 \t Minibatch-Loss = 0.00045412334 \t Minibatch-Accuracy = 1.0\n",
      "Iteration 6700 \t Test-loss      = 0.007419511 \t Test-Accuracy      = 0.979\n",
      "------------------------------------------------------------------------------\n",
      "Iteration 6800 \t Minibatch-Loss = 0.0012364499 \t Minibatch-Accuracy = 0.9921875\n",
      "Iteration 6800 \t Test-loss      = 0.00754761 \t Test-Accuracy      = 0.9776\n",
      "------------------------------------------------------------------------------\n",
      "Iteration 6900 \t Minibatch-Loss = 0.0005442175 \t Minibatch-Accuracy = 1.0\n",
      "Iteration 6900 \t Test-loss      = 0.007478293 \t Test-Accuracy      = 0.9788\n",
      "------------------------------------------------------------------------------\n",
      "Iteration 7000 \t Minibatch-Loss = 0.0007662903 \t Minibatch-Accuracy = 0.9921875\n",
      "Iteration 7000 \t Test-loss      = 0.0077453535 \t Test-Accuracy      = 0.9783\n",
      "------------------------------------------------------------------------------\n",
      "Iteration 7100 \t Minibatch-Loss = 0.00085157744 \t Minibatch-Accuracy = 1.0\n",
      "Iteration 7100 \t Test-loss      = 0.0076216473 \t Test-Accuracy      = 0.9778\n",
      "------------------------------------------------------------------------------\n"
     ]
    },
    {
     "name": "stdout",
     "output_type": "stream",
     "text": [
      "Iteration 7200 \t Minibatch-Loss = 9.670295e-05 \t Minibatch-Accuracy = 1.0\n",
      "Iteration 7200 \t Test-loss      = 0.0074969158 \t Test-Accuracy      = 0.9784\n",
      "------------------------------------------------------------------------------\n",
      "Iteration 7300 \t Minibatch-Loss = 0.00035246895 \t Minibatch-Accuracy = 1.0\n",
      "Iteration 7300 \t Test-loss      = 0.0077892556 \t Test-Accuracy      = 0.9789\n",
      "------------------------------------------------------------------------------\n",
      "Iteration 7400 \t Minibatch-Loss = 0.00015484767 \t Minibatch-Accuracy = 1.0\n",
      "Iteration 7400 \t Test-loss      = 0.0074681444 \t Test-Accuracy      = 0.9789\n",
      "------------------------------------------------------------------------------\n",
      "Iteration 7500 \t Minibatch-Loss = 0.00015239201 \t Minibatch-Accuracy = 1.0\n",
      "Iteration 7500 \t Test-loss      = 0.0076782866 \t Test-Accuracy      = 0.9789\n",
      "------------------------------------------------------------------------------\n",
      "Iteration 7600 \t Minibatch-Loss = 0.00047022878 \t Minibatch-Accuracy = 1.0\n",
      "Iteration 7600 \t Test-loss      = 0.007768203 \t Test-Accuracy      = 0.9782\n",
      "------------------------------------------------------------------------------\n",
      "Iteration 7700 \t Minibatch-Loss = 0.00027049935 \t Minibatch-Accuracy = 1.0\n",
      "Iteration 7700 \t Test-loss      = 0.008165052 \t Test-Accuracy      = 0.9781\n",
      "------------------------------------------------------------------------------\n",
      "Iteration 7800 \t Minibatch-Loss = 0.00018869604 \t Minibatch-Accuracy = 1.0\n",
      "Iteration 7800 \t Test-loss      = 0.007790859 \t Test-Accuracy      = 0.9782\n",
      "------------------------------------------------------------------------------\n",
      "Iteration 7900 \t Minibatch-Loss = 0.0001968674 \t Minibatch-Accuracy = 1.0\n",
      "Iteration 7900 \t Test-loss      = 0.007846146 \t Test-Accuracy      = 0.9797\n",
      "------------------------------------------------------------------------------\n",
      "Iteration 8000 \t Minibatch-Loss = 0.00018420846 \t Minibatch-Accuracy = 1.0\n",
      "Iteration 8000 \t Test-loss      = 0.007827702 \t Test-Accuracy      = 0.9789\n",
      "------------------------------------------------------------------------------\n",
      "Iteration 8100 \t Minibatch-Loss = 0.000398064 \t Minibatch-Accuracy = 1.0\n",
      "Iteration 8100 \t Test-loss      = 0.007837663 \t Test-Accuracy      = 0.9787\n",
      "------------------------------------------------------------------------------\n",
      "Iteration 8200 \t Minibatch-Loss = 0.00019996638 \t Minibatch-Accuracy = 1.0\n",
      "Iteration 8200 \t Test-loss      = 0.007936573 \t Test-Accuracy      = 0.9794\n",
      "------------------------------------------------------------------------------\n",
      "Iteration 8300 \t Minibatch-Loss = 0.00012046378 \t Minibatch-Accuracy = 1.0\n",
      "Iteration 8300 \t Test-loss      = 0.007838051 \t Test-Accuracy      = 0.9781\n",
      "------------------------------------------------------------------------------\n",
      "Iteration 8400 \t Minibatch-Loss = 5.724493e-05 \t Minibatch-Accuracy = 1.0\n",
      "Iteration 8400 \t Test-loss      = 0.0079066865 \t Test-Accuracy      = 0.979\n",
      "------------------------------------------------------------------------------\n",
      "Iteration 8500 \t Minibatch-Loss = 0.00018197145 \t Minibatch-Accuracy = 1.0\n",
      "Iteration 8500 \t Test-loss      = 0.007986724 \t Test-Accuracy      = 0.9786\n",
      "------------------------------------------------------------------------------\n",
      "Iteration 8600 \t Minibatch-Loss = 0.00020065176 \t Minibatch-Accuracy = 1.0\n",
      "Iteration 8600 \t Test-loss      = 0.0080632325 \t Test-Accuracy      = 0.9792\n",
      "------------------------------------------------------------------------------\n",
      "Iteration 8700 \t Minibatch-Loss = 0.0001237649 \t Minibatch-Accuracy = 1.0\n",
      "Iteration 8700 \t Test-loss      = 0.008274978 \t Test-Accuracy      = 0.9783\n",
      "------------------------------------------------------------------------------\n",
      "Iteration 8800 \t Minibatch-Loss = 0.00014846516 \t Minibatch-Accuracy = 1.0\n",
      "Iteration 8800 \t Test-loss      = 0.007960097 \t Test-Accuracy      = 0.9795\n",
      "------------------------------------------------------------------------------\n",
      "Iteration 8900 \t Minibatch-Loss = 0.00015932282 \t Minibatch-Accuracy = 1.0\n",
      "Iteration 8900 \t Test-loss      = 0.008054605 \t Test-Accuracy      = 0.9793\n",
      "------------------------------------------------------------------------------\n",
      "Iteration 9000 \t Minibatch-Loss = 0.00021838812 \t Minibatch-Accuracy = 1.0\n",
      "Iteration 9000 \t Test-loss      = 0.008168785 \t Test-Accuracy      = 0.9796\n",
      "------------------------------------------------------------------------------\n",
      "Iteration 9100 \t Minibatch-Loss = 4.8760518e-05 \t Minibatch-Accuracy = 1.0\n",
      "Iteration 9100 \t Test-loss      = 0.0084215645 \t Test-Accuracy      = 0.979\n",
      "------------------------------------------------------------------------------\n",
      "Iteration 9200 \t Minibatch-Loss = 7.313557e-05 \t Minibatch-Accuracy = 1.0\n",
      "Iteration 9200 \t Test-loss      = 0.008246463 \t Test-Accuracy      = 0.9785\n",
      "------------------------------------------------------------------------------\n",
      "Iteration 9300 \t Minibatch-Loss = 0.0001757857 \t Minibatch-Accuracy = 1.0\n",
      "Iteration 9300 \t Test-loss      = 0.008540923 \t Test-Accuracy      = 0.9786\n",
      "------------------------------------------------------------------------------\n",
      "Iteration 9400 \t Minibatch-Loss = 0.00018048054 \t Minibatch-Accuracy = 1.0\n",
      "Iteration 9400 \t Test-loss      = 0.008247577 \t Test-Accuracy      = 0.9798\n",
      "------------------------------------------------------------------------------\n",
      "Iteration 9500 \t Minibatch-Loss = 4.9315935e-05 \t Minibatch-Accuracy = 1.0\n",
      "Iteration 9500 \t Test-loss      = 0.008342272 \t Test-Accuracy      = 0.9793\n",
      "------------------------------------------------------------------------------\n",
      "Iteration 9600 \t Minibatch-Loss = 0.00015585424 \t Minibatch-Accuracy = 1.0\n",
      "Iteration 9600 \t Test-loss      = 0.008439906 \t Test-Accuracy      = 0.9801\n",
      "------------------------------------------------------------------------------\n",
      "Iteration 9700 \t Minibatch-Loss = 0.00011582507 \t Minibatch-Accuracy = 1.0\n",
      "Iteration 9700 \t Test-loss      = 0.008594462 \t Test-Accuracy      = 0.9794\n",
      "------------------------------------------------------------------------------\n",
      "Iteration 9800 \t Minibatch-Loss = 0.00011517985 \t Minibatch-Accuracy = 1.0\n",
      "Iteration 9800 \t Test-loss      = 0.0090625435 \t Test-Accuracy      = 0.9766\n",
      "------------------------------------------------------------------------------\n",
      "Iteration 9900 \t Minibatch-Loss = 0.00025776305 \t Minibatch-Accuracy = 1.0\n",
      "Iteration 9900 \t Test-loss      = 0.008881093 \t Test-Accuracy      = 0.9788\n",
      "------------------------------------------------------------------------------\n"
     ]
    }
   ],
   "source": [
    "################\n",
    "## Run the NN ##\n",
    "################\n",
    "\n",
    "init = tf.global_variables_initializer()\n",
    "sess = tf.Session()\n",
    "sess.run(init)\n",
    "\n",
    "t_loss = [None] * int(n_iterations/100)\n",
    "b_loss = [None] * int(n_iterations/100)\n",
    "\n",
    "t_acc = [None] * int(n_iterations/100)\n",
    "b_acc = [None] * int(n_iterations/100)\n",
    "\n",
    "for i in range(n_iterations):\n",
    "    batch_x, batch_y = mnist.train.next_batch(batch_size)\n",
    "    sess.run(train_step, feed_dict={\n",
    "        x: batch_x, ystar: batch_y\n",
    "        })\n",
    "\n",
    "    # print loss and accuracy (per minibatch)\n",
    "    if i % 100 == 0:\n",
    "        minibatch_loss, minibatch_accuracy = sess.run(\n",
    "            [cross_entropy, accuracy],\n",
    "            feed_dict={x: batch_x, ystar: batch_y}\n",
    "            )\n",
    "        \n",
    "        test_accuracy = sess.run(accuracy,      feed_dict={x: mnist.test.images, ystar: mnist.test.labels})\n",
    "        test_loss     = sess.run(cross_entropy, feed_dict={x: mnist.test.images, ystar: mnist.test.labels}) \n",
    "        \n",
    "        j=int(i/100)\n",
    "        t_loss[j] = test_loss\n",
    "        b_loss[j] = minibatch_loss\n",
    "        \n",
    "        t_acc[j]  = test_accuracy\n",
    "        b_acc[j]  = minibatch_accuracy\n",
    "        \n",
    "        print(\n",
    "            \"Iteration\",\n",
    "            str(i),\n",
    "            \"\\t Minibatch-Loss =\",\n",
    "            str(minibatch_loss),\n",
    "            \"\\t Minibatch-Accuracy =\",\n",
    "            str(minibatch_accuracy))\n",
    "        print(\n",
    "            \"Iteration\",\n",
    "            str(i),\n",
    "            \"\\t Test-loss      =\",\n",
    "            str(test_loss),\n",
    "            \"\\t Test-Accuracy      =\",\n",
    "            str(test_accuracy)\n",
    "            )\n",
    "        print(\"------------------------------------------------------------------------------\")"
   ]
  },
  {
   "cell_type": "code",
   "execution_count": 37,
   "metadata": {},
   "outputs": [
    {
     "name": "stdout",
     "output_type": "stream",
     "text": [
      "\n",
      "Accuracy on test data: 0.9765\n"
     ]
    }
   ],
   "source": [
    "###########################\n",
    "## Accuracy on test data ##\n",
    "###########################\n",
    "\n",
    "test_accuracy = sess.run(accuracy, feed_dict={x: mnist.test.images, ystar: mnist.test.labels})\n",
    "print(\"\\nAccuracy on test data:\", test_accuracy)"
   ]
  },
  {
   "cell_type": "code",
   "execution_count": 38,
   "metadata": {},
   "outputs": [
    {
     "data": {
      "image/png": "[encoded data removed]",
      "text/plain": [
       "<Figure size 432x288 with 1 Axes>"
      ]
     },
     "metadata": {
      "needs_background": "light"
     },
     "output_type": "display_data"
    },
    {
     "name": "stdout",
     "output_type": "stream",
     "text": [
      "Prediction: 4\n"
     ]
    }
   ],
   "source": [
    "#######################################\n",
    "## Checking the performance manually ##\n",
    "#######################################\n",
    "\n",
    "test_digit = 24\n",
    "\n",
    "img = np.reshape(mnist.test.images[test_digit,:], [28,28])\n",
    "plt.imshow(img, cmap='Greys')\n",
    "plt.show()\n",
    "\n",
    "#dig = np.argmax(mnist.test.labels[test_digit,:])\n",
    "#print(dig)\n",
    "\n",
    "prediction = sess.run(tf.argmax(y, 1), feed_dict={x: mnist.test.images})\n",
    "print (\"Prediction:\", np.squeeze(prediction)[test_digit])"
   ]
  },
  {
   "cell_type": "code",
   "execution_count": 9,
   "metadata": {},
   "outputs": [
    {
     "data": {
      "text/plain": [
       "Text(0.5, 1.0, 'Loss for Minibatch (red) and Test-Data (blue)')"
      ]
     },
     "execution_count": 9,
     "metadata": {},
     "output_type": "execute_result"
    },
    {
     "data": {
      "image/png": "[encoded data removed]",
      "text/plain": [
       "<Figure size 432x288 with 1 Axes>"
      ]
     },
     "metadata": {
      "needs_background": "light"
     },
     "output_type": "display_data"
    }
   ],
   "source": [
    "pr = np.arange(int(n_iterations/100))\n",
    "plt.ylim(0,0.04)\n",
    "plt.plot(pr,t_loss, pr, b_loss, 'r')\n",
    "plt.title('Loss for Minibatch (red) and Test-Data (blue)')"
   ]
  },
  {
   "cell_type": "code",
   "execution_count": 10,
   "metadata": {},
   "outputs": [
    {
     "data": {
      "text/plain": [
       "Text(0.5, 1.0, 'Accuracy for Minibatch (red) and Test-Data (blue)')"
      ]
     },
     "execution_count": 10,
     "metadata": {},
     "output_type": "execute_result"
    },
    {
     "data": {
      "image/png": "[encoded data removed]",
      "text/plain": [
       "<Figure size 432x288 with 1 Axes>"
      ]
     },
     "metadata": {
      "needs_background": "light"
     },
     "output_type": "display_data"
    }
   ],
   "source": [
    "pr = np.arange(int(n_iterations/100))\n",
    "plt.ylim(0.9,1.001)\n",
    "plt.plot(pr,t_acc, pr, b_acc, 'r')\n",
    "plt.title('Accuracy for Minibatch (red) and Test-Data (blue)' )\n"
   ]
  },
  {
   "cell_type": "code",
   "execution_count": null,
   "metadata": {},
   "outputs": [],
   "source": []
  }
 ],
 "metadata": {
  "celltoolbar": "Slideshow",
  "kernelspec": {
   "display_name": "Python 3",
   "language": "python",
   "name": "python3"
  },
  "language_info": {
   "codemirror_mode": {
    "name": "ipython",
    "version": 3
   },
   "file_extension": ".py",
   "mimetype": "text/x-python",
   "name": "python",
   "nbconvert_exporter": "python",
   "pygments_lexer": "ipython3",
   "version": "3.7.3"
  }
 },
 "nbformat": 4,
 "nbformat_minor": 2
}
