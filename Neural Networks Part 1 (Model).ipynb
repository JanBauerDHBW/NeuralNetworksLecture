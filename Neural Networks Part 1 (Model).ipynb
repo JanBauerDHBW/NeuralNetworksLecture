{
 "cells": [
  {
   "cell_type": "markdown",
   "metadata": {
    "slideshow": {
     "slide_type": "slide"
    }
   },
   "source": [
    "# II. Model"
   ]
  },
  {
   "cell_type": "markdown",
   "metadata": {
    "slideshow": {
     "slide_type": "slide"
    }
   },
   "source": [
    "### Neuron\n",
    "\n",
    "A Neuron is a function \"$f \\; ( = y)$\" of an input \"$X$\" weighted by a vector of connection weights \"$W$\" completed by a bias \"$b$\" and associated to an activation function \"$\\phi$\".\n",
    "\n",
    "$\\leadsto f(X,W,b) = \\phi(XW + b)$"
   ]
  },
  {
   "cell_type": "markdown",
   "metadata": {
    "slideshow": {
     "slide_type": "slide"
    }
   },
   "source": [
    "### Example: Perceptrone (1957, Rosenblatt) [Sketch]\n",
    "\n",
    "Several binary inputs produces a binary output.\n",
    "\n",
    "\n",
    "Question: Going to the concert tonight? Yes/No?\n",
    "\n",
    "-  $x_1$: Will there be cheap beer?\n",
    "-  $x_2$: WIll the sun beam?\n",
    "\n",
    "$y = \\phi( xW + b) =  \\begin{cases}\n",
    "0 & xW + b \\leq \\text{threshold} \\\\\n",
    "1 & xW + b  >     \\text{threshold}\n",
    "\\end{cases} = \\begin{cases}\n",
    "0 & x_{1}w_{1} + x_{2}w_{2} + b \\leq \\text{threshold} \\\\\n",
    "1 & x_{1}w_{1} + x_{2}w_{2} + b  >     \\text{threshold}\n",
    "\\end{cases} $\n",
    "\n"
   ]
  },
  {
   "cell_type": "markdown",
   "metadata": {
    "slideshow": {
     "slide_type": "slide"
    }
   },
   "source": [
    "### Limitatons\n",
    "\n",
    "Logical operations:\n",
    "-  AND?\n",
    "-  OR?\n",
    "-  XOR? (Exclusive Or) **EXERCISE TIME**"
   ]
  },
  {
   "cell_type": "markdown",
   "metadata": {
    "slideshow": {
     "slide_type": "slide"
    }
   },
   "source": [
    "### Solution:\n",
    "\n",
    "-  Nonlinear functions\n",
    "-  More layer (Multilayer Perception)"
   ]
  },
  {
   "cell_type": "markdown",
   "metadata": {
    "slideshow": {
     "slide_type": "slide"
    }
   },
   "source": [
    "### Neural Network Architecture [Sketch]\n",
    "\n",
    "A NN associates to an input $X$ an output $y \\equiv f(X,W)$,\n",
    "-  $f: \\mathbb{R}^{D \\times N} \\rightarrow \\mathbb{R}^{D}$\n",
    "-  $X = \\begin{pmatrix}  x^{(11)} & x^{(12)} & \\cdots & x^{(1N)} \\\\\n",
    "                       x^{(21)} & x^{(22)} & \\cdots & x^{(2N)} \\\\\n",
    "                       \\vdots & \\vdots & \\ddots & \\vdots \\\\\n",
    "                       x^{(D1)} & x^{(D2)} & \\cdots & x^{(2N)} \\end{pmatrix}  = \\begin{pmatrix} x^{(1)} \\\\\n",
    "                       x^{(2)} \\\\\n",
    "                        \\vdots  \\\\\n",
    "                        x^{(D)} \\end{pmatrix} $ is $D \\times N$\n",
    "\n",
    "-  $W = \\begin{pmatrix}  w^{(1)} &\n",
    "                         w^{(2)} &\n",
    "                         \\cdots  &\n",
    "                         w^{(N)} \\end{pmatrix}'$ is $N \\times 1$\n",
    "                         \n",
    "-  $D = \\#$data (i.e. training data)\n",
    "\n",
    "We will denote the output for the data point $d$ as $y_{[d]}$"
   ]
  },
  {
   "cell_type": "markdown",
   "metadata": {
    "slideshow": {
     "slide_type": "slide"
    }
   },
   "source": [
    "### Neuron [Sketch]\n",
    "\n",
    "The $j$-th Neuron in layer $i$ associates to an input $Z_{i,j}$ from Neuron $k$ in layer $i-1$ an output $y_{i,j} \\equiv f_{i,j}(f_{i-1,k},W_{i,j})$, also called scores, s.t.\n",
    "-  $f_{i,j}: \\mathbb{R}^{D \\times N_{i-1}} \\rightarrow \\mathbb{R}^{D \\times N_i}$\n",
    "-  $Z_{i,j} = f_{i-1,k} W_{i,j} + b_{i,j} $\n",
    "-  $f_{i-1,k}$ is $D \\times N_{i-1}$\n",
    "-  $W_{i,j}$ is $N_{i-1} \\times N_i$"
   ]
  },
  {
   "cell_type": "markdown",
   "metadata": {
    "slideshow": {
     "slide_type": "slide"
    }
   },
   "source": [
    "### Neural Network Architecture\n",
    "\n"
   ]
  },
  {
   "cell_type": "markdown",
   "metadata": {
    "slideshow": {
     "slide_type": "slide"
    }
   },
   "source": [
    "### Output $f$\n",
    "\n",
    "-  $f$ gives us a score to which class the data fits best\n",
    "    - Example: Linear function\n",
    "-  sloppy notation: $f \\stackrel{?}{=} \\phi$\n",
    "-  sloppy notation: Bias \"trick\" **QUESTION TIME**\n",
    "\n"
   ]
  },
  {
   "cell_type": "markdown",
   "metadata": {
    "slideshow": {
     "slide_type": "slide"
    }
   },
   "source": [
    "### Activation Functions\n",
    "\n",
    "Common activation functions:\n",
    "\n",
    "-  Identity:\n",
    "$\\phi(x) = x$\n",
    "\n",
    "-  Sigmoid function:\n",
    "$\\phi(x) = \\dfrac{1}{1+\\exp(-x)}$\n",
    "\n",
    "-  Hyperbolic Tangent function (tanh):\n",
    "$\\dfrac{\\exp(x)-\\exp(-x)}{\\exp(x)+\\exp(-x)} = \\dfrac{\\exp(2x)-1}{\\exp(2x)+1}$\n",
    "\n",
    "-  Rectified Linear Unit (ReLU):\n",
    "$\\phi(x) = \\max (0,x)$\n",
    "\n",
    "\n",
    "-  Softmax\n",
    "$ \\phi( y_{[d]}^{(\\hat{k})} ) = \\dfrac{\\exp(y_{[d]}^{(\\hat{k})})}{\\sum\\limits_{k} \\exp(y_{[d]}^{(k)}) } $"
   ]
  },
  {
   "cell_type": "code",
   "execution_count": 16,
   "metadata": {
    "slideshow": {
     "slide_type": "slide"
    }
   },
   "outputs": [
    {
     "data": {
      "text/plain": [
       "Text(0.5, 1.0, 'identity')"
      ]
     },
     "execution_count": 16,
     "metadata": {},
     "output_type": "execute_result"
    },
    {
     "data": {
      "image/png": "[encoded data removed]",
      "text/plain": [
       "<Figure size 432x288 with 1 Axes>"
      ]
     },
     "metadata": {
      "needs_background": "light"
     },
     "output_type": "display_data"
    }
   ],
   "source": [
    "import numpy as np\n",
    "import matplotlib.pyplot as plt\n",
    "\n",
    "\n",
    "x    = np.arange(-6, 6, .01)\n",
    "phi  = x\n",
    "\n",
    "fig = plt.figure()\n",
    "ax  = fig.add_subplot(111)\n",
    "ax.plot(x, phi)\n",
    "ax.set_ylim([-6, 6])\n",
    "ax.set_xlim([-6,6])\n",
    "ax.grid(True)\n",
    "ax.set_xlabel('x')\n",
    "ax.set_title('identity')"
   ]
  },
  {
   "cell_type": "code",
   "execution_count": 21,
   "metadata": {
    "slideshow": {
     "slide_type": "slide"
    }
   },
   "outputs": [
    {
     "data": {
      "text/plain": [
       "Text(0.5, 1.0, 'Sigmoid function')"
      ]
     },
     "execution_count": 21,
     "metadata": {},
     "output_type": "execute_result"
    },
    {
     "data": {
      "image/png": "[encoded data removed]",
      "text/plain": [
       "<Figure size 432x288 with 1 Axes>"
      ]
     },
     "metadata": {
      "needs_background": "light"
     },
     "output_type": "display_data"
    }
   ],
   "source": [
    "x    = np.arange(-6, 6, .01)\n",
    "def sigma(x):\n",
    "    return 1 / (1 + np.exp(-x))\n",
    "\n",
    "fig = plt.figure()\n",
    "ax  = fig.add_subplot(111)\n",
    "ax.plot(x, sigma(x))\n",
    "ax.set_ylim([0, 1.0])\n",
    "ax.set_xlim([-6,6])\n",
    "ax.grid(True)\n",
    "ax.set_xlabel('x')\n",
    "ax.set_title('Sigmoid function')\n",
    "\n"
   ]
  },
  {
   "cell_type": "code",
   "execution_count": 12,
   "metadata": {
    "slideshow": {
     "slide_type": "slide"
    }
   },
   "outputs": [
    {
     "data": {
      "text/plain": [
       "Text(0.5, 1.0, 'tanh function')"
      ]
     },
     "execution_count": 12,
     "metadata": {},
     "output_type": "execute_result"
    },
    {
     "data": {
      "image/png": "[encoded data removed]",
      "text/plain": [
       "<Figure size 432x288 with 1 Axes>"
      ]
     },
     "metadata": {
      "needs_background": "light"
     },
     "output_type": "display_data"
    }
   ],
   "source": [
    "x    = np.arange(-6, 6, .01)\n",
    "tanh = np.tanh(z)\n",
    "\n",
    "fig = plt.figure()\n",
    "ax  = fig.add_subplot(111)\n",
    "ax.plot(x, tanh)\n",
    "ax.set_ylim([-1.0, 1.0])\n",
    "ax.set_xlim([-6,6])\n",
    "ax.grid(True)\n",
    "ax.set_xlabel('x')\n",
    "ax.set_title('tanh function')\n",
    "\n"
   ]
  },
  {
   "cell_type": "code",
   "execution_count": 20,
   "metadata": {
    "slideshow": {
     "slide_type": "slide"
    }
   },
   "outputs": [
    {
     "data": {
      "text/plain": [
       "Text(0.5, 1.0, 'ReLU')"
      ]
     },
     "execution_count": 20,
     "metadata": {},
     "output_type": "execute_result"
    },
    {
     "data": {
      "image/png": "[encoded data removed]",
      "text/plain": [
       "<Figure size 432x288 with 1 Axes>"
      ]
     },
     "metadata": {
      "needs_background": "light"
     },
     "output_type": "display_data"
    }
   ],
   "source": [
    "x    = np.arange(-6, 6, .01)\n",
    "def sigma(x):\n",
    "    return np.maximum(0,x)\n",
    "\n",
    "fig = plt.figure()\n",
    "ax  = fig.add_subplot(111)\n",
    "ax.plot(x, sigma(x))\n",
    "ax.set_ylim([0, 6.0])\n",
    "ax.set_xlim([-6,6])\n",
    "ax.grid(True)\n",
    "ax.set_xlabel('x')\n",
    "ax.set_title('ReLU')\n",
    "\n"
   ]
  },
  {
   "cell_type": "markdown",
   "metadata": {
    "slideshow": {
     "slide_type": "slide"
    }
   },
   "source": [
    "### Softmax\n",
    "\n",
    "-  Sigmoid probabilities might appear counterintuitive (E.g. $xW = (0.9, 0.8, 0.4)'$)\n",
    "-  Natural application for classification problems due to the underlying Bernoulli distribution\n",
    "-  Often times used for the output layer\n",
    "-  Yields the predicted probability for the $\\hat{k}$-th class, given a sample $x$ and a weighting $W$\n",
    "\n",
    "$$ P(y_{[d]} = \\hat{k} | x ) = \\dfrac{\\exp(y_{[d]}^{(\\hat{k})})}{\\sum\\limits_{k=1}^K \\exp(y_{[d]}^{(k)}) } $$\n",
    "\n",
    "-  Hardmax: Assigns probability 1 or 0"
   ]
  },
  {
   "cell_type": "markdown",
   "metadata": {
    "slideshow": {
     "slide_type": "slide"
    }
   },
   "source": [
    "### Process of \"feeding\" a NN\n",
    "\n",
    "training data vs test data etc."
   ]
  }
 ],
 "metadata": {
  "celltoolbar": "Slideshow",
  "kernelspec": {
   "display_name": "Python 3",
   "language": "python",
   "name": "python3"
  },
  "language_info": {
   "codemirror_mode": {
    "name": "ipython",
    "version": 3
   },
   "file_extension": ".py",
   "mimetype": "text/x-python",
   "name": "python",
   "nbconvert_exporter": "python",
   "pygments_lexer": "ipython3",
   "version": "3.7.3"
  }
 },
 "nbformat": 4,
 "nbformat_minor": 2
}
