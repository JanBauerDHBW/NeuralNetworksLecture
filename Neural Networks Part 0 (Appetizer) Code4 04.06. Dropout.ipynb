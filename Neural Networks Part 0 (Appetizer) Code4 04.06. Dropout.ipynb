{
 "cells": [
  {
   "cell_type": "code",
   "execution_count": 1,
   "metadata": {
    "slideshow": {
     "slide_type": "slide"
    }
   },
   "outputs": [
    {
     "name": "stdout",
     "output_type": "stream",
     "text": [
      "WARNING:tensorflow:From <ipython-input-1-c388e7809045>:8: read_data_sets (from tensorflow.contrib.learn.python.learn.datasets.mnist) is deprecated and will be removed in a future version.\n",
      "Instructions for updating:\n",
      "Please use alternatives such as official/mnist/dataset.py from tensorflow/models.\n",
      "WARNING:tensorflow:From /Library/Frameworks/Python.framework/Versions/3.7/lib/python3.7/site-packages/tensorflow/contrib/learn/python/learn/datasets/mnist.py:260: maybe_download (from tensorflow.contrib.learn.python.learn.datasets.base) is deprecated and will be removed in a future version.\n",
      "Instructions for updating:\n",
      "Please write your own downloading logic.\n",
      "WARNING:tensorflow:From /Library/Frameworks/Python.framework/Versions/3.7/lib/python3.7/site-packages/tensorflow/contrib/learn/python/learn/datasets/mnist.py:262: extract_images (from tensorflow.contrib.learn.python.learn.datasets.mnist) is deprecated and will be removed in a future version.\n",
      "Instructions for updating:\n",
      "Please use tf.data to implement this functionality.\n",
      "Extracting MNIST_data/train-images-idx3-ubyte.gz\n",
      "WARNING:tensorflow:From /Library/Frameworks/Python.framework/Versions/3.7/lib/python3.7/site-packages/tensorflow/contrib/learn/python/learn/datasets/mnist.py:267: extract_labels (from tensorflow.contrib.learn.python.learn.datasets.mnist) is deprecated and will be removed in a future version.\n",
      "Instructions for updating:\n",
      "Please use tf.data to implement this functionality.\n",
      "Extracting MNIST_data/train-labels-idx1-ubyte.gz\n",
      "WARNING:tensorflow:From /Library/Frameworks/Python.framework/Versions/3.7/lib/python3.7/site-packages/tensorflow/contrib/learn/python/learn/datasets/mnist.py:110: dense_to_one_hot (from tensorflow.contrib.learn.python.learn.datasets.mnist) is deprecated and will be removed in a future version.\n",
      "Instructions for updating:\n",
      "Please use tf.one_hot on tensors.\n",
      "Extracting MNIST_data/t10k-images-idx3-ubyte.gz\n",
      "Extracting MNIST_data/t10k-labels-idx1-ubyte.gz\n",
      "WARNING:tensorflow:From /Library/Frameworks/Python.framework/Versions/3.7/lib/python3.7/site-packages/tensorflow/contrib/learn/python/learn/datasets/mnist.py:290: DataSet.__init__ (from tensorflow.contrib.learn.python.learn.datasets.mnist) is deprecated and will be removed in a future version.\n",
      "Instructions for updating:\n",
      "Please use alternatives such as official/mnist/dataset.py from tensorflow/models.\n",
      "55000\n",
      "5000\n",
      "10000\n"
     ]
    }
   ],
   "source": [
    "################################\n",
    "## Getting started & Data Set ##\n",
    "################################\n",
    "\n",
    "import tensorflow as tf\n",
    "\n",
    "from tensorflow.examples.tutorials.mnist import input_data\n",
    "mnist = input_data.read_data_sets(\"MNIST_data/\", one_hot=True)\n",
    "#one_hot=TRUE: Conduct one-hot-encoding, i.e. the digit \"1\" [integer encoding] \n",
    "#              will be represented as (0,1,0,0,0,0,0,0,0,0).\n",
    "#              28x28 pixels are flattened into a 784 vector\n",
    "#              Grayscale of each pixel between 0 and 255 (black 255)\n",
    "\n",
    "print(mnist.train.num_examples) # #55 000 train data\n",
    "print(mnist.validation.num_examples) # #5000 validation data\n",
    "print(mnist.test.num_examples) # #10 000 test data"
   ]
  },
  {
   "cell_type": "code",
   "execution_count": 2,
   "metadata": {
    "slideshow": {
     "slide_type": "slide"
    }
   },
   "outputs": [
    {
     "data": {
      "text/plain": [
       "<Figure size 640x480 with 1 Axes>"
      ]
     },
     "metadata": {},
     "output_type": "display_data"
    },
    {
     "name": "stdout",
     "output_type": "stream",
     "text": [
      "3\n"
     ]
    }
   ],
   "source": [
    "##################################\n",
    "## How does the data look like? ##\n",
    "##################################\n",
    "\n",
    "import numpy as np\n",
    "import matplotlib.pyplot as plt\n",
    "\n",
    "i=1\n",
    "\n",
    "dig = np.argmax(mnist.train.labels[i,:])\n",
    "#argmax due to one-hot encoding.\n",
    "#compare to using:\n",
    "#dig = mnist.train.labels[i,:]\n",
    "\n",
    "img = np.reshape(mnist.train.images[i,:], [28,28])\n",
    "plt.imshow(img, cmap='Greys')\n",
    "plt.show()\n",
    "print(dig)"
   ]
  },
  {
   "cell_type": "code",
   "execution_count": 3,
   "metadata": {
    "slideshow": {
     "slide_type": "slide"
    }
   },
   "outputs": [],
   "source": [
    "####################\n",
    "## Architecture I ##\n",
    "####################\n",
    "\n",
    "## Five Layer NN\n",
    "n_input = 784  # input layer (28x28 pixels)\n",
    "n_1 = 512  # 1st hidden layer\n",
    "n_2 = 256  # 2nd hidden layer\n",
    "n_3 = 128  # 3rd hidden layer\n",
    "n_4 = 64   # 4th hidden layer\n",
    "n_output = 10  # output layer (0-9 digits)\n",
    "\n",
    "#Define 2 tensors as placeholders (tensors that we'll feed with values later)\n",
    "\n",
    "x     = tf.placeholder(\"float\", [None, n_input])   #None x 784\n",
    "ystar = tf.placeholder(\"float\", [None, n_output])  #None x 10\n",
    "p     = tf.placeholder(tf.float32)\n",
    "\n",
    "#PREVIOUS: Ystar = Y"
   ]
  },
  {
   "cell_type": "code",
   "execution_count": 4,
   "metadata": {
    "slideshow": {
     "slide_type": "slide"
    }
   },
   "outputs": [],
   "source": [
    "#####################\n",
    "## Hyperparameters ##\n",
    "#####################\n",
    "\n",
    "learning_rate = 1e-4\n",
    "n_iterations = 10000\n",
    "batch_size = 128\n",
    "#batch_size = 4112"
   ]
  },
  {
   "cell_type": "code",
   "execution_count": 5,
   "metadata": {
    "slideshow": {
     "slide_type": "slide"
    }
   },
   "outputs": [
    {
     "name": "stdout",
     "output_type": "stream",
     "text": [
      "WARNING:tensorflow:From /Library/Frameworks/Python.framework/Versions/3.7/lib/python3.7/site-packages/tensorflow/python/framework/op_def_library.py:263: colocate_with (from tensorflow.python.framework.ops) is deprecated and will be removed in a future version.\n",
      "Instructions for updating:\n",
      "Colocations handled automatically by placer.\n",
      "WARNING:tensorflow:From <ipython-input-5-bdb820ef83f1>:25: calling dropout (from tensorflow.python.ops.nn_ops) with keep_prob is deprecated and will be removed in a future version.\n",
      "Instructions for updating:\n",
      "Please use `rate` instead of `keep_prob`. Rate should be set to `rate = 1 - keep_prob`.\n"
     ]
    }
   ],
   "source": [
    "#######################################\n",
    "## Architecture II & Getting Started ##\n",
    "#######################################\n",
    "\n",
    "# Initial values for Weights\n",
    "\n",
    "weights = {\n",
    "    'w1': tf.Variable(tf.truncated_normal([n_input, n_1], stddev=0.1)),\n",
    "    'w2': tf.Variable(tf.truncated_normal([n_1, n_2], stddev=0.1)),\n",
    "    'w3': tf.Variable(tf.truncated_normal([n_2, n_3], stddev=0.1)),\n",
    "    'w4': tf.Variable(tf.truncated_normal([n_3, n_4], stddev=0.1)),\n",
    "    'w5': tf.Variable(tf.truncated_normal([n_4, n_output], stddev=0.1)),\n",
    "}\n",
    "\n",
    "\n",
    "biases = {\n",
    "    'b1': tf.Variable(tf.constant(0.1, shape = [n_1])),\n",
    "    'b2': tf.Variable(tf.constant(0.1, shape = [n_2])),\n",
    "    'b3': tf.Variable(tf.constant(0.1, shape = [n_3])),\n",
    "    'b4': tf.Variable(tf.constant(0.1, shape = [n_4])),\n",
    "    'b5': tf.Variable(tf.constant(0.00001, shape = [n_output])),\n",
    "}\n",
    "\n",
    "\n",
    "h_1 = tf.nn.dropout(tf.maximum(tf.add(tf.matmul(x, weights['w1']), biases['b1']), 0), p)     #ReLU\n",
    "h_2 = tf.nn.dropout(tf.math.tanh(tf.add(tf.matmul(h_1, weights['w2']), biases['b2'])), p)    #tanh\n",
    "h_3 = tf.nn.dropout(tf.maximum(tf.add(tf.matmul(h_2, weights['w3']), biases['b3']), 0), p)   #ReLU\n",
    "h_4 = tf.nn.dropout(tf.maximum(tf.add(tf.matmul(h_3, weights['w4']), biases['b4']), 0), p)   #ReLU\n",
    "y   = tf.math.softmax(tf.matmul(h_4, weights['w5']) + biases['b5'])                          #Softmax\n",
    "#PREVIOUS: y = output_layer\n"
   ]
  },
  {
   "cell_type": "code",
   "execution_count": 6,
   "metadata": {
    "slideshow": {
     "slide_type": "slide"
    }
   },
   "outputs": [],
   "source": [
    "####################################\n",
    "## Loss Function and Optimization ##\n",
    "####################################\n",
    "cross_entropy = -tf.reduce_mean(ystar * tf.log(y)) + 0.00001    #don't use the python-function anymore\n",
    "                                                                #code it mathematically\n",
    "#cross_entropy = tf.reduce_mean(   \n",
    "#    tf.nn.softmax_cross_entropy_with_logits(  #use cross_entropy norm\n",
    "#        labels=ystar, logits = y\n",
    "#        ))\n",
    "\n",
    "train_step = tf.train.AdamOptimizer(1e-4).minimize(cross_entropy)\n",
    "#                      #use the Adam Gradient Descent Optimizer"
   ]
  },
  {
   "cell_type": "code",
   "execution_count": 7,
   "metadata": {
    "slideshow": {
     "slide_type": "slide"
    }
   },
   "outputs": [],
   "source": [
    "#####################\n",
    "## Define Accuracy ##\n",
    "#####################\n",
    "\n",
    "correct_pred = tf.equal(tf.argmax(y, 1), tf.argmax(ystar, 1))\n",
    "accuracy = tf.reduce_mean(tf.cast(correct_pred, tf.float32))"
   ]
  },
  {
   "cell_type": "code",
   "execution_count": 8,
   "metadata": {},
   "outputs": [
    {
     "name": "stdout",
     "output_type": "stream",
     "text": [
      "Iteration 0 \t Minibatch-Loss = 0.24433406 \t Minibatch-Accuracy = 0.140625\n",
      "Iteration 0 \t Test-loss      = 0.24091867 \t Test-Accuracy      = 0.1188\n",
      "------------------------------------------------------------------------------\n",
      "Iteration 100 \t Minibatch-Loss = 0.17339171 \t Minibatch-Accuracy = 0.5078125\n",
      "Iteration 100 \t Test-loss      = 0.15996942 \t Test-Accuracy      = 0.6591\n",
      "------------------------------------------------------------------------------\n",
      "Iteration 200 \t Minibatch-Loss = 0.11270064 \t Minibatch-Accuracy = 0.65625\n",
      "Iteration 200 \t Test-loss      = 0.08327283 \t Test-Accuracy      = 0.8091\n",
      "------------------------------------------------------------------------------\n",
      "Iteration 300 \t Minibatch-Loss = 0.092981786 \t Minibatch-Accuracy = 0.65625\n",
      "Iteration 300 \t Test-loss      = 0.054225843 \t Test-Accuracy      = 0.8553\n",
      "------------------------------------------------------------------------------\n",
      "Iteration 400 \t Minibatch-Loss = 0.060871944 \t Minibatch-Accuracy = 0.84375\n",
      "Iteration 400 \t Test-loss      = 0.041123524 \t Test-Accuracy      = 0.8883\n",
      "------------------------------------------------------------------------------\n",
      "Iteration 500 \t Minibatch-Loss = 0.057098933 \t Minibatch-Accuracy = 0.8046875\n",
      "Iteration 500 \t Test-loss      = 0.034576282 \t Test-Accuracy      = 0.9023\n",
      "------------------------------------------------------------------------------\n",
      "Iteration 600 \t Minibatch-Loss = 0.049540438 \t Minibatch-Accuracy = 0.8359375\n",
      "Iteration 600 \t Test-loss      = 0.030550582 \t Test-Accuracy      = 0.9111\n",
      "------------------------------------------------------------------------------\n",
      "Iteration 700 \t Minibatch-Loss = 0.05664077 \t Minibatch-Accuracy = 0.796875\n",
      "Iteration 700 \t Test-loss      = 0.027899059 \t Test-Accuracy      = 0.9173\n",
      "------------------------------------------------------------------------------\n",
      "Iteration 800 \t Minibatch-Loss = 0.03614572 \t Minibatch-Accuracy = 0.890625\n",
      "Iteration 800 \t Test-loss      = 0.025605906 \t Test-Accuracy      = 0.9229\n",
      "------------------------------------------------------------------------------\n",
      "Iteration 900 \t Minibatch-Loss = 0.03628496 \t Minibatch-Accuracy = 0.8828125\n",
      "Iteration 900 \t Test-loss      = 0.02401977 \t Test-Accuracy      = 0.928\n",
      "------------------------------------------------------------------------------\n",
      "Iteration 1000 \t Minibatch-Loss = 0.03378369 \t Minibatch-Accuracy = 0.90625\n",
      "Iteration 1000 \t Test-loss      = 0.022972774 \t Test-Accuracy      = 0.9309\n",
      "------------------------------------------------------------------------------\n",
      "Iteration 1100 \t Minibatch-Loss = 0.037134506 \t Minibatch-Accuracy = 0.8828125\n",
      "Iteration 1100 \t Test-loss      = 0.02162146 \t Test-Accuracy      = 0.9347\n",
      "------------------------------------------------------------------------------\n",
      "Iteration 1200 \t Minibatch-Loss = 0.02269699 \t Minibatch-Accuracy = 0.9296875\n",
      "Iteration 1200 \t Test-loss      = 0.02053934 \t Test-Accuracy      = 0.9385\n",
      "------------------------------------------------------------------------------\n",
      "Iteration 1300 \t Minibatch-Loss = 0.027777039 \t Minibatch-Accuracy = 0.9375\n",
      "Iteration 1300 \t Test-loss      = 0.019299807 \t Test-Accuracy      = 0.9418\n",
      "------------------------------------------------------------------------------\n",
      "Iteration 1400 \t Minibatch-Loss = 0.02037696 \t Minibatch-Accuracy = 0.9453125\n",
      "Iteration 1400 \t Test-loss      = 0.018895479 \t Test-Accuracy      = 0.9431\n",
      "------------------------------------------------------------------------------\n",
      "Iteration 1500 \t Minibatch-Loss = 0.027257912 \t Minibatch-Accuracy = 0.90625\n",
      "Iteration 1500 \t Test-loss      = 0.018110707 \t Test-Accuracy      = 0.9443\n",
      "------------------------------------------------------------------------------\n",
      "Iteration 1600 \t Minibatch-Loss = 0.024753861 \t Minibatch-Accuracy = 0.9140625\n",
      "Iteration 1600 \t Test-loss      = 0.017629253 \t Test-Accuracy      = 0.9469\n",
      "------------------------------------------------------------------------------\n",
      "Iteration 1700 \t Minibatch-Loss = 0.045418795 \t Minibatch-Accuracy = 0.8515625\n",
      "Iteration 1700 \t Test-loss      = 0.016968114 \t Test-Accuracy      = 0.9493\n",
      "------------------------------------------------------------------------------\n",
      "Iteration 1800 \t Minibatch-Loss = 0.016517557 \t Minibatch-Accuracy = 0.953125\n",
      "Iteration 1800 \t Test-loss      = 0.016207173 \t Test-Accuracy      = 0.9513\n",
      "------------------------------------------------------------------------------\n",
      "Iteration 1900 \t Minibatch-Loss = 0.028016841 \t Minibatch-Accuracy = 0.921875\n",
      "Iteration 1900 \t Test-loss      = 0.01594357 \t Test-Accuracy      = 0.9525\n",
      "------------------------------------------------------------------------------\n",
      "Iteration 2000 \t Minibatch-Loss = 0.018839058 \t Minibatch-Accuracy = 0.953125\n",
      "Iteration 2000 \t Test-loss      = 0.01598745 \t Test-Accuracy      = 0.9516\n",
      "------------------------------------------------------------------------------\n",
      "Iteration 2100 \t Minibatch-Loss = 0.03293176 \t Minibatch-Accuracy = 0.8984375\n",
      "Iteration 2100 \t Test-loss      = 0.01497343 \t Test-Accuracy      = 0.9544\n",
      "------------------------------------------------------------------------------\n",
      "Iteration 2200 \t Minibatch-Loss = 0.018232279 \t Minibatch-Accuracy = 0.953125\n",
      "Iteration 2200 \t Test-loss      = 0.01465724 \t Test-Accuracy      = 0.9543\n",
      "------------------------------------------------------------------------------\n",
      "Iteration 2300 \t Minibatch-Loss = 0.014441382 \t Minibatch-Accuracy = 0.96875\n",
      "Iteration 2300 \t Test-loss      = 0.01440589 \t Test-Accuracy      = 0.9551\n",
      "------------------------------------------------------------------------------\n",
      "Iteration 2400 \t Minibatch-Loss = 0.02988521 \t Minibatch-Accuracy = 0.90625\n",
      "Iteration 2400 \t Test-loss      = 0.014138608 \t Test-Accuracy      = 0.9575\n",
      "------------------------------------------------------------------------------\n",
      "Iteration 2500 \t Minibatch-Loss = 0.015100858 \t Minibatch-Accuracy = 0.953125\n",
      "Iteration 2500 \t Test-loss      = 0.013787316 \t Test-Accuracy      = 0.9573\n",
      "------------------------------------------------------------------------------\n",
      "Iteration 2600 \t Minibatch-Loss = 0.017585777 \t Minibatch-Accuracy = 0.953125\n",
      "Iteration 2600 \t Test-loss      = 0.0133126825 \t Test-Accuracy      = 0.9591\n",
      "------------------------------------------------------------------------------\n",
      "Iteration 2700 \t Minibatch-Loss = 0.018428765 \t Minibatch-Accuracy = 0.9375\n",
      "Iteration 2700 \t Test-loss      = 0.012951484 \t Test-Accuracy      = 0.9611\n",
      "------------------------------------------------------------------------------\n",
      "Iteration 2800 \t Minibatch-Loss = 0.012421356 \t Minibatch-Accuracy = 0.9609375\n",
      "Iteration 2800 \t Test-loss      = 0.012564916 \t Test-Accuracy      = 0.962\n",
      "------------------------------------------------------------------------------\n",
      "Iteration 2900 \t Minibatch-Loss = 0.019630855 \t Minibatch-Accuracy = 0.953125\n",
      "Iteration 2900 \t Test-loss      = 0.012810476 \t Test-Accuracy      = 0.9621\n",
      "------------------------------------------------------------------------------\n",
      "Iteration 3000 \t Minibatch-Loss = 0.019563269 \t Minibatch-Accuracy = 0.921875\n",
      "Iteration 3000 \t Test-loss      = 0.012374823 \t Test-Accuracy      = 0.9632\n",
      "------------------------------------------------------------------------------\n",
      "Iteration 3100 \t Minibatch-Loss = 0.018293282 \t Minibatch-Accuracy = 0.9453125\n",
      "Iteration 3100 \t Test-loss      = 0.012245929 \t Test-Accuracy      = 0.9634\n",
      "------------------------------------------------------------------------------\n",
      "Iteration 3200 \t Minibatch-Loss = 0.019694721 \t Minibatch-Accuracy = 0.9375\n",
      "Iteration 3200 \t Test-loss      = 0.012111293 \t Test-Accuracy      = 0.9627\n",
      "------------------------------------------------------------------------------\n",
      "Iteration 3300 \t Minibatch-Loss = 0.022729984 \t Minibatch-Accuracy = 0.9375\n",
      "Iteration 3300 \t Test-loss      = 0.011664771 \t Test-Accuracy      = 0.9645\n",
      "------------------------------------------------------------------------------\n",
      "Iteration 3400 \t Minibatch-Loss = 0.01023615 \t Minibatch-Accuracy = 0.96875\n",
      "Iteration 3400 \t Test-loss      = 0.011881813 \t Test-Accuracy      = 0.9647\n",
      "------------------------------------------------------------------------------\n",
      "Iteration 3500 \t Minibatch-Loss = 0.012469375 \t Minibatch-Accuracy = 0.953125\n",
      "Iteration 3500 \t Test-loss      = 0.011480673 \t Test-Accuracy      = 0.9665\n",
      "------------------------------------------------------------------------------\n"
     ]
    },
    {
     "name": "stdout",
     "output_type": "stream",
     "text": [
      "Iteration 3600 \t Minibatch-Loss = 0.02787019 \t Minibatch-Accuracy = 0.8984375\n",
      "Iteration 3600 \t Test-loss      = 0.01134896 \t Test-Accuracy      = 0.9669\n",
      "------------------------------------------------------------------------------\n",
      "Iteration 3700 \t Minibatch-Loss = 0.015786454 \t Minibatch-Accuracy = 0.96875\n",
      "Iteration 3700 \t Test-loss      = 0.011181543 \t Test-Accuracy      = 0.9672\n",
      "------------------------------------------------------------------------------\n",
      "Iteration 3800 \t Minibatch-Loss = 0.009393542 \t Minibatch-Accuracy = 0.9609375\n",
      "Iteration 3800 \t Test-loss      = 0.011134199 \t Test-Accuracy      = 0.9663\n",
      "------------------------------------------------------------------------------\n",
      "Iteration 3900 \t Minibatch-Loss = 0.024666032 \t Minibatch-Accuracy = 0.9453125\n",
      "Iteration 3900 \t Test-loss      = 0.010980444 \t Test-Accuracy      = 0.9672\n",
      "------------------------------------------------------------------------------\n",
      "Iteration 4000 \t Minibatch-Loss = 0.019665094 \t Minibatch-Accuracy = 0.953125\n",
      "Iteration 4000 \t Test-loss      = 0.010653385 \t Test-Accuracy      = 0.9673\n",
      "------------------------------------------------------------------------------\n",
      "Iteration 4100 \t Minibatch-Loss = 0.012177902 \t Minibatch-Accuracy = 0.9609375\n",
      "Iteration 4100 \t Test-loss      = 0.010467961 \t Test-Accuracy      = 0.9682\n",
      "------------------------------------------------------------------------------\n",
      "Iteration 4200 \t Minibatch-Loss = 0.013489307 \t Minibatch-Accuracy = 0.96875\n",
      "Iteration 4200 \t Test-loss      = 0.0103052985 \t Test-Accuracy      = 0.969\n",
      "------------------------------------------------------------------------------\n",
      "Iteration 4300 \t Minibatch-Loss = 0.013246065 \t Minibatch-Accuracy = 0.9609375\n",
      "Iteration 4300 \t Test-loss      = 0.010308114 \t Test-Accuracy      = 0.9693\n",
      "------------------------------------------------------------------------------\n",
      "Iteration 4400 \t Minibatch-Loss = 0.0048383125 \t Minibatch-Accuracy = 0.984375\n",
      "Iteration 4400 \t Test-loss      = 0.010227235 \t Test-Accuracy      = 0.9695\n",
      "------------------------------------------------------------------------------\n",
      "Iteration 4500 \t Minibatch-Loss = 0.009622513 \t Minibatch-Accuracy = 0.96875\n",
      "Iteration 4500 \t Test-loss      = 0.010075364 \t Test-Accuracy      = 0.9699\n",
      "------------------------------------------------------------------------------\n",
      "Iteration 4600 \t Minibatch-Loss = 0.00845709 \t Minibatch-Accuracy = 0.984375\n",
      "Iteration 4600 \t Test-loss      = 0.0099999895 \t Test-Accuracy      = 0.9698\n",
      "------------------------------------------------------------------------------\n",
      "Iteration 4700 \t Minibatch-Loss = 0.010363948 \t Minibatch-Accuracy = 0.9765625\n",
      "Iteration 4700 \t Test-loss      = 0.0097108055 \t Test-Accuracy      = 0.9714\n",
      "------------------------------------------------------------------------------\n",
      "Iteration 4800 \t Minibatch-Loss = 0.013329661 \t Minibatch-Accuracy = 0.953125\n",
      "Iteration 4800 \t Test-loss      = 0.009913716 \t Test-Accuracy      = 0.9706\n",
      "------------------------------------------------------------------------------\n",
      "Iteration 4900 \t Minibatch-Loss = 0.004724948 \t Minibatch-Accuracy = 0.984375\n",
      "Iteration 4900 \t Test-loss      = 0.009938541 \t Test-Accuracy      = 0.9702\n",
      "------------------------------------------------------------------------------\n",
      "Iteration 5000 \t Minibatch-Loss = 0.012006567 \t Minibatch-Accuracy = 0.9765625\n",
      "Iteration 5000 \t Test-loss      = 0.0096076885 \t Test-Accuracy      = 0.9712\n",
      "------------------------------------------------------------------------------\n",
      "Iteration 5100 \t Minibatch-Loss = 0.015459906 \t Minibatch-Accuracy = 0.9609375\n",
      "Iteration 5100 \t Test-loss      = 0.009386749 \t Test-Accuracy      = 0.9721\n",
      "------------------------------------------------------------------------------\n",
      "Iteration 5200 \t Minibatch-Loss = 0.018252784 \t Minibatch-Accuracy = 0.953125\n",
      "Iteration 5200 \t Test-loss      = 0.009363456 \t Test-Accuracy      = 0.972\n",
      "------------------------------------------------------------------------------\n",
      "Iteration 5300 \t Minibatch-Loss = 0.014957509 \t Minibatch-Accuracy = 0.9765625\n",
      "Iteration 5300 \t Test-loss      = 0.009340506 \t Test-Accuracy      = 0.9725\n",
      "------------------------------------------------------------------------------\n",
      "Iteration 5400 \t Minibatch-Loss = 0.00454839 \t Minibatch-Accuracy = 0.9921875\n",
      "Iteration 5400 \t Test-loss      = 0.009293157 \t Test-Accuracy      = 0.9725\n",
      "------------------------------------------------------------------------------\n",
      "Iteration 5500 \t Minibatch-Loss = 0.012537033 \t Minibatch-Accuracy = 0.953125\n",
      "Iteration 5500 \t Test-loss      = 0.009481875 \t Test-Accuracy      = 0.9723\n",
      "------------------------------------------------------------------------------\n",
      "Iteration 5600 \t Minibatch-Loss = 0.019187188 \t Minibatch-Accuracy = 0.9609375\n",
      "Iteration 5600 \t Test-loss      = 0.009043803 \t Test-Accuracy      = 0.9733\n",
      "------------------------------------------------------------------------------\n",
      "Iteration 5700 \t Minibatch-Loss = 0.012561692 \t Minibatch-Accuracy = 0.96875\n",
      "Iteration 5700 \t Test-loss      = 0.00910206 \t Test-Accuracy      = 0.9731\n",
      "------------------------------------------------------------------------------\n",
      "Iteration 5800 \t Minibatch-Loss = 0.021593632 \t Minibatch-Accuracy = 0.953125\n",
      "Iteration 5800 \t Test-loss      = 0.008814566 \t Test-Accuracy      = 0.974\n",
      "------------------------------------------------------------------------------\n",
      "Iteration 5900 \t Minibatch-Loss = 0.010652498 \t Minibatch-Accuracy = 0.9765625\n",
      "Iteration 5900 \t Test-loss      = 0.008707183 \t Test-Accuracy      = 0.9739\n",
      "------------------------------------------------------------------------------\n",
      "Iteration 6000 \t Minibatch-Loss = 0.010207234 \t Minibatch-Accuracy = 0.96875\n",
      "Iteration 6000 \t Test-loss      = 0.008784008 \t Test-Accuracy      = 0.9737\n",
      "------------------------------------------------------------------------------\n",
      "Iteration 6100 \t Minibatch-Loss = 0.007604814 \t Minibatch-Accuracy = 0.984375\n",
      "Iteration 6100 \t Test-loss      = 0.008831247 \t Test-Accuracy      = 0.974\n",
      "------------------------------------------------------------------------------\n",
      "Iteration 6200 \t Minibatch-Loss = 0.014971645 \t Minibatch-Accuracy = 0.9375\n",
      "Iteration 6200 \t Test-loss      = 0.008673555 \t Test-Accuracy      = 0.974\n",
      "------------------------------------------------------------------------------\n",
      "Iteration 6300 \t Minibatch-Loss = 0.0046272515 \t Minibatch-Accuracy = 0.9921875\n",
      "Iteration 6300 \t Test-loss      = 0.008746149 \t Test-Accuracy      = 0.9741\n",
      "------------------------------------------------------------------------------\n",
      "Iteration 6400 \t Minibatch-Loss = 0.013111327 \t Minibatch-Accuracy = 0.953125\n",
      "Iteration 6400 \t Test-loss      = 0.008404497 \t Test-Accuracy      = 0.9752\n",
      "------------------------------------------------------------------------------\n",
      "Iteration 6500 \t Minibatch-Loss = 0.006224504 \t Minibatch-Accuracy = 0.9765625\n",
      "Iteration 6500 \t Test-loss      = 0.008509625 \t Test-Accuracy      = 0.9748\n",
      "------------------------------------------------------------------------------\n",
      "Iteration 6600 \t Minibatch-Loss = 0.0027868699 \t Minibatch-Accuracy = 0.9921875\n",
      "Iteration 6600 \t Test-loss      = 0.008632709 \t Test-Accuracy      = 0.974\n",
      "------------------------------------------------------------------------------\n",
      "Iteration 6700 \t Minibatch-Loss = 0.008490576 \t Minibatch-Accuracy = 0.9921875\n",
      "Iteration 6700 \t Test-loss      = 0.008510072 \t Test-Accuracy      = 0.9753\n",
      "------------------------------------------------------------------------------\n",
      "Iteration 6800 \t Minibatch-Loss = 0.0055764075 \t Minibatch-Accuracy = 0.984375\n",
      "Iteration 6800 \t Test-loss      = 0.008469329 \t Test-Accuracy      = 0.9746\n",
      "------------------------------------------------------------------------------\n",
      "Iteration 6900 \t Minibatch-Loss = 0.00915355 \t Minibatch-Accuracy = 0.96875\n",
      "Iteration 6900 \t Test-loss      = 0.008323326 \t Test-Accuracy      = 0.9751\n",
      "------------------------------------------------------------------------------\n",
      "Iteration 7000 \t Minibatch-Loss = 0.007914854 \t Minibatch-Accuracy = 0.96875\n",
      "Iteration 7000 \t Test-loss      = 0.008428694 \t Test-Accuracy      = 0.9752\n",
      "------------------------------------------------------------------------------\n",
      "Iteration 7100 \t Minibatch-Loss = 0.0029501533 \t Minibatch-Accuracy = 1.0\n",
      "Iteration 7100 \t Test-loss      = 0.008418523 \t Test-Accuracy      = 0.975\n",
      "------------------------------------------------------------------------------\n"
     ]
    },
    {
     "name": "stdout",
     "output_type": "stream",
     "text": [
      "Iteration 7200 \t Minibatch-Loss = 0.0038149552 \t Minibatch-Accuracy = 0.9921875\n",
      "Iteration 7200 \t Test-loss      = 0.008296557 \t Test-Accuracy      = 0.9768\n",
      "------------------------------------------------------------------------------\n",
      "Iteration 7300 \t Minibatch-Loss = 0.017023217 \t Minibatch-Accuracy = 0.9375\n",
      "Iteration 7300 \t Test-loss      = 0.00823835 \t Test-Accuracy      = 0.9762\n",
      "------------------------------------------------------------------------------\n",
      "Iteration 7400 \t Minibatch-Loss = 0.006388113 \t Minibatch-Accuracy = 0.984375\n",
      "Iteration 7400 \t Test-loss      = 0.008172508 \t Test-Accuracy      = 0.9766\n",
      "------------------------------------------------------------------------------\n",
      "Iteration 7500 \t Minibatch-Loss = 0.0058743977 \t Minibatch-Accuracy = 0.984375\n",
      "Iteration 7500 \t Test-loss      = 0.00814941 \t Test-Accuracy      = 0.9761\n",
      "------------------------------------------------------------------------------\n",
      "Iteration 7600 \t Minibatch-Loss = 0.012230522 \t Minibatch-Accuracy = 0.96875\n",
      "Iteration 7600 \t Test-loss      = 0.007992727 \t Test-Accuracy      = 0.9763\n",
      "------------------------------------------------------------------------------\n",
      "Iteration 7700 \t Minibatch-Loss = 0.0043033757 \t Minibatch-Accuracy = 0.984375\n",
      "Iteration 7700 \t Test-loss      = 0.008047651 \t Test-Accuracy      = 0.9765\n",
      "------------------------------------------------------------------------------\n",
      "Iteration 7800 \t Minibatch-Loss = 0.002218387 \t Minibatch-Accuracy = 0.9921875\n",
      "Iteration 7800 \t Test-loss      = 0.008376894 \t Test-Accuracy      = 0.9758\n",
      "------------------------------------------------------------------------------\n",
      "Iteration 7900 \t Minibatch-Loss = 0.004295178 \t Minibatch-Accuracy = 0.984375\n",
      "Iteration 7900 \t Test-loss      = 0.008145188 \t Test-Accuracy      = 0.9764\n",
      "------------------------------------------------------------------------------\n",
      "Iteration 8000 \t Minibatch-Loss = 0.014393244 \t Minibatch-Accuracy = 0.953125\n",
      "Iteration 8000 \t Test-loss      = 0.008239271 \t Test-Accuracy      = 0.9759\n",
      "------------------------------------------------------------------------------\n",
      "Iteration 8100 \t Minibatch-Loss = 0.0032753407 \t Minibatch-Accuracy = 1.0\n",
      "Iteration 8100 \t Test-loss      = 0.008230911 \t Test-Accuracy      = 0.9766\n",
      "------------------------------------------------------------------------------\n",
      "Iteration 8200 \t Minibatch-Loss = 0.004696331 \t Minibatch-Accuracy = 0.984375\n",
      "Iteration 8200 \t Test-loss      = 0.007825163 \t Test-Accuracy      = 0.9777\n",
      "------------------------------------------------------------------------------\n",
      "Iteration 8300 \t Minibatch-Loss = 0.0041171396 \t Minibatch-Accuracy = 0.9921875\n",
      "Iteration 8300 \t Test-loss      = 0.008033495 \t Test-Accuracy      = 0.9756\n",
      "------------------------------------------------------------------------------\n",
      "Iteration 8400 \t Minibatch-Loss = 0.011424991 \t Minibatch-Accuracy = 0.9609375\n",
      "Iteration 8400 \t Test-loss      = 0.008104166 \t Test-Accuracy      = 0.9765\n",
      "------------------------------------------------------------------------------\n",
      "Iteration 8500 \t Minibatch-Loss = 0.0050523416 \t Minibatch-Accuracy = 0.984375\n",
      "Iteration 8500 \t Test-loss      = 0.007988405 \t Test-Accuracy      = 0.976\n",
      "------------------------------------------------------------------------------\n",
      "Iteration 8600 \t Minibatch-Loss = 0.008886725 \t Minibatch-Accuracy = 0.984375\n",
      "Iteration 8600 \t Test-loss      = 0.00788041 \t Test-Accuracy      = 0.9774\n",
      "------------------------------------------------------------------------------\n",
      "Iteration 8700 \t Minibatch-Loss = 0.006089121 \t Minibatch-Accuracy = 0.9765625\n",
      "Iteration 8700 \t Test-loss      = 0.00780366 \t Test-Accuracy      = 0.9778\n",
      "------------------------------------------------------------------------------\n",
      "Iteration 8800 \t Minibatch-Loss = 0.015578408 \t Minibatch-Accuracy = 0.953125\n",
      "Iteration 8800 \t Test-loss      = 0.0078116814 \t Test-Accuracy      = 0.9766\n",
      "------------------------------------------------------------------------------\n",
      "Iteration 8900 \t Minibatch-Loss = 0.0075339703 \t Minibatch-Accuracy = 0.9921875\n",
      "Iteration 8900 \t Test-loss      = 0.0077532544 \t Test-Accuracy      = 0.9771\n",
      "------------------------------------------------------------------------------\n",
      "Iteration 9000 \t Minibatch-Loss = 0.006469365 \t Minibatch-Accuracy = 0.9921875\n",
      "Iteration 9000 \t Test-loss      = 0.0077177347 \t Test-Accuracy      = 0.9774\n",
      "------------------------------------------------------------------------------\n",
      "Iteration 9100 \t Minibatch-Loss = 0.0016589945 \t Minibatch-Accuracy = 1.0\n",
      "Iteration 9100 \t Test-loss      = 0.007607898 \t Test-Accuracy      = 0.978\n",
      "------------------------------------------------------------------------------\n",
      "Iteration 9200 \t Minibatch-Loss = 0.008712701 \t Minibatch-Accuracy = 0.984375\n",
      "Iteration 9200 \t Test-loss      = 0.00778847 \t Test-Accuracy      = 0.978\n",
      "------------------------------------------------------------------------------\n",
      "Iteration 9300 \t Minibatch-Loss = 0.0037185533 \t Minibatch-Accuracy = 0.9921875\n",
      "Iteration 9300 \t Test-loss      = 0.007942365 \t Test-Accuracy      = 0.977\n",
      "------------------------------------------------------------------------------\n",
      "Iteration 9400 \t Minibatch-Loss = 0.0015452991 \t Minibatch-Accuracy = 1.0\n",
      "Iteration 9400 \t Test-loss      = 0.0077317166 \t Test-Accuracy      = 0.9784\n",
      "------------------------------------------------------------------------------\n",
      "Iteration 9500 \t Minibatch-Loss = 0.009608555 \t Minibatch-Accuracy = 0.9609375\n",
      "Iteration 9500 \t Test-loss      = 0.007839622 \t Test-Accuracy      = 0.978\n",
      "------------------------------------------------------------------------------\n",
      "Iteration 9600 \t Minibatch-Loss = 0.0073419986 \t Minibatch-Accuracy = 0.984375\n",
      "Iteration 9600 \t Test-loss      = 0.0076550324 \t Test-Accuracy      = 0.9792\n",
      "------------------------------------------------------------------------------\n",
      "Iteration 9700 \t Minibatch-Loss = 0.008244398 \t Minibatch-Accuracy = 0.96875\n",
      "Iteration 9700 \t Test-loss      = 0.00782781 \t Test-Accuracy      = 0.9785\n",
      "------------------------------------------------------------------------------\n",
      "Iteration 9800 \t Minibatch-Loss = 0.003665058 \t Minibatch-Accuracy = 0.984375\n",
      "Iteration 9800 \t Test-loss      = 0.0076888856 \t Test-Accuracy      = 0.9787\n",
      "------------------------------------------------------------------------------\n",
      "Iteration 9900 \t Minibatch-Loss = 0.0025412124 \t Minibatch-Accuracy = 0.9921875\n",
      "Iteration 9900 \t Test-loss      = 0.0076859784 \t Test-Accuracy      = 0.9792\n",
      "------------------------------------------------------------------------------\n"
     ]
    }
   ],
   "source": [
    "################\n",
    "## Run the NN ##\n",
    "################\n",
    "dropout = 0.5\n",
    "init = tf.global_variables_initializer()\n",
    "sess = tf.Session()\n",
    "sess.run(init)\n",
    "\n",
    "t_loss = [None] * int(n_iterations/100)\n",
    "b_loss = [None] * int(n_iterations/100)\n",
    "\n",
    "t_acc = [None] * int(n_iterations/100)\n",
    "b_acc = [None] * int(n_iterations/100)\n",
    "\n",
    "for i in range(n_iterations):\n",
    "    batch_x, batch_y = mnist.train.next_batch(batch_size)\n",
    "    sess.run(train_step, feed_dict={\n",
    "        x: batch_x, ystar: batch_y, p: 0.75}\n",
    "            )\n",
    "\n",
    "    # print loss and accuracy (per minibatch)\n",
    "    if i % 100 == 0:\n",
    "        minibatch_loss, minibatch_accuracy = sess.run(\n",
    "            [cross_entropy, accuracy],\n",
    "            feed_dict={x: batch_x, ystar: batch_y, p: 0.75}\n",
    "            )\n",
    "        \n",
    "        test_accuracy = sess.run(accuracy, feed_dict={\n",
    "            x: mnist.test.images, ystar: mnist.test.labels, p: 1\n",
    "        })\n",
    "        test_loss     = sess.run(cross_entropy, feed_dict={\n",
    "            x: mnist.test.images, ystar: mnist.test.labels, p: 1\n",
    "        }) \n",
    "        \n",
    "        \n",
    "        j=int(i/100)\n",
    "        t_loss[j] = test_loss\n",
    "        b_loss[j] = minibatch_loss\n",
    "        \n",
    "        t_acc[j]  = test_accuracy\n",
    "        b_acc[j]  = minibatch_accuracy\n",
    "        \n",
    "        print(\n",
    "            \"Iteration\",\n",
    "            str(i),\n",
    "            \"\\t Minibatch-Loss =\",\n",
    "            str(minibatch_loss),\n",
    "            \"\\t Minibatch-Accuracy =\",\n",
    "            str(minibatch_accuracy))\n",
    "        print(\n",
    "            \"Iteration\",\n",
    "            str(i),\n",
    "            \"\\t Test-loss      =\",\n",
    "            str(test_loss),\n",
    "            \"\\t Test-Accuracy      =\",\n",
    "            str(test_accuracy)\n",
    "            )\n",
    "        print(\"------------------------------------------------------------------------------\")"
   ]
  },
  {
   "cell_type": "code",
   "execution_count": 30,
   "metadata": {},
   "outputs": [
    {
     "name": "stdout",
     "output_type": "stream",
     "text": [
      "\n",
      "Accuracy on test data: 0.9485\n"
     ]
    }
   ],
   "source": [
    "###########################\n",
    "## Accuracy on test data ##\n",
    "###########################\n",
    "\n",
    "test_accuracy = sess.run(accuracy, feed_dict={x: mnist.test.images, ystar: mnist.test.labels})\n",
    "print(\"\\nAccuracy on test data:\", test_accuracy)"
   ]
  },
  {
   "cell_type": "code",
   "execution_count": 15,
   "metadata": {},
   "outputs": [
    {
     "data": {
      "image/png": "[encoded data removed]",
      "text/plain": [
       "<Figure size 432x288 with 1 Axes>"
      ]
     },
     "metadata": {
      "needs_background": "light"
     },
     "output_type": "display_data"
    },
    {
     "name": "stdout",
     "output_type": "stream",
     "text": [
      "Prediction: 4\n"
     ]
    }
   ],
   "source": [
    "#######################################\n",
    "## Checking the performance manually ##\n",
    "#######################################\n",
    "\n",
    "test_digit = 24\n",
    "\n",
    "img = np.reshape(mnist.test.images[test_digit,:], [28,28])\n",
    "plt.imshow(img, cmap='Greys')\n",
    "plt.show()\n",
    "\n",
    "#dig = np.argmax(mnist.test.labels[test_digit,:])\n",
    "#print(dig)\n",
    "\n",
    "prediction = sess.run(tf.argmax(y, 1), feed_dict={x: mnist.test.images})\n",
    "print (\"Prediction:\", np.squeeze(prediction)[test_digit])"
   ]
  },
  {
   "cell_type": "code",
   "execution_count": 9,
   "metadata": {},
   "outputs": [
    {
     "data": {
      "text/plain": [
       "Text(0.5, 1.0, 'Loss for Minibatch (red) and Test-Data (blue)')"
      ]
     },
     "execution_count": 9,
     "metadata": {},
     "output_type": "execute_result"
    },
    {
     "data": {
      "image/png": "[encoded data removed]",
      "text/plain": [
       "<Figure size 432x288 with 1 Axes>"
      ]
     },
     "metadata": {
      "needs_background": "light"
     },
     "output_type": "display_data"
    }
   ],
   "source": [
    "pr = np.arange(int(n_iterations/100))\n",
    "plt.ylim(0,0.04)\n",
    "plt.plot(pr,t_loss, pr, b_loss, 'r')\n",
    "plt.title('Loss for Minibatch (red) and Test-Data (blue)')"
   ]
  },
  {
   "cell_type": "code",
   "execution_count": 10,
   "metadata": {},
   "outputs": [
    {
     "data": {
      "text/plain": [
       "Text(0.5, 1.0, 'Accuracy for Minibatch (red) and Test-Data (blue)')"
      ]
     },
     "execution_count": 10,
     "metadata": {},
     "output_type": "execute_result"
    },
    {
     "data": {
      "image/png": "[encoded data removed]",
      "text/plain": [
       "<Figure size 432x288 with 1 Axes>"
      ]
     },
     "metadata": {
      "needs_background": "light"
     },
     "output_type": "display_data"
    }
   ],
   "source": [
    "pr = np.arange(int(n_iterations/100))\n",
    "plt.ylim(0.9,1.001)\n",
    "plt.plot(pr,t_acc, pr, b_acc, 'r')\n",
    "plt.title('Accuracy for Minibatch (red) and Test-Data (blue)' )"
   ]
  },
  {
   "cell_type": "code",
   "execution_count": null,
   "metadata": {},
   "outputs": [],
   "source": []
  }
 ],
 "metadata": {
  "celltoolbar": "Slideshow",
  "kernelspec": {
   "display_name": "Python 3",
   "language": "python",
   "name": "python3"
  },
  "language_info": {
   "codemirror_mode": {
    "name": "ipython",
    "version": 3
   },
   "file_extension": ".py",
   "mimetype": "text/x-python",
   "name": "python",
   "nbconvert_exporter": "python",
   "pygments_lexer": "ipython3",
   "version": "3.7.3"
  }
 },
 "nbformat": 4,
 "nbformat_minor": 2
}
