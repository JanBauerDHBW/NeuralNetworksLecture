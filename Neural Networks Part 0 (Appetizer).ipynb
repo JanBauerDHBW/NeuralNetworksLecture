{
 "cells": [
  {
   "cell_type": "markdown",
   "metadata": {
    "slideshow": {
     "slide_type": "slide"
    }
   },
   "source": [
    "### Project II\n",
    "\n",
    "# Neural Networks (Introduction)\n",
    "\n",
    "Lecturer: Jan Bauer (jan.bauer@dhbw-mannheim.de)"
   ]
  },
  {
   "cell_type": "markdown",
   "metadata": {
    "slideshow": {
     "slide_type": "slide"
    }
   },
   "source": [
    "### About me:\n",
    "\n",
    "-  Mathematics-Economics M.Sc (Københavns Universitet, 2017)\n",
    "-  Research Assistant (PhD Student) at the chair of Management (JGU Mainz, 2018)\n",
    "-  Research Assistant (PhD Student) at the chair of Application Management (DHBW, 2019)\n",
    "\n",
    "-  Research interests: (Time Series) Econometrics, Macroeconometrics & passion for everything statistic-ish"
   ]
  },
  {
   "cell_type": "markdown",
   "metadata": {
    "slideshow": {
     "slide_type": "slide"
    }
   },
   "source": [
    "### About you:\n",
    "\n",
    "-  Solid background in calculus (derivatives)\n",
    "-  Python coding skills (presumably more than I have)\n",
    "-  Recap the lecture to not loose track\n",
    "-  Looking for typos (thank you)\n",
    "-  In-lecture-feedback (pace, difficulty,...)"
   ]
  },
  {
   "cell_type": "markdown",
   "metadata": {
    "slideshow": {
     "slide_type": "slide"
    }
   },
   "source": [
    "### Administrative Things\n",
    "\n",
    "-  Lecture times: 1-2 times a week (as regular as possible)\n",
    "-  Slides: Google Calendar\n",
    "-  10 lectures of 3h each\n",
    "-  Lecture 7(?): Paper\n",
    "-  Sources: Notes\n",
    "-  Questions? Email me!"
   ]
  },
  {
   "cell_type": "markdown",
   "metadata": {
    "slideshow": {
     "slide_type": "subslide"
    }
   },
   "source": [
    "-  Sources:\n",
    "    - Neural Networks and Deep Learning (Charu C. Aggarwall)\n",
    "    - Deep Learning (Ian Goodfellow, Yoshua Bengio & Aaron Courville)"
   ]
  },
  {
   "cell_type": "markdown",
   "metadata": {
    "slideshow": {
     "slide_type": "slide"
    }
   },
   "source": [
    "### Exam\n",
    "\n",
    "-  15.07. (?)\n",
    "-  60min (?) or oral? If not $\\to$ don't forget your calculator\n",
    "-  Theoretical (I want you to understand the idea behind NN)\n",
    "-  Mathematical\n",
    "-  Coding (Pseudocode) - presumably, but not settled yet\n",
    "-  Paper"
   ]
  },
  {
   "cell_type": "markdown",
   "metadata": {
    "slideshow": {
     "slide_type": "slide"
    }
   },
   "source": [
    "### Structure (formal)\n",
    "\n",
    "0. Appetizer\n",
    "\n",
    "I. Initialization\n",
    "\n",
    "II. Model\n",
    "\n",
    "III. Loss (function)\n",
    "\n",
    "IV. Optimization"
   ]
  },
  {
   "cell_type": "markdown",
   "metadata": {
    "slideshow": {
     "slide_type": "slide"
    }
   },
   "source": [
    "### Structure (circle-ish)\n",
    "\n",
    "1. Recognize handwritten digits (coding)\n",
    "\n",
    "\n",
    "2. Understand the theory behind the code\n",
    "\n",
    "\n",
    "3. Extend the theory\n",
    "\n",
    "\n",
    "4. Improve the code"
   ]
  },
  {
   "cell_type": "markdown",
   "metadata": {
    "slideshow": {
     "slide_type": "slide"
    }
   },
   "source": [
    "### Timeline\n",
    "\n",
    "1. Today: Appetizer\n",
    "\n",
    "\n",
    "2. First 3-4 Weeks: Understand the appetizer\n",
    "\n",
    "\n",
    "3. Last 6-7 Weeks: Dive into Neural Networks\n",
    "\n",
    "\n",
    "4. Week 11: Off\n",
    "\n",
    "\n",
    "5. Week 12: Exam"
   ]
  },
  {
   "cell_type": "markdown",
   "metadata": {
    "slideshow": {
     "slide_type": "slide"
    }
   },
   "source": [
    "# 0. Appetizer\n",
    "\n",
    "Recognize handwritten digits using a NN in Tensorflow"
   ]
  },
  {
   "cell_type": "markdown",
   "metadata": {
    "slideshow": {
     "slide_type": "slide"
    }
   },
   "source": [
    "### Tensor\n",
    "\n",
    "-  complex mathematical map\n",
    "-  what we have to know about them:\n",
    "    - ***type***: tf.float32, tf.int64, tf.string,...\n",
    "    - ***rank***: rank 0: Scalar. rank 1: Vector. rank 2: Matrix. rank 3: 3-Tensor (Cube)...\n",
    "    - ***shape***: Number of elements in each dimension\n",
    "        - scalar has shape ( )\n",
    "        - vector has shape (N0)\n",
    "        - matrix has shape (N0,N1)"
   ]
  },
  {
   "cell_type": "markdown",
   "metadata": {
    "slideshow": {
     "slide_type": "slide"
    }
   },
   "source": [
    "### Why Tensors and not matrices?\n",
    "\n",
    "Because we don't have to define the shape of a Tensor"
   ]
  },
  {
   "cell_type": "code",
   "execution_count": 2,
   "metadata": {
    "slideshow": {
     "slide_type": "slide"
    }
   },
   "outputs": [
    {
     "name": "stdout",
     "output_type": "stream",
     "text": [
      "WARNING:tensorflow:From <ipython-input-2-c388e7809045>:8: read_data_sets (from tensorflow.contrib.learn.python.learn.datasets.mnist) is deprecated and will be removed in a future version.\n",
      "Instructions for updating:\n",
      "Please use alternatives such as official/mnist/dataset.py from tensorflow/models.\n",
      "WARNING:tensorflow:From /Library/Frameworks/Python.framework/Versions/3.7/lib/python3.7/site-packages/tensorflow/contrib/learn/python/learn/datasets/mnist.py:260: maybe_download (from tensorflow.contrib.learn.python.learn.datasets.base) is deprecated and will be removed in a future version.\n",
      "Instructions for updating:\n",
      "Please write your own downloading logic.\n",
      "WARNING:tensorflow:From /Library/Frameworks/Python.framework/Versions/3.7/lib/python3.7/site-packages/tensorflow/contrib/learn/python/learn/datasets/mnist.py:262: extract_images (from tensorflow.contrib.learn.python.learn.datasets.mnist) is deprecated and will be removed in a future version.\n",
      "Instructions for updating:\n",
      "Please use tf.data to implement this functionality.\n",
      "Extracting MNIST_data/train-images-idx3-ubyte.gz\n",
      "WARNING:tensorflow:From /Library/Frameworks/Python.framework/Versions/3.7/lib/python3.7/site-packages/tensorflow/contrib/learn/python/learn/datasets/mnist.py:267: extract_labels (from tensorflow.contrib.learn.python.learn.datasets.mnist) is deprecated and will be removed in a future version.\n",
      "Instructions for updating:\n",
      "Please use tf.data to implement this functionality.\n",
      "Extracting MNIST_data/train-labels-idx1-ubyte.gz\n",
      "WARNING:tensorflow:From /Library/Frameworks/Python.framework/Versions/3.7/lib/python3.7/site-packages/tensorflow/contrib/learn/python/learn/datasets/mnist.py:110: dense_to_one_hot (from tensorflow.contrib.learn.python.learn.datasets.mnist) is deprecated and will be removed in a future version.\n",
      "Instructions for updating:\n",
      "Please use tf.one_hot on tensors.\n",
      "Extracting MNIST_data/t10k-images-idx3-ubyte.gz\n",
      "Extracting MNIST_data/t10k-labels-idx1-ubyte.gz\n",
      "WARNING:tensorflow:From /Library/Frameworks/Python.framework/Versions/3.7/lib/python3.7/site-packages/tensorflow/contrib/learn/python/learn/datasets/mnist.py:290: DataSet.__init__ (from tensorflow.contrib.learn.python.learn.datasets.mnist) is deprecated and will be removed in a future version.\n",
      "Instructions for updating:\n",
      "Please use alternatives such as official/mnist/dataset.py from tensorflow/models.\n",
      "55000\n",
      "5000\n",
      "10000\n"
     ]
    }
   ],
   "source": [
    "################################\n",
    "## Getting started & Data Set ##\n",
    "################################\n",
    "\n",
    "import tensorflow as tf\n",
    "\n",
    "from tensorflow.examples.tutorials.mnist import input_data\n",
    "mnist = input_data.read_data_sets(\"MNIST_data/\", one_hot=True)\n",
    "#one_hot=TRUE: Conduct one-hot-encoding, i.e. the digit \"1\" [integer encoding] \n",
    "#              will be represented as (0,1,0,0,0,0,0,0,0,0).\n",
    "#              28x28 pixels are flattened into a 784 vector\n",
    "#              Grayscale of each pixel between 0 and 255 (black 255)\n",
    "\n",
    "print(mnist.train.num_examples) # #55 000 train data\n",
    "print(mnist.validation.num_examples) # #5000 validation data\n",
    "print(mnist.test.num_examples) # #10 000 test data"
   ]
  },
  {
   "cell_type": "code",
   "execution_count": 5,
   "metadata": {
    "slideshow": {
     "slide_type": "slide"
    }
   },
   "outputs": [
    {
     "data": {
      "image/png": "[encoded data removed]",
      "text/plain": [
       "<Figure size 432x288 with 1 Axes>"
      ]
     },
     "metadata": {
      "needs_background": "light"
     },
     "output_type": "display_data"
    },
    {
     "name": "stdout",
     "output_type": "stream",
     "text": [
      "8\n"
     ]
    }
   ],
   "source": [
    "##################################\n",
    "## How does the data look like? ##\n",
    "##################################\n",
    "\n",
    "import numpy as np\n",
    "import matplotlib.pyplot as plt\n",
    "\n",
    "i=800\n",
    "\n",
    "dig = np.argmax(mnist.train.labels[i,:])\n",
    "#argmax due to one-hot encoding.\n",
    "#compare to using:\n",
    "#dig = mnist.train.labels[i,:]\n",
    "\n",
    "img = np.reshape(mnist.train.images[i,:], [28,28])\n",
    "plt.imshow(img, cmap='Greys')\n",
    "plt.show()\n",
    "print(dig)"
   ]
  },
  {
   "cell_type": "code",
   "execution_count": 6,
   "metadata": {
    "slideshow": {
     "slide_type": "slide"
    }
   },
   "outputs": [],
   "source": [
    "####################\n",
    "## Architecture I ##\n",
    "####################\n",
    "\n",
    "## Single Layer NN\n",
    "n_input = 784  # input layer (28x28 pixels)\n",
    "n_output = 10  # output layer (0-9 digits)\n",
    "\n",
    "#Define 3 tensors as placeholders (tensors that we'll feed with values later)\n",
    "\n",
    "X = tf.placeholder(\"float\", [None, n_input])   #None x 784\n",
    "Y = tf.placeholder(\"float\", [None, n_output])  #None x 10"
   ]
  },
  {
   "cell_type": "code",
   "execution_count": 7,
   "metadata": {
    "slideshow": {
     "slide_type": "slide"
    }
   },
   "outputs": [],
   "source": [
    "#####################\n",
    "## Hyperparameters ##\n",
    "#####################\n",
    "\n",
    "learning_rate = 1e-4\n",
    "n_iterations = 1000\n",
    "batch_size = 128"
   ]
  },
  {
   "cell_type": "code",
   "execution_count": 8,
   "metadata": {
    "slideshow": {
     "slide_type": "slide"
    }
   },
   "outputs": [
    {
     "name": "stdout",
     "output_type": "stream",
     "text": [
      "WARNING:tensorflow:From /Library/Frameworks/Python.framework/Versions/3.7/lib/python3.7/site-packages/tensorflow/python/framework/op_def_library.py:263: colocate_with (from tensorflow.python.framework.ops) is deprecated and will be removed in a future version.\n",
      "Instructions for updating:\n",
      "Colocations handled automatically by placer.\n"
     ]
    }
   ],
   "source": [
    "#######################################\n",
    "## Architecture II & Getting Started ##\n",
    "#######################################\n",
    "\n",
    "# Initial values for Weights and Bias\n",
    "\n",
    "weights = {\n",
    "    'w1': tf.Variable(tf.truncated_normal(shape = [n_input, n_output], stddev=0.1)),\n",
    "}\n",
    "\n",
    "#weights are variables since they will be updated\n",
    "\n",
    "biases = {\n",
    "    'b1': tf.Variable(tf.constant(0.1, shape = [n_output])),\n",
    "}\n",
    "\n",
    "\n",
    "layer = tf.add(tf.matmul(X, weights['w1']) , biases['b1']) #using the identity\n",
    "\n"
   ]
  },
  {
   "cell_type": "code",
   "execution_count": 9,
   "metadata": {
    "slideshow": {
     "slide_type": "slide"
    }
   },
   "outputs": [
    {
     "name": "stdout",
     "output_type": "stream",
     "text": [
      "WARNING:tensorflow:From <ipython-input-9-2ac9569e9397>:7: softmax_cross_entropy_with_logits (from tensorflow.python.ops.nn_ops) is deprecated and will be removed in a future version.\n",
      "Instructions for updating:\n",
      "\n",
      "Future major versions of TensorFlow will allow gradients to flow\n",
      "into the labels input on backprop by default.\n",
      "\n",
      "See `tf.nn.softmax_cross_entropy_with_logits_v2`.\n",
      "\n"
     ]
    }
   ],
   "source": [
    "####################################\n",
    "## Loss Function and Optimization ##\n",
    "####################################\n",
    "\n",
    "cross_entropy = tf.reduce_mean(   \n",
    "    tf.nn.softmax_cross_entropy_with_logits(  #use cross_entropy norm\n",
    "        labels=Y, logits = layer\n",
    "        ))\n",
    "train_step = tf.train.AdamOptimizer(1e-4).minimize(cross_entropy)\n",
    "                      #use the Adam Gradient Descent Optimizer"
   ]
  },
  {
   "cell_type": "code",
   "execution_count": 10,
   "metadata": {
    "slideshow": {
     "slide_type": "slide"
    }
   },
   "outputs": [],
   "source": [
    "#####################\n",
    "## Define Accuracy ##\n",
    "#####################\n",
    "\n",
    "correct_pred = tf.equal(tf.argmax(layer, 1), tf.argmax(Y, 1))\n",
    "accuracy = tf.reduce_mean(tf.cast(correct_pred, tf.float32))"
   ]
  },
  {
   "cell_type": "code",
   "execution_count": 11,
   "metadata": {},
   "outputs": [
    {
     "name": "stdout",
     "output_type": "stream",
     "text": [
      "Iteration 0 \t Loss = 2.570116 \t Minibatch-Accuracy = 0.078125\n",
      "Iteration 100 \t Loss = 2.164329 \t Minibatch-Accuracy = 0.1953125\n",
      "Iteration 200 \t Loss = 1.8196056 \t Minibatch-Accuracy = 0.40625\n",
      "Iteration 300 \t Loss = 1.5178676 \t Minibatch-Accuracy = 0.625\n",
      "Iteration 400 \t Loss = 1.4307848 \t Minibatch-Accuracy = 0.6796875\n",
      "Iteration 500 \t Loss = 1.2642115 \t Minibatch-Accuracy = 0.6875\n",
      "Iteration 600 \t Loss = 1.1738114 \t Minibatch-Accuracy = 0.7109375\n",
      "Iteration 700 \t Loss = 1.0439711 \t Minibatch-Accuracy = 0.7734375\n",
      "Iteration 800 \t Loss = 0.96109724 \t Minibatch-Accuracy = 0.796875\n",
      "Iteration 900 \t Loss = 0.7684494 \t Minibatch-Accuracy = 0.875\n"
     ]
    }
   ],
   "source": [
    "################\n",
    "## Run the NN ##\n",
    "################\n",
    "\n",
    "init = tf.global_variables_initializer()\n",
    "sess = tf.Session()\n",
    "sess.run(init)\n",
    "\n",
    "for i in range(n_iterations):\n",
    "    batch_x, batch_y = mnist.train.next_batch(batch_size)\n",
    "    sess.run(train_step, feed_dict={\n",
    "        X: batch_x, Y: batch_y\n",
    "        })\n",
    "\n",
    "    # print loss and accuracy (per minibatch)\n",
    "    if i % 100 == 0:\n",
    "        minibatch_loss, minibatch_accuracy = sess.run(\n",
    "            [cross_entropy, accuracy],\n",
    "            feed_dict={X: batch_x, Y: batch_y}\n",
    "            )\n",
    "        print(\n",
    "            \"Iteration\",\n",
    "            str(i),\n",
    "            \"\\t Loss =\",\n",
    "            str(minibatch_loss),\n",
    "            \"\\t Minibatch-Accuracy =\",\n",
    "            str(minibatch_accuracy)\n",
    "            )"
   ]
  },
  {
   "cell_type": "code",
   "execution_count": 13,
   "metadata": {},
   "outputs": [
    {
     "name": "stdout",
     "output_type": "stream",
     "text": [
      "\n",
      "Accuracy on test data: 0.8185\n"
     ]
    }
   ],
   "source": [
    "###########################\n",
    "## Accuracy on test data ##\n",
    "###########################\n",
    "\n",
    "test_accuracy = sess.run(accuracy, feed_dict={X: mnist.test.images, Y: mnist.test.labels})\n",
    "print(\"\\nAccuracy on test data:\", test_accuracy)"
   ]
  },
  {
   "cell_type": "code",
   "execution_count": 19,
   "metadata": {},
   "outputs": [
    {
     "data": {
      "image/png": "[encoded data removed]",
      "text/plain": [
       "<Figure size 432x288 with 1 Axes>"
      ]
     },
     "metadata": {
      "needs_background": "light"
     },
     "output_type": "display_data"
    },
    {
     "name": "stdout",
     "output_type": "stream",
     "text": [
      "Prediction: 4\n"
     ]
    }
   ],
   "source": [
    "#######################################\n",
    "## Checking the performance manually ##\n",
    "#######################################\n",
    "\n",
    "test_digit = 22\n",
    "\n",
    "img = np.reshape(mnist.test.images[test_digit,:], [28,28])\n",
    "plt.imshow(img, cmap='Greys')\n",
    "plt.show()\n",
    "\n",
    "#dig = np.argmax(mnist.test.labels[test_digit,:])\n",
    "#print(dig)\n",
    "\n",
    "prediction = sess.run(tf.argmax(layer, 1), feed_dict={X: mnist.test.images})\n",
    "print (\"Prediction:\", np.squeeze(prediction)[test_digit])"
   ]
  },
  {
   "cell_type": "code",
   "execution_count": null,
   "metadata": {},
   "outputs": [],
   "source": []
  }
 ],
 "metadata": {
  "celltoolbar": "Slideshow",
  "kernelspec": {
   "display_name": "Python 3",
   "language": "python",
   "name": "python3"
  },
  "language_info": {
   "codemirror_mode": {
    "name": "ipython",
    "version": 3
   },
   "file_extension": ".py",
   "mimetype": "text/x-python",
   "name": "python",
   "nbconvert_exporter": "python",
   "pygments_lexer": "ipython3",
   "version": "3.7.3"
  }
 },
 "nbformat": 4,
 "nbformat_minor": 2
}
